{
 "cells": [
  {
   "cell_type": "markdown",
   "id": "5ebac6e8",
   "metadata": {},
   "source": [
    "#### Problem Statement -  Is to perform exploratory analysis in order to gain insights into the primary factors influencing customer churn.we will develop a Deep learning model to accurately predict customer churn."
   ]
  },
  {
   "cell_type": "code",
   "execution_count": 7,
   "id": "1468bf1a",
   "metadata": {},
   "outputs": [],
   "source": [
    "import pandas as pd\n",
    "import numpy as np\n",
    "import matplotlib.pyplot as plt\n",
    "import seaborn as sns"
   ]
  },
  {
   "cell_type": "code",
   "execution_count": 8,
   "id": "829c68c1",
   "metadata": {},
   "outputs": [
    {
     "data": {
      "text/html": [
       "<div>\n",
       "<style scoped>\n",
       "    .dataframe tbody tr th:only-of-type {\n",
       "        vertical-align: middle;\n",
       "    }\n",
       "\n",
       "    .dataframe tbody tr th {\n",
       "        vertical-align: top;\n",
       "    }\n",
       "\n",
       "    .dataframe thead th {\n",
       "        text-align: right;\n",
       "    }\n",
       "</style>\n",
       "<table border=\"1\" class=\"dataframe\">\n",
       "  <thead>\n",
       "    <tr style=\"text-align: right;\">\n",
       "      <th></th>\n",
       "      <th>RowNumber</th>\n",
       "      <th>CustomerId</th>\n",
       "      <th>Surname</th>\n",
       "      <th>CreditScore</th>\n",
       "      <th>Geography</th>\n",
       "      <th>Gender</th>\n",
       "      <th>Age</th>\n",
       "      <th>Tenure</th>\n",
       "      <th>Balance</th>\n",
       "      <th>NumOfProducts</th>\n",
       "      <th>HasCrCard</th>\n",
       "      <th>IsActiveMember</th>\n",
       "      <th>EstimatedSalary</th>\n",
       "      <th>Exited</th>\n",
       "      <th>Complain</th>\n",
       "      <th>Satisfaction Score</th>\n",
       "      <th>Card Type</th>\n",
       "      <th>Point Earned</th>\n",
       "    </tr>\n",
       "  </thead>\n",
       "  <tbody>\n",
       "    <tr>\n",
       "      <th>0</th>\n",
       "      <td>1</td>\n",
       "      <td>15634602</td>\n",
       "      <td>Hargrave</td>\n",
       "      <td>619</td>\n",
       "      <td>France</td>\n",
       "      <td>Female</td>\n",
       "      <td>42</td>\n",
       "      <td>2</td>\n",
       "      <td>0.00</td>\n",
       "      <td>1</td>\n",
       "      <td>1</td>\n",
       "      <td>1</td>\n",
       "      <td>101348.88</td>\n",
       "      <td>1</td>\n",
       "      <td>1</td>\n",
       "      <td>2</td>\n",
       "      <td>DIAMOND</td>\n",
       "      <td>464</td>\n",
       "    </tr>\n",
       "    <tr>\n",
       "      <th>1</th>\n",
       "      <td>2</td>\n",
       "      <td>15647311</td>\n",
       "      <td>Hill</td>\n",
       "      <td>608</td>\n",
       "      <td>Spain</td>\n",
       "      <td>Female</td>\n",
       "      <td>41</td>\n",
       "      <td>1</td>\n",
       "      <td>83807.86</td>\n",
       "      <td>1</td>\n",
       "      <td>0</td>\n",
       "      <td>1</td>\n",
       "      <td>112542.58</td>\n",
       "      <td>0</td>\n",
       "      <td>1</td>\n",
       "      <td>3</td>\n",
       "      <td>DIAMOND</td>\n",
       "      <td>456</td>\n",
       "    </tr>\n",
       "    <tr>\n",
       "      <th>2</th>\n",
       "      <td>3</td>\n",
       "      <td>15619304</td>\n",
       "      <td>Onio</td>\n",
       "      <td>502</td>\n",
       "      <td>France</td>\n",
       "      <td>Female</td>\n",
       "      <td>42</td>\n",
       "      <td>8</td>\n",
       "      <td>159660.80</td>\n",
       "      <td>3</td>\n",
       "      <td>1</td>\n",
       "      <td>0</td>\n",
       "      <td>113931.57</td>\n",
       "      <td>1</td>\n",
       "      <td>1</td>\n",
       "      <td>3</td>\n",
       "      <td>DIAMOND</td>\n",
       "      <td>377</td>\n",
       "    </tr>\n",
       "    <tr>\n",
       "      <th>3</th>\n",
       "      <td>4</td>\n",
       "      <td>15701354</td>\n",
       "      <td>Boni</td>\n",
       "      <td>699</td>\n",
       "      <td>France</td>\n",
       "      <td>Female</td>\n",
       "      <td>39</td>\n",
       "      <td>1</td>\n",
       "      <td>0.00</td>\n",
       "      <td>2</td>\n",
       "      <td>0</td>\n",
       "      <td>0</td>\n",
       "      <td>93826.63</td>\n",
       "      <td>0</td>\n",
       "      <td>0</td>\n",
       "      <td>5</td>\n",
       "      <td>GOLD</td>\n",
       "      <td>350</td>\n",
       "    </tr>\n",
       "    <tr>\n",
       "      <th>4</th>\n",
       "      <td>5</td>\n",
       "      <td>15737888</td>\n",
       "      <td>Mitchell</td>\n",
       "      <td>850</td>\n",
       "      <td>Spain</td>\n",
       "      <td>Female</td>\n",
       "      <td>43</td>\n",
       "      <td>2</td>\n",
       "      <td>125510.82</td>\n",
       "      <td>1</td>\n",
       "      <td>1</td>\n",
       "      <td>1</td>\n",
       "      <td>79084.10</td>\n",
       "      <td>0</td>\n",
       "      <td>0</td>\n",
       "      <td>5</td>\n",
       "      <td>GOLD</td>\n",
       "      <td>425</td>\n",
       "    </tr>\n",
       "  </tbody>\n",
       "</table>\n",
       "</div>"
      ],
      "text/plain": [
       "   RowNumber  CustomerId   Surname  CreditScore Geography  Gender  Age  \\\n",
       "0          1    15634602  Hargrave          619    France  Female   42   \n",
       "1          2    15647311      Hill          608     Spain  Female   41   \n",
       "2          3    15619304      Onio          502    France  Female   42   \n",
       "3          4    15701354      Boni          699    France  Female   39   \n",
       "4          5    15737888  Mitchell          850     Spain  Female   43   \n",
       "\n",
       "   Tenure    Balance  NumOfProducts  HasCrCard  IsActiveMember  \\\n",
       "0       2       0.00              1          1               1   \n",
       "1       1   83807.86              1          0               1   \n",
       "2       8  159660.80              3          1               0   \n",
       "3       1       0.00              2          0               0   \n",
       "4       2  125510.82              1          1               1   \n",
       "\n",
       "   EstimatedSalary  Exited  Complain  Satisfaction Score Card Type  \\\n",
       "0        101348.88       1         1                   2   DIAMOND   \n",
       "1        112542.58       0         1                   3   DIAMOND   \n",
       "2        113931.57       1         1                   3   DIAMOND   \n",
       "3         93826.63       0         0                   5      GOLD   \n",
       "4         79084.10       0         0                   5      GOLD   \n",
       "\n",
       "   Point Earned  \n",
       "0           464  \n",
       "1           456  \n",
       "2           377  \n",
       "3           350  \n",
       "4           425  "
      ]
     },
     "execution_count": 8,
     "metadata": {},
     "output_type": "execute_result"
    }
   ],
   "source": [
    "df = pd.read_csv(r\"C:\\Users\\Mohsin\\Downloads\\Customer-Churn-Records.csv\")\n",
    "df.head()"
   ]
  },
  {
   "cell_type": "code",
   "execution_count": 9,
   "id": "f1d99f79",
   "metadata": {},
   "outputs": [
    {
     "data": {
      "text/plain": [
       "(10000, 18)"
      ]
     },
     "execution_count": 9,
     "metadata": {},
     "output_type": "execute_result"
    }
   ],
   "source": [
    "df.shape"
   ]
  },
  {
   "cell_type": "code",
   "execution_count": 10,
   "id": "e794276b",
   "metadata": {
    "scrolled": false
   },
   "outputs": [
    {
     "data": {
      "text/plain": [
       "Index(['RowNumber', 'CustomerId', 'Surname', 'CreditScore', 'Geography',\n",
       "       'Gender', 'Age', 'Tenure', 'Balance', 'NumOfProducts', 'HasCrCard',\n",
       "       'IsActiveMember', 'EstimatedSalary', 'Exited', 'Complain',\n",
       "       'Satisfaction Score', 'Card Type', 'Point Earned'],\n",
       "      dtype='object')"
      ]
     },
     "execution_count": 10,
     "metadata": {},
     "output_type": "execute_result"
    }
   ],
   "source": [
    "df.columns"
   ]
  },
  {
   "cell_type": "code",
   "execution_count": 11,
   "id": "815a4cb6",
   "metadata": {},
   "outputs": [
    {
     "data": {
      "text/html": [
       "<div>\n",
       "<style scoped>\n",
       "    .dataframe tbody tr th:only-of-type {\n",
       "        vertical-align: middle;\n",
       "    }\n",
       "\n",
       "    .dataframe tbody tr th {\n",
       "        vertical-align: top;\n",
       "    }\n",
       "\n",
       "    .dataframe thead th {\n",
       "        text-align: right;\n",
       "    }\n",
       "</style>\n",
       "<table border=\"1\" class=\"dataframe\">\n",
       "  <thead>\n",
       "    <tr style=\"text-align: right;\">\n",
       "      <th></th>\n",
       "      <th>RowNumber</th>\n",
       "      <th>CustomerId</th>\n",
       "      <th>Surname</th>\n",
       "      <th>CreditScore</th>\n",
       "      <th>Geography</th>\n",
       "      <th>Gender</th>\n",
       "      <th>Age</th>\n",
       "      <th>Tenure</th>\n",
       "      <th>Balance</th>\n",
       "      <th>NumOfProducts</th>\n",
       "      <th>HasCrCard</th>\n",
       "      <th>IsActiveMember</th>\n",
       "      <th>EstimatedSalary</th>\n",
       "      <th>Complain</th>\n",
       "      <th>Satisfaction Score</th>\n",
       "      <th>Card Type</th>\n",
       "      <th>Point Earned</th>\n",
       "      <th>Exited</th>\n",
       "    </tr>\n",
       "  </thead>\n",
       "  <tbody>\n",
       "    <tr>\n",
       "      <th>0</th>\n",
       "      <td>1</td>\n",
       "      <td>15634602</td>\n",
       "      <td>Hargrave</td>\n",
       "      <td>619</td>\n",
       "      <td>France</td>\n",
       "      <td>Female</td>\n",
       "      <td>42</td>\n",
       "      <td>2</td>\n",
       "      <td>0.00</td>\n",
       "      <td>1</td>\n",
       "      <td>1</td>\n",
       "      <td>1</td>\n",
       "      <td>101348.88</td>\n",
       "      <td>1</td>\n",
       "      <td>2</td>\n",
       "      <td>DIAMOND</td>\n",
       "      <td>464</td>\n",
       "      <td>1</td>\n",
       "    </tr>\n",
       "    <tr>\n",
       "      <th>1</th>\n",
       "      <td>2</td>\n",
       "      <td>15647311</td>\n",
       "      <td>Hill</td>\n",
       "      <td>608</td>\n",
       "      <td>Spain</td>\n",
       "      <td>Female</td>\n",
       "      <td>41</td>\n",
       "      <td>1</td>\n",
       "      <td>83807.86</td>\n",
       "      <td>1</td>\n",
       "      <td>0</td>\n",
       "      <td>1</td>\n",
       "      <td>112542.58</td>\n",
       "      <td>1</td>\n",
       "      <td>3</td>\n",
       "      <td>DIAMOND</td>\n",
       "      <td>456</td>\n",
       "      <td>0</td>\n",
       "    </tr>\n",
       "    <tr>\n",
       "      <th>2</th>\n",
       "      <td>3</td>\n",
       "      <td>15619304</td>\n",
       "      <td>Onio</td>\n",
       "      <td>502</td>\n",
       "      <td>France</td>\n",
       "      <td>Female</td>\n",
       "      <td>42</td>\n",
       "      <td>8</td>\n",
       "      <td>159660.80</td>\n",
       "      <td>3</td>\n",
       "      <td>1</td>\n",
       "      <td>0</td>\n",
       "      <td>113931.57</td>\n",
       "      <td>1</td>\n",
       "      <td>3</td>\n",
       "      <td>DIAMOND</td>\n",
       "      <td>377</td>\n",
       "      <td>1</td>\n",
       "    </tr>\n",
       "    <tr>\n",
       "      <th>3</th>\n",
       "      <td>4</td>\n",
       "      <td>15701354</td>\n",
       "      <td>Boni</td>\n",
       "      <td>699</td>\n",
       "      <td>France</td>\n",
       "      <td>Female</td>\n",
       "      <td>39</td>\n",
       "      <td>1</td>\n",
       "      <td>0.00</td>\n",
       "      <td>2</td>\n",
       "      <td>0</td>\n",
       "      <td>0</td>\n",
       "      <td>93826.63</td>\n",
       "      <td>0</td>\n",
       "      <td>5</td>\n",
       "      <td>GOLD</td>\n",
       "      <td>350</td>\n",
       "      <td>0</td>\n",
       "    </tr>\n",
       "    <tr>\n",
       "      <th>4</th>\n",
       "      <td>5</td>\n",
       "      <td>15737888</td>\n",
       "      <td>Mitchell</td>\n",
       "      <td>850</td>\n",
       "      <td>Spain</td>\n",
       "      <td>Female</td>\n",
       "      <td>43</td>\n",
       "      <td>2</td>\n",
       "      <td>125510.82</td>\n",
       "      <td>1</td>\n",
       "      <td>1</td>\n",
       "      <td>1</td>\n",
       "      <td>79084.10</td>\n",
       "      <td>0</td>\n",
       "      <td>5</td>\n",
       "      <td>GOLD</td>\n",
       "      <td>425</td>\n",
       "      <td>0</td>\n",
       "    </tr>\n",
       "  </tbody>\n",
       "</table>\n",
       "</div>"
      ],
      "text/plain": [
       "   RowNumber  CustomerId   Surname  CreditScore Geography  Gender  Age  \\\n",
       "0          1    15634602  Hargrave          619    France  Female   42   \n",
       "1          2    15647311      Hill          608     Spain  Female   41   \n",
       "2          3    15619304      Onio          502    France  Female   42   \n",
       "3          4    15701354      Boni          699    France  Female   39   \n",
       "4          5    15737888  Mitchell          850     Spain  Female   43   \n",
       "\n",
       "   Tenure    Balance  NumOfProducts  HasCrCard  IsActiveMember  \\\n",
       "0       2       0.00              1          1               1   \n",
       "1       1   83807.86              1          0               1   \n",
       "2       8  159660.80              3          1               0   \n",
       "3       1       0.00              2          0               0   \n",
       "4       2  125510.82              1          1               1   \n",
       "\n",
       "   EstimatedSalary  Complain  Satisfaction Score Card Type  Point Earned  \\\n",
       "0        101348.88         1                   2   DIAMOND           464   \n",
       "1        112542.58         1                   3   DIAMOND           456   \n",
       "2        113931.57         1                   3   DIAMOND           377   \n",
       "3         93826.63         0                   5      GOLD           350   \n",
       "4         79084.10         0                   5      GOLD           425   \n",
       "\n",
       "   Exited  \n",
       "0       1  \n",
       "1       0  \n",
       "2       1  \n",
       "3       0  \n",
       "4       0  "
      ]
     },
     "execution_count": 11,
     "metadata": {},
     "output_type": "execute_result"
    }
   ],
   "source": [
    "df = df.reindex(columns=['RowNumber', 'CustomerId', 'Surname','CreditScore', 'Geography', 'Gender', 'Age', 'Tenure', 'Balance','NumOfProducts', 'HasCrCard', 'IsActiveMember', 'EstimatedSalary', 'Complain', 'Satisfaction Score', 'Card Type','Point Earned','Exited'])\n",
    "df.head()"
   ]
  },
  {
   "cell_type": "code",
   "execution_count": 12,
   "id": "923a4cc9",
   "metadata": {},
   "outputs": [
    {
     "data": {
      "text/plain": [
       "(10000, 18)"
      ]
     },
     "execution_count": 12,
     "metadata": {},
     "output_type": "execute_result"
    }
   ],
   "source": [
    "df.shape"
   ]
  },
  {
   "cell_type": "markdown",
   "id": "c22ae864",
   "metadata": {},
   "source": [
    "#### Checking the columns with datatypes"
   ]
  },
  {
   "cell_type": "code",
   "execution_count": 13,
   "id": "99bd9b1d",
   "metadata": {},
   "outputs": [
    {
     "name": "stdout",
     "output_type": "stream",
     "text": [
      "<class 'pandas.core.frame.DataFrame'>\n",
      "RangeIndex: 10000 entries, 0 to 9999\n",
      "Data columns (total 18 columns):\n",
      " #   Column              Non-Null Count  Dtype  \n",
      "---  ------              --------------  -----  \n",
      " 0   RowNumber           10000 non-null  int64  \n",
      " 1   CustomerId          10000 non-null  int64  \n",
      " 2   Surname             10000 non-null  object \n",
      " 3   CreditScore         10000 non-null  int64  \n",
      " 4   Geography           10000 non-null  object \n",
      " 5   Gender              10000 non-null  object \n",
      " 6   Age                 10000 non-null  int64  \n",
      " 7   Tenure              10000 non-null  int64  \n",
      " 8   Balance             10000 non-null  float64\n",
      " 9   NumOfProducts       10000 non-null  int64  \n",
      " 10  HasCrCard           10000 non-null  int64  \n",
      " 11  IsActiveMember      10000 non-null  int64  \n",
      " 12  EstimatedSalary     10000 non-null  float64\n",
      " 13  Complain            10000 non-null  int64  \n",
      " 14  Satisfaction Score  10000 non-null  int64  \n",
      " 15  Card Type           10000 non-null  object \n",
      " 16  Point Earned        10000 non-null  int64  \n",
      " 17  Exited              10000 non-null  int64  \n",
      "dtypes: float64(2), int64(12), object(4)\n",
      "memory usage: 1.4+ MB\n"
     ]
    }
   ],
   "source": [
    "df.info()"
   ]
  },
  {
   "cell_type": "code",
   "execution_count": 14,
   "id": "fc095536",
   "metadata": {},
   "outputs": [
    {
     "data": {
      "text/html": [
       "<div>\n",
       "<style scoped>\n",
       "    .dataframe tbody tr th:only-of-type {\n",
       "        vertical-align: middle;\n",
       "    }\n",
       "\n",
       "    .dataframe tbody tr th {\n",
       "        vertical-align: top;\n",
       "    }\n",
       "\n",
       "    .dataframe thead th {\n",
       "        text-align: right;\n",
       "    }\n",
       "</style>\n",
       "<table border=\"1\" class=\"dataframe\">\n",
       "  <thead>\n",
       "    <tr style=\"text-align: right;\">\n",
       "      <th></th>\n",
       "      <th>RowNumber</th>\n",
       "      <th>CustomerId</th>\n",
       "      <th>CreditScore</th>\n",
       "      <th>Age</th>\n",
       "      <th>Tenure</th>\n",
       "      <th>Balance</th>\n",
       "      <th>NumOfProducts</th>\n",
       "      <th>HasCrCard</th>\n",
       "      <th>IsActiveMember</th>\n",
       "      <th>EstimatedSalary</th>\n",
       "      <th>Complain</th>\n",
       "      <th>Satisfaction Score</th>\n",
       "      <th>Point Earned</th>\n",
       "      <th>Exited</th>\n",
       "    </tr>\n",
       "  </thead>\n",
       "  <tbody>\n",
       "    <tr>\n",
       "      <th>count</th>\n",
       "      <td>10000.00000</td>\n",
       "      <td>1.000000e+04</td>\n",
       "      <td>10000.000000</td>\n",
       "      <td>10000.000000</td>\n",
       "      <td>10000.000000</td>\n",
       "      <td>10000.000000</td>\n",
       "      <td>10000.000000</td>\n",
       "      <td>10000.00000</td>\n",
       "      <td>10000.000000</td>\n",
       "      <td>10000.000000</td>\n",
       "      <td>10000.000000</td>\n",
       "      <td>10000.000000</td>\n",
       "      <td>10000.000000</td>\n",
       "      <td>10000.000000</td>\n",
       "    </tr>\n",
       "    <tr>\n",
       "      <th>mean</th>\n",
       "      <td>5000.50000</td>\n",
       "      <td>1.569094e+07</td>\n",
       "      <td>650.528800</td>\n",
       "      <td>38.921800</td>\n",
       "      <td>5.012800</td>\n",
       "      <td>76485.889288</td>\n",
       "      <td>1.530200</td>\n",
       "      <td>0.70550</td>\n",
       "      <td>0.515100</td>\n",
       "      <td>100090.239881</td>\n",
       "      <td>0.204400</td>\n",
       "      <td>3.013800</td>\n",
       "      <td>606.515100</td>\n",
       "      <td>0.203800</td>\n",
       "    </tr>\n",
       "    <tr>\n",
       "      <th>std</th>\n",
       "      <td>2886.89568</td>\n",
       "      <td>7.193619e+04</td>\n",
       "      <td>96.653299</td>\n",
       "      <td>10.487806</td>\n",
       "      <td>2.892174</td>\n",
       "      <td>62397.405202</td>\n",
       "      <td>0.581654</td>\n",
       "      <td>0.45584</td>\n",
       "      <td>0.499797</td>\n",
       "      <td>57510.492818</td>\n",
       "      <td>0.403283</td>\n",
       "      <td>1.405919</td>\n",
       "      <td>225.924839</td>\n",
       "      <td>0.402842</td>\n",
       "    </tr>\n",
       "    <tr>\n",
       "      <th>min</th>\n",
       "      <td>1.00000</td>\n",
       "      <td>1.556570e+07</td>\n",
       "      <td>350.000000</td>\n",
       "      <td>18.000000</td>\n",
       "      <td>0.000000</td>\n",
       "      <td>0.000000</td>\n",
       "      <td>1.000000</td>\n",
       "      <td>0.00000</td>\n",
       "      <td>0.000000</td>\n",
       "      <td>11.580000</td>\n",
       "      <td>0.000000</td>\n",
       "      <td>1.000000</td>\n",
       "      <td>119.000000</td>\n",
       "      <td>0.000000</td>\n",
       "    </tr>\n",
       "    <tr>\n",
       "      <th>25%</th>\n",
       "      <td>2500.75000</td>\n",
       "      <td>1.562853e+07</td>\n",
       "      <td>584.000000</td>\n",
       "      <td>32.000000</td>\n",
       "      <td>3.000000</td>\n",
       "      <td>0.000000</td>\n",
       "      <td>1.000000</td>\n",
       "      <td>0.00000</td>\n",
       "      <td>0.000000</td>\n",
       "      <td>51002.110000</td>\n",
       "      <td>0.000000</td>\n",
       "      <td>2.000000</td>\n",
       "      <td>410.000000</td>\n",
       "      <td>0.000000</td>\n",
       "    </tr>\n",
       "    <tr>\n",
       "      <th>50%</th>\n",
       "      <td>5000.50000</td>\n",
       "      <td>1.569074e+07</td>\n",
       "      <td>652.000000</td>\n",
       "      <td>37.000000</td>\n",
       "      <td>5.000000</td>\n",
       "      <td>97198.540000</td>\n",
       "      <td>1.000000</td>\n",
       "      <td>1.00000</td>\n",
       "      <td>1.000000</td>\n",
       "      <td>100193.915000</td>\n",
       "      <td>0.000000</td>\n",
       "      <td>3.000000</td>\n",
       "      <td>605.000000</td>\n",
       "      <td>0.000000</td>\n",
       "    </tr>\n",
       "    <tr>\n",
       "      <th>75%</th>\n",
       "      <td>7500.25000</td>\n",
       "      <td>1.575323e+07</td>\n",
       "      <td>718.000000</td>\n",
       "      <td>44.000000</td>\n",
       "      <td>7.000000</td>\n",
       "      <td>127644.240000</td>\n",
       "      <td>2.000000</td>\n",
       "      <td>1.00000</td>\n",
       "      <td>1.000000</td>\n",
       "      <td>149388.247500</td>\n",
       "      <td>0.000000</td>\n",
       "      <td>4.000000</td>\n",
       "      <td>801.000000</td>\n",
       "      <td>0.000000</td>\n",
       "    </tr>\n",
       "    <tr>\n",
       "      <th>max</th>\n",
       "      <td>10000.00000</td>\n",
       "      <td>1.581569e+07</td>\n",
       "      <td>850.000000</td>\n",
       "      <td>92.000000</td>\n",
       "      <td>10.000000</td>\n",
       "      <td>250898.090000</td>\n",
       "      <td>4.000000</td>\n",
       "      <td>1.00000</td>\n",
       "      <td>1.000000</td>\n",
       "      <td>199992.480000</td>\n",
       "      <td>1.000000</td>\n",
       "      <td>5.000000</td>\n",
       "      <td>1000.000000</td>\n",
       "      <td>1.000000</td>\n",
       "    </tr>\n",
       "  </tbody>\n",
       "</table>\n",
       "</div>"
      ],
      "text/plain": [
       "         RowNumber    CustomerId   CreditScore           Age        Tenure  \\\n",
       "count  10000.00000  1.000000e+04  10000.000000  10000.000000  10000.000000   \n",
       "mean    5000.50000  1.569094e+07    650.528800     38.921800      5.012800   \n",
       "std     2886.89568  7.193619e+04     96.653299     10.487806      2.892174   \n",
       "min        1.00000  1.556570e+07    350.000000     18.000000      0.000000   \n",
       "25%     2500.75000  1.562853e+07    584.000000     32.000000      3.000000   \n",
       "50%     5000.50000  1.569074e+07    652.000000     37.000000      5.000000   \n",
       "75%     7500.25000  1.575323e+07    718.000000     44.000000      7.000000   \n",
       "max    10000.00000  1.581569e+07    850.000000     92.000000     10.000000   \n",
       "\n",
       "             Balance  NumOfProducts    HasCrCard  IsActiveMember  \\\n",
       "count   10000.000000   10000.000000  10000.00000    10000.000000   \n",
       "mean    76485.889288       1.530200      0.70550        0.515100   \n",
       "std     62397.405202       0.581654      0.45584        0.499797   \n",
       "min         0.000000       1.000000      0.00000        0.000000   \n",
       "25%         0.000000       1.000000      0.00000        0.000000   \n",
       "50%     97198.540000       1.000000      1.00000        1.000000   \n",
       "75%    127644.240000       2.000000      1.00000        1.000000   \n",
       "max    250898.090000       4.000000      1.00000        1.000000   \n",
       "\n",
       "       EstimatedSalary      Complain  Satisfaction Score  Point Earned  \\\n",
       "count     10000.000000  10000.000000        10000.000000  10000.000000   \n",
       "mean     100090.239881      0.204400            3.013800    606.515100   \n",
       "std       57510.492818      0.403283            1.405919    225.924839   \n",
       "min          11.580000      0.000000            1.000000    119.000000   \n",
       "25%       51002.110000      0.000000            2.000000    410.000000   \n",
       "50%      100193.915000      0.000000            3.000000    605.000000   \n",
       "75%      149388.247500      0.000000            4.000000    801.000000   \n",
       "max      199992.480000      1.000000            5.000000   1000.000000   \n",
       "\n",
       "             Exited  \n",
       "count  10000.000000  \n",
       "mean       0.203800  \n",
       "std        0.402842  \n",
       "min        0.000000  \n",
       "25%        0.000000  \n",
       "50%        0.000000  \n",
       "75%        0.000000  \n",
       "max        1.000000  "
      ]
     },
     "execution_count": 14,
     "metadata": {},
     "output_type": "execute_result"
    }
   ],
   "source": [
    "df.describe()"
   ]
  },
  {
   "cell_type": "markdown",
   "id": "d500a3ac",
   "metadata": {},
   "source": [
    "#### Checking missing values"
   ]
  },
  {
   "cell_type": "code",
   "execution_count": 15,
   "id": "90587892",
   "metadata": {},
   "outputs": [
    {
     "data": {
      "text/plain": [
       "RowNumber             0\n",
       "CustomerId            0\n",
       "Surname               0\n",
       "CreditScore           0\n",
       "Geography             0\n",
       "Gender                0\n",
       "Age                   0\n",
       "Tenure                0\n",
       "Balance               0\n",
       "NumOfProducts         0\n",
       "HasCrCard             0\n",
       "IsActiveMember        0\n",
       "EstimatedSalary       0\n",
       "Complain              0\n",
       "Satisfaction Score    0\n",
       "Card Type             0\n",
       "Point Earned          0\n",
       "Exited                0\n",
       "dtype: int64"
      ]
     },
     "execution_count": 15,
     "metadata": {},
     "output_type": "execute_result"
    }
   ],
   "source": [
    "df.isna().sum()"
   ]
  },
  {
   "cell_type": "code",
   "execution_count": 16,
   "id": "4e2a73ad",
   "metadata": {},
   "outputs": [
    {
     "data": {
      "text/plain": [
       "RowNumber             0\n",
       "CustomerId            0\n",
       "Surname               0\n",
       "CreditScore           0\n",
       "Geography             0\n",
       "Gender                0\n",
       "Age                   0\n",
       "Tenure                0\n",
       "Balance               0\n",
       "NumOfProducts         0\n",
       "HasCrCard             0\n",
       "IsActiveMember        0\n",
       "EstimatedSalary       0\n",
       "Complain              0\n",
       "Satisfaction Score    0\n",
       "Card Type             0\n",
       "Point Earned          0\n",
       "Exited                0\n",
       "dtype: int64"
      ]
     },
     "execution_count": 16,
     "metadata": {},
     "output_type": "execute_result"
    }
   ],
   "source": [
    "df.isnull().sum()"
   ]
  },
  {
   "cell_type": "markdown",
   "id": "3b3ec2cb",
   "metadata": {},
   "source": [
    "#### In our dataset we have zero null values"
   ]
  },
  {
   "cell_type": "markdown",
   "id": "dbce2bca",
   "metadata": {},
   "source": [
    "### Checking the Duplicates"
   ]
  },
  {
   "cell_type": "code",
   "execution_count": 17,
   "id": "a901469b",
   "metadata": {},
   "outputs": [
    {
     "data": {
      "text/plain": [
       "0"
      ]
     },
     "execution_count": 17,
     "metadata": {},
     "output_type": "execute_result"
    }
   ],
   "source": [
    "df.duplicated().sum()"
   ]
  },
  {
   "cell_type": "code",
   "execution_count": 18,
   "id": "93fc2996",
   "metadata": {},
   "outputs": [
    {
     "data": {
      "text/html": [
       "<div>\n",
       "<style scoped>\n",
       "    .dataframe tbody tr th:only-of-type {\n",
       "        vertical-align: middle;\n",
       "    }\n",
       "\n",
       "    .dataframe tbody tr th {\n",
       "        vertical-align: top;\n",
       "    }\n",
       "\n",
       "    .dataframe thead th {\n",
       "        text-align: right;\n",
       "    }\n",
       "</style>\n",
       "<table border=\"1\" class=\"dataframe\">\n",
       "  <thead>\n",
       "    <tr style=\"text-align: right;\">\n",
       "      <th></th>\n",
       "      <th>RowNumber</th>\n",
       "      <th>CustomerId</th>\n",
       "      <th>Surname</th>\n",
       "      <th>CreditScore</th>\n",
       "      <th>Geography</th>\n",
       "      <th>Gender</th>\n",
       "      <th>Age</th>\n",
       "      <th>Tenure</th>\n",
       "      <th>Balance</th>\n",
       "      <th>NumOfProducts</th>\n",
       "      <th>HasCrCard</th>\n",
       "      <th>IsActiveMember</th>\n",
       "      <th>EstimatedSalary</th>\n",
       "      <th>Complain</th>\n",
       "      <th>Satisfaction Score</th>\n",
       "      <th>Card Type</th>\n",
       "      <th>Point Earned</th>\n",
       "      <th>Exited</th>\n",
       "    </tr>\n",
       "  </thead>\n",
       "  <tbody>\n",
       "  </tbody>\n",
       "</table>\n",
       "</div>"
      ],
      "text/plain": [
       "Empty DataFrame\n",
       "Columns: [RowNumber, CustomerId, Surname, CreditScore, Geography, Gender, Age, Tenure, Balance, NumOfProducts, HasCrCard, IsActiveMember, EstimatedSalary, Complain, Satisfaction Score, Card Type, Point Earned, Exited]\n",
       "Index: []"
      ]
     },
     "execution_count": 18,
     "metadata": {},
     "output_type": "execute_result"
    }
   ],
   "source": [
    "df[df.duplicated()]"
   ]
  },
  {
   "cell_type": "markdown",
   "id": "0c206dd9",
   "metadata": {},
   "source": [
    "#### There is no Duplicates in this dataset "
   ]
  },
  {
   "cell_type": "markdown",
   "id": "bb4328d8",
   "metadata": {},
   "source": [
    "### Univariate "
   ]
  },
  {
   "cell_type": "markdown",
   "id": "ea48e348",
   "metadata": {},
   "source": [
    "#### Checking Outliers  "
   ]
  },
  {
   "cell_type": "code",
   "execution_count": 19,
   "id": "b9a8b435",
   "metadata": {},
   "outputs": [],
   "source": [
    "def univariate(i):\n",
    "    if i.dtypes != \"object\":\n",
    "        i.plot(kind=\"box\")\n",
    "        plt.title(\"box plot\")\n",
    "        plt.show()"
   ]
  },
  {
   "cell_type": "code",
   "execution_count": 20,
   "id": "e00e1b57",
   "metadata": {},
   "outputs": [
    {
     "data": {
      "image/png": "[encoded data removed]",
      "text/plain": [
       "<Figure size 640x480 with 1 Axes>"
      ]
     },
     "metadata": {},
     "output_type": "display_data"
    }
   ],
   "source": [
    "univariate(df[\"CreditScore\"])"
   ]
  },
  {
   "cell_type": "markdown",
   "id": "82b15835",
   "metadata": {},
   "source": [
    "#### Found outliers in CreditScore column "
   ]
  },
  {
   "cell_type": "code",
   "execution_count": 21,
   "id": "57cd2b97",
   "metadata": {},
   "outputs": [],
   "source": [
    "# Treating outlier with IQR"
   ]
  },
  {
   "cell_type": "code",
   "execution_count": 22,
   "id": "deacdc0f",
   "metadata": {},
   "outputs": [
    {
     "name": "stdout",
     "output_type": "stream",
     "text": [
      "IQR :  134.0\n",
      "Lower :  383.0\n",
      "Upper :  919.0\n"
     ]
    }
   ],
   "source": [
    "q3=df['CreditScore'].quantile(0.75)\n",
    "q1=df['CreditScore'].quantile(0.25)\n",
    "iqr=q3-q1\n",
    "print(\"IQR : \",iqr)\n",
    "lower=np.round(q1-1.5*(iqr))\n",
    "print(\"Lower : \",lower)\n",
    "upper=np.round(q3+1.5*(iqr))\n",
    "print(\"Upper : \",upper)"
   ]
  },
  {
   "cell_type": "code",
   "execution_count": 23,
   "id": "95d1bf46",
   "metadata": {},
   "outputs": [
    {
     "data": {
      "text/html": [
       "<div>\n",
       "<style scoped>\n",
       "    .dataframe tbody tr th:only-of-type {\n",
       "        vertical-align: middle;\n",
       "    }\n",
       "\n",
       "    .dataframe tbody tr th {\n",
       "        vertical-align: top;\n",
       "    }\n",
       "\n",
       "    .dataframe thead th {\n",
       "        text-align: right;\n",
       "    }\n",
       "</style>\n",
       "<table border=\"1\" class=\"dataframe\">\n",
       "  <thead>\n",
       "    <tr style=\"text-align: right;\">\n",
       "      <th></th>\n",
       "      <th>RowNumber</th>\n",
       "      <th>CustomerId</th>\n",
       "      <th>Surname</th>\n",
       "      <th>CreditScore</th>\n",
       "      <th>Geography</th>\n",
       "      <th>Gender</th>\n",
       "      <th>Age</th>\n",
       "      <th>Tenure</th>\n",
       "      <th>Balance</th>\n",
       "      <th>NumOfProducts</th>\n",
       "      <th>HasCrCard</th>\n",
       "      <th>IsActiveMember</th>\n",
       "      <th>EstimatedSalary</th>\n",
       "      <th>Complain</th>\n",
       "      <th>Satisfaction Score</th>\n",
       "      <th>Card Type</th>\n",
       "      <th>Point Earned</th>\n",
       "      <th>Exited</th>\n",
       "    </tr>\n",
       "  </thead>\n",
       "  <tbody>\n",
       "    <tr>\n",
       "      <th>0</th>\n",
       "      <td>1</td>\n",
       "      <td>15634602</td>\n",
       "      <td>Hargrave</td>\n",
       "      <td>619</td>\n",
       "      <td>France</td>\n",
       "      <td>Female</td>\n",
       "      <td>42</td>\n",
       "      <td>2</td>\n",
       "      <td>0.00</td>\n",
       "      <td>1</td>\n",
       "      <td>1</td>\n",
       "      <td>1</td>\n",
       "      <td>101348.88</td>\n",
       "      <td>1</td>\n",
       "      <td>2</td>\n",
       "      <td>DIAMOND</td>\n",
       "      <td>464</td>\n",
       "      <td>1</td>\n",
       "    </tr>\n",
       "    <tr>\n",
       "      <th>1</th>\n",
       "      <td>2</td>\n",
       "      <td>15647311</td>\n",
       "      <td>Hill</td>\n",
       "      <td>608</td>\n",
       "      <td>Spain</td>\n",
       "      <td>Female</td>\n",
       "      <td>41</td>\n",
       "      <td>1</td>\n",
       "      <td>83807.86</td>\n",
       "      <td>1</td>\n",
       "      <td>0</td>\n",
       "      <td>1</td>\n",
       "      <td>112542.58</td>\n",
       "      <td>1</td>\n",
       "      <td>3</td>\n",
       "      <td>DIAMOND</td>\n",
       "      <td>456</td>\n",
       "      <td>0</td>\n",
       "    </tr>\n",
       "    <tr>\n",
       "      <th>2</th>\n",
       "      <td>3</td>\n",
       "      <td>15619304</td>\n",
       "      <td>Onio</td>\n",
       "      <td>502</td>\n",
       "      <td>France</td>\n",
       "      <td>Female</td>\n",
       "      <td>42</td>\n",
       "      <td>8</td>\n",
       "      <td>159660.80</td>\n",
       "      <td>3</td>\n",
       "      <td>1</td>\n",
       "      <td>0</td>\n",
       "      <td>113931.57</td>\n",
       "      <td>1</td>\n",
       "      <td>3</td>\n",
       "      <td>DIAMOND</td>\n",
       "      <td>377</td>\n",
       "      <td>1</td>\n",
       "    </tr>\n",
       "    <tr>\n",
       "      <th>3</th>\n",
       "      <td>4</td>\n",
       "      <td>15701354</td>\n",
       "      <td>Boni</td>\n",
       "      <td>699</td>\n",
       "      <td>France</td>\n",
       "      <td>Female</td>\n",
       "      <td>39</td>\n",
       "      <td>1</td>\n",
       "      <td>0.00</td>\n",
       "      <td>2</td>\n",
       "      <td>0</td>\n",
       "      <td>0</td>\n",
       "      <td>93826.63</td>\n",
       "      <td>0</td>\n",
       "      <td>5</td>\n",
       "      <td>GOLD</td>\n",
       "      <td>350</td>\n",
       "      <td>0</td>\n",
       "    </tr>\n",
       "    <tr>\n",
       "      <th>4</th>\n",
       "      <td>5</td>\n",
       "      <td>15737888</td>\n",
       "      <td>Mitchell</td>\n",
       "      <td>850</td>\n",
       "      <td>Spain</td>\n",
       "      <td>Female</td>\n",
       "      <td>43</td>\n",
       "      <td>2</td>\n",
       "      <td>125510.82</td>\n",
       "      <td>1</td>\n",
       "      <td>1</td>\n",
       "      <td>1</td>\n",
       "      <td>79084.10</td>\n",
       "      <td>0</td>\n",
       "      <td>5</td>\n",
       "      <td>GOLD</td>\n",
       "      <td>425</td>\n",
       "      <td>0</td>\n",
       "    </tr>\n",
       "    <tr>\n",
       "      <th>...</th>\n",
       "      <td>...</td>\n",
       "      <td>...</td>\n",
       "      <td>...</td>\n",
       "      <td>...</td>\n",
       "      <td>...</td>\n",
       "      <td>...</td>\n",
       "      <td>...</td>\n",
       "      <td>...</td>\n",
       "      <td>...</td>\n",
       "      <td>...</td>\n",
       "      <td>...</td>\n",
       "      <td>...</td>\n",
       "      <td>...</td>\n",
       "      <td>...</td>\n",
       "      <td>...</td>\n",
       "      <td>...</td>\n",
       "      <td>...</td>\n",
       "      <td>...</td>\n",
       "    </tr>\n",
       "    <tr>\n",
       "      <th>9995</th>\n",
       "      <td>9996</td>\n",
       "      <td>15606229</td>\n",
       "      <td>Obijiaku</td>\n",
       "      <td>771</td>\n",
       "      <td>France</td>\n",
       "      <td>Male</td>\n",
       "      <td>39</td>\n",
       "      <td>5</td>\n",
       "      <td>0.00</td>\n",
       "      <td>2</td>\n",
       "      <td>1</td>\n",
       "      <td>0</td>\n",
       "      <td>96270.64</td>\n",
       "      <td>0</td>\n",
       "      <td>1</td>\n",
       "      <td>DIAMOND</td>\n",
       "      <td>300</td>\n",
       "      <td>0</td>\n",
       "    </tr>\n",
       "    <tr>\n",
       "      <th>9996</th>\n",
       "      <td>9997</td>\n",
       "      <td>15569892</td>\n",
       "      <td>Johnstone</td>\n",
       "      <td>516</td>\n",
       "      <td>France</td>\n",
       "      <td>Male</td>\n",
       "      <td>35</td>\n",
       "      <td>10</td>\n",
       "      <td>57369.61</td>\n",
       "      <td>1</td>\n",
       "      <td>1</td>\n",
       "      <td>1</td>\n",
       "      <td>101699.77</td>\n",
       "      <td>0</td>\n",
       "      <td>5</td>\n",
       "      <td>PLATINUM</td>\n",
       "      <td>771</td>\n",
       "      <td>0</td>\n",
       "    </tr>\n",
       "    <tr>\n",
       "      <th>9997</th>\n",
       "      <td>9998</td>\n",
       "      <td>15584532</td>\n",
       "      <td>Liu</td>\n",
       "      <td>709</td>\n",
       "      <td>France</td>\n",
       "      <td>Female</td>\n",
       "      <td>36</td>\n",
       "      <td>7</td>\n",
       "      <td>0.00</td>\n",
       "      <td>1</td>\n",
       "      <td>0</td>\n",
       "      <td>1</td>\n",
       "      <td>42085.58</td>\n",
       "      <td>1</td>\n",
       "      <td>3</td>\n",
       "      <td>SILVER</td>\n",
       "      <td>564</td>\n",
       "      <td>1</td>\n",
       "    </tr>\n",
       "    <tr>\n",
       "      <th>9998</th>\n",
       "      <td>9999</td>\n",
       "      <td>15682355</td>\n",
       "      <td>Sabbatini</td>\n",
       "      <td>772</td>\n",
       "      <td>Germany</td>\n",
       "      <td>Male</td>\n",
       "      <td>42</td>\n",
       "      <td>3</td>\n",
       "      <td>75075.31</td>\n",
       "      <td>2</td>\n",
       "      <td>1</td>\n",
       "      <td>0</td>\n",
       "      <td>92888.52</td>\n",
       "      <td>1</td>\n",
       "      <td>2</td>\n",
       "      <td>GOLD</td>\n",
       "      <td>339</td>\n",
       "      <td>1</td>\n",
       "    </tr>\n",
       "    <tr>\n",
       "      <th>9999</th>\n",
       "      <td>10000</td>\n",
       "      <td>15628319</td>\n",
       "      <td>Walker</td>\n",
       "      <td>792</td>\n",
       "      <td>France</td>\n",
       "      <td>Female</td>\n",
       "      <td>28</td>\n",
       "      <td>4</td>\n",
       "      <td>130142.79</td>\n",
       "      <td>1</td>\n",
       "      <td>1</td>\n",
       "      <td>0</td>\n",
       "      <td>38190.78</td>\n",
       "      <td>0</td>\n",
       "      <td>3</td>\n",
       "      <td>DIAMOND</td>\n",
       "      <td>911</td>\n",
       "      <td>0</td>\n",
       "    </tr>\n",
       "  </tbody>\n",
       "</table>\n",
       "<p>9984 rows × 18 columns</p>\n",
       "</div>"
      ],
      "text/plain": [
       "      RowNumber  CustomerId    Surname  CreditScore Geography  Gender  Age  \\\n",
       "0             1    15634602   Hargrave          619    France  Female   42   \n",
       "1             2    15647311       Hill          608     Spain  Female   41   \n",
       "2             3    15619304       Onio          502    France  Female   42   \n",
       "3             4    15701354       Boni          699    France  Female   39   \n",
       "4             5    15737888   Mitchell          850     Spain  Female   43   \n",
       "...         ...         ...        ...          ...       ...     ...  ...   \n",
       "9995       9996    15606229   Obijiaku          771    France    Male   39   \n",
       "9996       9997    15569892  Johnstone          516    France    Male   35   \n",
       "9997       9998    15584532        Liu          709    France  Female   36   \n",
       "9998       9999    15682355  Sabbatini          772   Germany    Male   42   \n",
       "9999      10000    15628319     Walker          792    France  Female   28   \n",
       "\n",
       "      Tenure    Balance  NumOfProducts  HasCrCard  IsActiveMember  \\\n",
       "0          2       0.00              1          1               1   \n",
       "1          1   83807.86              1          0               1   \n",
       "2          8  159660.80              3          1               0   \n",
       "3          1       0.00              2          0               0   \n",
       "4          2  125510.82              1          1               1   \n",
       "...      ...        ...            ...        ...             ...   \n",
       "9995       5       0.00              2          1               0   \n",
       "9996      10   57369.61              1          1               1   \n",
       "9997       7       0.00              1          0               1   \n",
       "9998       3   75075.31              2          1               0   \n",
       "9999       4  130142.79              1          1               0   \n",
       "\n",
       "      EstimatedSalary  Complain  Satisfaction Score Card Type  Point Earned  \\\n",
       "0           101348.88         1                   2   DIAMOND           464   \n",
       "1           112542.58         1                   3   DIAMOND           456   \n",
       "2           113931.57         1                   3   DIAMOND           377   \n",
       "3            93826.63         0                   5      GOLD           350   \n",
       "4            79084.10         0                   5      GOLD           425   \n",
       "...               ...       ...                 ...       ...           ...   \n",
       "9995         96270.64         0                   1   DIAMOND           300   \n",
       "9996        101699.77         0                   5  PLATINUM           771   \n",
       "9997         42085.58         1                   3    SILVER           564   \n",
       "9998         92888.52         1                   2      GOLD           339   \n",
       "9999         38190.78         0                   3   DIAMOND           911   \n",
       "\n",
       "      Exited  \n",
       "0          1  \n",
       "1          0  \n",
       "2          1  \n",
       "3          0  \n",
       "4          0  \n",
       "...      ...  \n",
       "9995       0  \n",
       "9996       0  \n",
       "9997       1  \n",
       "9998       1  \n",
       "9999       0  \n",
       "\n",
       "[9984 rows x 18 columns]"
      ]
     },
     "execution_count": 23,
     "metadata": {},
     "output_type": "execute_result"
    }
   ],
   "source": [
    "df[(df['CreditScore']>lower) & (df['CreditScore']<upper)]"
   ]
  },
  {
   "cell_type": "markdown",
   "id": "3424ab0c",
   "metadata": {},
   "source": [
    "#### Treating Outliers with map lambda function "
   ]
  },
  {
   "cell_type": "code",
   "execution_count": 24,
   "id": "37866887",
   "metadata": {},
   "outputs": [],
   "source": [
    "df['CreditScore'] = df['CreditScore'].map(lambda age :upper if age >=upper else lower if age<=lower else age)"
   ]
  },
  {
   "cell_type": "code",
   "execution_count": 25,
   "id": "fc033656",
   "metadata": {},
   "outputs": [
    {
     "data": {
      "text/plain": [
       "<Axes: >"
      ]
     },
     "execution_count": 25,
     "metadata": {},
     "output_type": "execute_result"
    },
    {
     "data": {
      "image/png": "[encoded data removed]",
      "text/plain": [
       "<Figure size 640x480 with 1 Axes>"
      ]
     },
     "metadata": {},
     "output_type": "display_data"
    }
   ],
   "source": [
    "df['CreditScore'].plot(kind='box')"
   ]
  },
  {
   "cell_type": "code",
   "execution_count": 26,
   "id": "7033866a",
   "metadata": {
    "scrolled": true
   },
   "outputs": [
    {
     "data": {
      "image/png": "[encoded data removed]",
      "text/plain": [
       "<Figure size 640x480 with 1 Axes>"
      ]
     },
     "metadata": {},
     "output_type": "display_data"
    }
   ],
   "source": [
    "univariate(df[\"Tenure\"])"
   ]
  },
  {
   "cell_type": "code",
   "execution_count": 27,
   "id": "3cce0c92",
   "metadata": {},
   "outputs": [
    {
     "data": {
      "image/png": "[encoded data removed]",
      "text/plain": [
       "<Figure size 640x480 with 1 Axes>"
      ]
     },
     "metadata": {},
     "output_type": "display_data"
    }
   ],
   "source": [
    "univariate(df[\"Balance\"])"
   ]
  },
  {
   "cell_type": "code",
   "execution_count": 28,
   "id": "6826c57b",
   "metadata": {},
   "outputs": [
    {
     "data": {
      "image/png": "[encoded data removed]",
      "text/plain": [
       "<Figure size 640x480 with 1 Axes>"
      ]
     },
     "metadata": {},
     "output_type": "display_data"
    }
   ],
   "source": [
    "univariate(df[\"NumOfProducts\"])"
   ]
  },
  {
   "cell_type": "code",
   "execution_count": 29,
   "id": "03e257c7",
   "metadata": {},
   "outputs": [
    {
     "data": {
      "image/png": "[encoded data removed]",
      "text/plain": [
       "<Figure size 640x480 with 1 Axes>"
      ]
     },
     "metadata": {},
     "output_type": "display_data"
    }
   ],
   "source": [
    "univariate(df[\"HasCrCard\"])"
   ]
  },
  {
   "cell_type": "code",
   "execution_count": 30,
   "id": "20bd06d9",
   "metadata": {},
   "outputs": [
    {
     "data": {
      "image/png": "[encoded data removed]",
      "text/plain": [
       "<Figure size 640x480 with 1 Axes>"
      ]
     },
     "metadata": {},
     "output_type": "display_data"
    }
   ],
   "source": [
    "univariate(df[\"IsActiveMember\"])"
   ]
  },
  {
   "cell_type": "code",
   "execution_count": 31,
   "id": "28f81a31",
   "metadata": {},
   "outputs": [
    {
     "data": {
      "image/png": "[encoded data removed]",
      "text/plain": [
       "<Figure size 640x480 with 1 Axes>"
      ]
     },
     "metadata": {},
     "output_type": "display_data"
    }
   ],
   "source": [
    "univariate(df[\"EstimatedSalary\"])"
   ]
  },
  {
   "cell_type": "code",
   "execution_count": 32,
   "id": "1b028c7f",
   "metadata": {},
   "outputs": [
    {
     "data": {
      "image/png": "[encoded data removed]",
      "text/plain": [
       "<Figure size 640x480 with 1 Axes>"
      ]
     },
     "metadata": {},
     "output_type": "display_data"
    }
   ],
   "source": [
    "univariate(df[\"Exited\"])"
   ]
  },
  {
   "cell_type": "code",
   "execution_count": 33,
   "id": "f4ea3635",
   "metadata": {},
   "outputs": [
    {
     "data": {
      "image/png": "[encoded data removed]",
      "text/plain": [
       "<Figure size 640x480 with 1 Axes>"
      ]
     },
     "metadata": {},
     "output_type": "display_data"
    }
   ],
   "source": [
    "univariate(df[\"Satisfaction Score\"])"
   ]
  },
  {
   "cell_type": "code",
   "execution_count": 34,
   "id": "c082f7b2",
   "metadata": {},
   "outputs": [
    {
     "data": {
      "image/png": "[encoded data removed]",
      "text/plain": [
       "<Figure size 640x480 with 1 Axes>"
      ]
     },
     "metadata": {},
     "output_type": "display_data"
    }
   ],
   "source": [
    "univariate(df[\"Complain\"])"
   ]
  },
  {
   "cell_type": "code",
   "execution_count": 35,
   "id": "01269749",
   "metadata": {},
   "outputs": [
    {
     "data": {
      "image/png": "[encoded data removed]",
      "text/plain": [
       "<Figure size 640x480 with 1 Axes>"
      ]
     },
     "metadata": {},
     "output_type": "display_data"
    }
   ],
   "source": [
    "univariate(df[\"Point Earned\"])"
   ]
  },
  {
   "cell_type": "code",
   "execution_count": 36,
   "id": "5423dfa7",
   "metadata": {},
   "outputs": [
    {
     "data": {
      "image/png": "[encoded data removed]",
      "text/plain": [
       "<Figure size 640x480 with 1 Axes>"
      ]
     },
     "metadata": {},
     "output_type": "display_data"
    }
   ],
   "source": [
    "univariate(df[\"Age\"])"
   ]
  },
  {
   "cell_type": "code",
   "execution_count": 37,
   "id": "d145cc37",
   "metadata": {},
   "outputs": [
    {
     "data": {
      "text/plain": [
       "<Axes: ylabel='Density'>"
      ]
     },
     "execution_count": 37,
     "metadata": {},
     "output_type": "execute_result"
    },
    {
     "data": {
      "image/png": "[encoded data removed]",
      "text/plain": [
       "<Figure size 640x480 with 1 Axes>"
      ]
     },
     "metadata": {},
     "output_type": "display_data"
    }
   ],
   "source": [
    "df['Age'].plot(kind='kde')"
   ]
  },
  {
   "cell_type": "code",
   "execution_count": null,
   "id": "3f3c1706",
   "metadata": {},
   "outputs": [],
   "source": []
  },
  {
   "cell_type": "markdown",
   "id": "0642be7e",
   "metadata": {},
   "source": [
    "#### Categorical columns "
   ]
  },
  {
   "cell_type": "code",
   "execution_count": 38,
   "id": "9e6aa874",
   "metadata": {},
   "outputs": [
    {
     "name": "stdout",
     "output_type": "stream",
     "text": [
      "<class 'pandas.core.frame.DataFrame'>\n",
      "RangeIndex: 10000 entries, 0 to 9999\n",
      "Data columns (total 18 columns):\n",
      " #   Column              Non-Null Count  Dtype  \n",
      "---  ------              --------------  -----  \n",
      " 0   RowNumber           10000 non-null  int64  \n",
      " 1   CustomerId          10000 non-null  int64  \n",
      " 2   Surname             10000 non-null  object \n",
      " 3   CreditScore         10000 non-null  float64\n",
      " 4   Geography           10000 non-null  object \n",
      " 5   Gender              10000 non-null  object \n",
      " 6   Age                 10000 non-null  int64  \n",
      " 7   Tenure              10000 non-null  int64  \n",
      " 8   Balance             10000 non-null  float64\n",
      " 9   NumOfProducts       10000 non-null  int64  \n",
      " 10  HasCrCard           10000 non-null  int64  \n",
      " 11  IsActiveMember      10000 non-null  int64  \n",
      " 12  EstimatedSalary     10000 non-null  float64\n",
      " 13  Complain            10000 non-null  int64  \n",
      " 14  Satisfaction Score  10000 non-null  int64  \n",
      " 15  Card Type           10000 non-null  object \n",
      " 16  Point Earned        10000 non-null  int64  \n",
      " 17  Exited              10000 non-null  int64  \n",
      "dtypes: float64(3), int64(11), object(4)\n",
      "memory usage: 1.4+ MB\n"
     ]
    }
   ],
   "source": [
    "df.info()"
   ]
  },
  {
   "cell_type": "code",
   "execution_count": 39,
   "id": "4898cff4",
   "metadata": {},
   "outputs": [],
   "source": [
    "import warnings\n",
    "warnings.filterwarnings(\"ignore\")"
   ]
  },
  {
   "cell_type": "code",
   "execution_count": 40,
   "id": "2357e796",
   "metadata": {
    "scrolled": false
   },
   "outputs": [
    {
     "data": {
      "text/plain": [
       "<Axes: xlabel='Geography', ylabel='count'>"
      ]
     },
     "execution_count": 40,
     "metadata": {},
     "output_type": "execute_result"
    },
    {
     "data": {
      "image/png": "[encoded data removed]",
      "text/plain": [
       "<Figure size 640x480 with 1 Axes>"
      ]
     },
     "metadata": {},
     "output_type": "display_data"
    }
   ],
   "source": [
    "sns.countplot(df[\"Geography\"])"
   ]
  },
  {
   "cell_type": "code",
   "execution_count": 41,
   "id": "9248a13a",
   "metadata": {},
   "outputs": [],
   "source": [
    "# The customers are more from France then compare to Spain and Germany"
   ]
  },
  {
   "cell_type": "code",
   "execution_count": 42,
   "id": "3ebb5d3b",
   "metadata": {},
   "outputs": [
    {
     "data": {
      "text/plain": [
       "<Axes: xlabel='Gender', ylabel='count'>"
      ]
     },
     "execution_count": 42,
     "metadata": {},
     "output_type": "execute_result"
    },
    {
     "data": {
      "image/png": "[encoded data removed]",
      "text/plain": [
       "<Figure size 640x480 with 1 Axes>"
      ]
     },
     "metadata": {},
     "output_type": "display_data"
    }
   ],
   "source": [
    "sns.countplot(df[\"Gender\"])"
   ]
  },
  {
   "cell_type": "code",
   "execution_count": 43,
   "id": "4161ae7a",
   "metadata": {},
   "outputs": [],
   "source": [
    "# Male Customers slightly high then compare to Female customers"
   ]
  },
  {
   "cell_type": "code",
   "execution_count": 44,
   "id": "2cfa87b3",
   "metadata": {},
   "outputs": [
    {
     "data": {
      "text/plain": [
       "<Axes: xlabel='Card Type', ylabel='count'>"
      ]
     },
     "execution_count": 44,
     "metadata": {},
     "output_type": "execute_result"
    },
    {
     "data": {
      "image/png": "[encoded data removed]",
      "text/plain": [
       "<Figure size 640x480 with 1 Axes>"
      ]
     },
     "metadata": {},
     "output_type": "display_data"
    }
   ],
   "source": [
    "sns.countplot(df[\"Card Type\"])"
   ]
  },
  {
   "cell_type": "code",
   "execution_count": 45,
   "id": "2ce6572d",
   "metadata": {},
   "outputs": [],
   "source": [
    "# "
   ]
  },
  {
   "cell_type": "markdown",
   "id": "4c91f1f6",
   "metadata": {},
   "source": [
    "#### Bi variate"
   ]
  },
  {
   "cell_type": "code",
   "execution_count": 46,
   "id": "51606ee7",
   "metadata": {},
   "outputs": [
    {
     "data": {
      "text/plain": [
       "<Axes: xlabel='Geography'>"
      ]
     },
     "execution_count": 46,
     "metadata": {},
     "output_type": "execute_result"
    },
    {
     "data": {
      "image/png": "[encoded data removed]",
      "text/plain": [
       "<Figure size 640x480 with 1 Axes>"
      ]
     },
     "metadata": {},
     "output_type": "display_data"
    }
   ],
   "source": [
    "pd.crosstab(df['Geography'], df['Exited']).plot(kind=\"bar\",width=0.5)"
   ]
  },
  {
   "cell_type": "code",
   "execution_count": 47,
   "id": "44a42f76",
   "metadata": {},
   "outputs": [],
   "source": [
    "# Compare to France and Spain, Germany customers are likely to churn and from this region we have less customers so we should give some offers at this region to gain more customers from germany"
   ]
  },
  {
   "cell_type": "code",
   "execution_count": 48,
   "id": "6c2ab890",
   "metadata": {},
   "outputs": [
    {
     "data": {
      "text/plain": [
       "<Axes: xlabel='Gender'>"
      ]
     },
     "execution_count": 48,
     "metadata": {},
     "output_type": "execute_result"
    },
    {
     "data": {
      "image/png": "[encoded data removed]",
      "text/plain": [
       "<Figure size 640x480 with 1 Axes>"
      ]
     },
     "metadata": {},
     "output_type": "display_data"
    }
   ],
   "source": [
    "pd.crosstab(df['Gender'], df['Exited']).plot(kind=\"bar\",width=0.5)"
   ]
  },
  {
   "cell_type": "code",
   "execution_count": 49,
   "id": "f4bc6af7",
   "metadata": {},
   "outputs": [],
   "source": [
    "# we should give more offers to Female customers because bank have more male customers then compare to female"
   ]
  },
  {
   "cell_type": "code",
   "execution_count": 50,
   "id": "b497ebd0",
   "metadata": {},
   "outputs": [
    {
     "data": {
      "text/plain": [
       "<Axes: xlabel='Card Type'>"
      ]
     },
     "execution_count": 50,
     "metadata": {},
     "output_type": "execute_result"
    },
    {
     "data": {
      "image/png": "[encoded data removed]",
      "text/plain": [
       "<Figure size 640x480 with 1 Axes>"
      ]
     },
     "metadata": {},
     "output_type": "display_data"
    }
   ],
   "source": [
    "pd.crosstab(df['Card Type'], df['Exited']).plot(kind=\"bar\",width=0.5)"
   ]
  },
  {
   "cell_type": "code",
   "execution_count": 51,
   "id": "fe4486e8",
   "metadata": {},
   "outputs": [
    {
     "data": {
      "text/plain": [
       "Index(['RowNumber', 'CustomerId', 'Surname', 'CreditScore', 'Geography',\n",
       "       'Gender', 'Age', 'Tenure', 'Balance', 'NumOfProducts', 'HasCrCard',\n",
       "       'IsActiveMember', 'EstimatedSalary', 'Complain', 'Satisfaction Score',\n",
       "       'Card Type', 'Point Earned', 'Exited'],\n",
       "      dtype='object')"
      ]
     },
     "execution_count": 51,
     "metadata": {},
     "output_type": "execute_result"
    }
   ],
   "source": [
    "df.columns"
   ]
  },
  {
   "cell_type": "code",
   "execution_count": 52,
   "id": "0e328e21",
   "metadata": {},
   "outputs": [
    {
     "data": {
      "text/plain": [
       "<Axes: xlabel='CreditScore', ylabel='Exited'>"
      ]
     },
     "execution_count": 52,
     "metadata": {},
     "output_type": "execute_result"
    },
    {
     "data": {
      "image/png": "[encoded data removed]",
      "text/plain": [
       "<Figure size 640x480 with 1 Axes>"
      ]
     },
     "metadata": {},
     "output_type": "display_data"
    }
   ],
   "source": [
    "sns.scatterplot(data = df, x = df['CreditScore'],y = df['Exited'] )"
   ]
  },
  {
   "cell_type": "code",
   "execution_count": 53,
   "id": "7dc502b0",
   "metadata": {},
   "outputs": [
    {
     "data": {
      "text/plain": [
       "<Axes: xlabel='Age', ylabel='Exited'>"
      ]
     },
     "execution_count": 53,
     "metadata": {},
     "output_type": "execute_result"
    },
    {
     "data": {
      "image/png": "[encoded data removed]",
      "text/plain": [
       "<Figure size 640x480 with 1 Axes>"
      ]
     },
     "metadata": {},
     "output_type": "display_data"
    }
   ],
   "source": [
    "sns.scatterplot(data = df, x = df['Age'],y = df['Exited'] )"
   ]
  },
  {
   "cell_type": "code",
   "execution_count": null,
   "id": "266b3b1c",
   "metadata": {},
   "outputs": [],
   "source": []
  },
  {
   "cell_type": "markdown",
   "id": "e6348e9e",
   "metadata": {},
   "source": [
    "### Data Cleaning "
   ]
  },
  {
   "cell_type": "code",
   "execution_count": 54,
   "id": "59ee288a",
   "metadata": {},
   "outputs": [
    {
     "data": {
      "text/html": [
       "<div>\n",
       "<style scoped>\n",
       "    .dataframe tbody tr th:only-of-type {\n",
       "        vertical-align: middle;\n",
       "    }\n",
       "\n",
       "    .dataframe tbody tr th {\n",
       "        vertical-align: top;\n",
       "    }\n",
       "\n",
       "    .dataframe thead th {\n",
       "        text-align: right;\n",
       "    }\n",
       "</style>\n",
       "<table border=\"1\" class=\"dataframe\">\n",
       "  <thead>\n",
       "    <tr style=\"text-align: right;\">\n",
       "      <th></th>\n",
       "      <th>RowNumber</th>\n",
       "      <th>CustomerId</th>\n",
       "      <th>Surname</th>\n",
       "      <th>CreditScore</th>\n",
       "      <th>Geography</th>\n",
       "      <th>Gender</th>\n",
       "      <th>Age</th>\n",
       "      <th>Tenure</th>\n",
       "      <th>Balance</th>\n",
       "      <th>NumOfProducts</th>\n",
       "      <th>HasCrCard</th>\n",
       "      <th>IsActiveMember</th>\n",
       "      <th>EstimatedSalary</th>\n",
       "      <th>Complain</th>\n",
       "      <th>Satisfaction Score</th>\n",
       "      <th>Card Type</th>\n",
       "      <th>Point Earned</th>\n",
       "      <th>Exited</th>\n",
       "    </tr>\n",
       "  </thead>\n",
       "  <tbody>\n",
       "    <tr>\n",
       "      <th>0</th>\n",
       "      <td>1</td>\n",
       "      <td>15634602</td>\n",
       "      <td>Hargrave</td>\n",
       "      <td>619.0</td>\n",
       "      <td>France</td>\n",
       "      <td>Female</td>\n",
       "      <td>42</td>\n",
       "      <td>2</td>\n",
       "      <td>0.00</td>\n",
       "      <td>1</td>\n",
       "      <td>1</td>\n",
       "      <td>1</td>\n",
       "      <td>101348.88</td>\n",
       "      <td>1</td>\n",
       "      <td>2</td>\n",
       "      <td>DIAMOND</td>\n",
       "      <td>464</td>\n",
       "      <td>1</td>\n",
       "    </tr>\n",
       "    <tr>\n",
       "      <th>1</th>\n",
       "      <td>2</td>\n",
       "      <td>15647311</td>\n",
       "      <td>Hill</td>\n",
       "      <td>608.0</td>\n",
       "      <td>Spain</td>\n",
       "      <td>Female</td>\n",
       "      <td>41</td>\n",
       "      <td>1</td>\n",
       "      <td>83807.86</td>\n",
       "      <td>1</td>\n",
       "      <td>0</td>\n",
       "      <td>1</td>\n",
       "      <td>112542.58</td>\n",
       "      <td>1</td>\n",
       "      <td>3</td>\n",
       "      <td>DIAMOND</td>\n",
       "      <td>456</td>\n",
       "      <td>0</td>\n",
       "    </tr>\n",
       "    <tr>\n",
       "      <th>2</th>\n",
       "      <td>3</td>\n",
       "      <td>15619304</td>\n",
       "      <td>Onio</td>\n",
       "      <td>502.0</td>\n",
       "      <td>France</td>\n",
       "      <td>Female</td>\n",
       "      <td>42</td>\n",
       "      <td>8</td>\n",
       "      <td>159660.80</td>\n",
       "      <td>3</td>\n",
       "      <td>1</td>\n",
       "      <td>0</td>\n",
       "      <td>113931.57</td>\n",
       "      <td>1</td>\n",
       "      <td>3</td>\n",
       "      <td>DIAMOND</td>\n",
       "      <td>377</td>\n",
       "      <td>1</td>\n",
       "    </tr>\n",
       "    <tr>\n",
       "      <th>3</th>\n",
       "      <td>4</td>\n",
       "      <td>15701354</td>\n",
       "      <td>Boni</td>\n",
       "      <td>699.0</td>\n",
       "      <td>France</td>\n",
       "      <td>Female</td>\n",
       "      <td>39</td>\n",
       "      <td>1</td>\n",
       "      <td>0.00</td>\n",
       "      <td>2</td>\n",
       "      <td>0</td>\n",
       "      <td>0</td>\n",
       "      <td>93826.63</td>\n",
       "      <td>0</td>\n",
       "      <td>5</td>\n",
       "      <td>GOLD</td>\n",
       "      <td>350</td>\n",
       "      <td>0</td>\n",
       "    </tr>\n",
       "    <tr>\n",
       "      <th>4</th>\n",
       "      <td>5</td>\n",
       "      <td>15737888</td>\n",
       "      <td>Mitchell</td>\n",
       "      <td>850.0</td>\n",
       "      <td>Spain</td>\n",
       "      <td>Female</td>\n",
       "      <td>43</td>\n",
       "      <td>2</td>\n",
       "      <td>125510.82</td>\n",
       "      <td>1</td>\n",
       "      <td>1</td>\n",
       "      <td>1</td>\n",
       "      <td>79084.10</td>\n",
       "      <td>0</td>\n",
       "      <td>5</td>\n",
       "      <td>GOLD</td>\n",
       "      <td>425</td>\n",
       "      <td>0</td>\n",
       "    </tr>\n",
       "    <tr>\n",
       "      <th>...</th>\n",
       "      <td>...</td>\n",
       "      <td>...</td>\n",
       "      <td>...</td>\n",
       "      <td>...</td>\n",
       "      <td>...</td>\n",
       "      <td>...</td>\n",
       "      <td>...</td>\n",
       "      <td>...</td>\n",
       "      <td>...</td>\n",
       "      <td>...</td>\n",
       "      <td>...</td>\n",
       "      <td>...</td>\n",
       "      <td>...</td>\n",
       "      <td>...</td>\n",
       "      <td>...</td>\n",
       "      <td>...</td>\n",
       "      <td>...</td>\n",
       "      <td>...</td>\n",
       "    </tr>\n",
       "    <tr>\n",
       "      <th>9995</th>\n",
       "      <td>9996</td>\n",
       "      <td>15606229</td>\n",
       "      <td>Obijiaku</td>\n",
       "      <td>771.0</td>\n",
       "      <td>France</td>\n",
       "      <td>Male</td>\n",
       "      <td>39</td>\n",
       "      <td>5</td>\n",
       "      <td>0.00</td>\n",
       "      <td>2</td>\n",
       "      <td>1</td>\n",
       "      <td>0</td>\n",
       "      <td>96270.64</td>\n",
       "      <td>0</td>\n",
       "      <td>1</td>\n",
       "      <td>DIAMOND</td>\n",
       "      <td>300</td>\n",
       "      <td>0</td>\n",
       "    </tr>\n",
       "    <tr>\n",
       "      <th>9996</th>\n",
       "      <td>9997</td>\n",
       "      <td>15569892</td>\n",
       "      <td>Johnstone</td>\n",
       "      <td>516.0</td>\n",
       "      <td>France</td>\n",
       "      <td>Male</td>\n",
       "      <td>35</td>\n",
       "      <td>10</td>\n",
       "      <td>57369.61</td>\n",
       "      <td>1</td>\n",
       "      <td>1</td>\n",
       "      <td>1</td>\n",
       "      <td>101699.77</td>\n",
       "      <td>0</td>\n",
       "      <td>5</td>\n",
       "      <td>PLATINUM</td>\n",
       "      <td>771</td>\n",
       "      <td>0</td>\n",
       "    </tr>\n",
       "    <tr>\n",
       "      <th>9997</th>\n",
       "      <td>9998</td>\n",
       "      <td>15584532</td>\n",
       "      <td>Liu</td>\n",
       "      <td>709.0</td>\n",
       "      <td>France</td>\n",
       "      <td>Female</td>\n",
       "      <td>36</td>\n",
       "      <td>7</td>\n",
       "      <td>0.00</td>\n",
       "      <td>1</td>\n",
       "      <td>0</td>\n",
       "      <td>1</td>\n",
       "      <td>42085.58</td>\n",
       "      <td>1</td>\n",
       "      <td>3</td>\n",
       "      <td>SILVER</td>\n",
       "      <td>564</td>\n",
       "      <td>1</td>\n",
       "    </tr>\n",
       "    <tr>\n",
       "      <th>9998</th>\n",
       "      <td>9999</td>\n",
       "      <td>15682355</td>\n",
       "      <td>Sabbatini</td>\n",
       "      <td>772.0</td>\n",
       "      <td>Germany</td>\n",
       "      <td>Male</td>\n",
       "      <td>42</td>\n",
       "      <td>3</td>\n",
       "      <td>75075.31</td>\n",
       "      <td>2</td>\n",
       "      <td>1</td>\n",
       "      <td>0</td>\n",
       "      <td>92888.52</td>\n",
       "      <td>1</td>\n",
       "      <td>2</td>\n",
       "      <td>GOLD</td>\n",
       "      <td>339</td>\n",
       "      <td>1</td>\n",
       "    </tr>\n",
       "    <tr>\n",
       "      <th>9999</th>\n",
       "      <td>10000</td>\n",
       "      <td>15628319</td>\n",
       "      <td>Walker</td>\n",
       "      <td>792.0</td>\n",
       "      <td>France</td>\n",
       "      <td>Female</td>\n",
       "      <td>28</td>\n",
       "      <td>4</td>\n",
       "      <td>130142.79</td>\n",
       "      <td>1</td>\n",
       "      <td>1</td>\n",
       "      <td>0</td>\n",
       "      <td>38190.78</td>\n",
       "      <td>0</td>\n",
       "      <td>3</td>\n",
       "      <td>DIAMOND</td>\n",
       "      <td>911</td>\n",
       "      <td>0</td>\n",
       "    </tr>\n",
       "  </tbody>\n",
       "</table>\n",
       "<p>10000 rows × 18 columns</p>\n",
       "</div>"
      ],
      "text/plain": [
       "      RowNumber  CustomerId    Surname  CreditScore Geography  Gender  Age  \\\n",
       "0             1    15634602   Hargrave        619.0    France  Female   42   \n",
       "1             2    15647311       Hill        608.0     Spain  Female   41   \n",
       "2             3    15619304       Onio        502.0    France  Female   42   \n",
       "3             4    15701354       Boni        699.0    France  Female   39   \n",
       "4             5    15737888   Mitchell        850.0     Spain  Female   43   \n",
       "...         ...         ...        ...          ...       ...     ...  ...   \n",
       "9995       9996    15606229   Obijiaku        771.0    France    Male   39   \n",
       "9996       9997    15569892  Johnstone        516.0    France    Male   35   \n",
       "9997       9998    15584532        Liu        709.0    France  Female   36   \n",
       "9998       9999    15682355  Sabbatini        772.0   Germany    Male   42   \n",
       "9999      10000    15628319     Walker        792.0    France  Female   28   \n",
       "\n",
       "      Tenure    Balance  NumOfProducts  HasCrCard  IsActiveMember  \\\n",
       "0          2       0.00              1          1               1   \n",
       "1          1   83807.86              1          0               1   \n",
       "2          8  159660.80              3          1               0   \n",
       "3          1       0.00              2          0               0   \n",
       "4          2  125510.82              1          1               1   \n",
       "...      ...        ...            ...        ...             ...   \n",
       "9995       5       0.00              2          1               0   \n",
       "9996      10   57369.61              1          1               1   \n",
       "9997       7       0.00              1          0               1   \n",
       "9998       3   75075.31              2          1               0   \n",
       "9999       4  130142.79              1          1               0   \n",
       "\n",
       "      EstimatedSalary  Complain  Satisfaction Score Card Type  Point Earned  \\\n",
       "0           101348.88         1                   2   DIAMOND           464   \n",
       "1           112542.58         1                   3   DIAMOND           456   \n",
       "2           113931.57         1                   3   DIAMOND           377   \n",
       "3            93826.63         0                   5      GOLD           350   \n",
       "4            79084.10         0                   5      GOLD           425   \n",
       "...               ...       ...                 ...       ...           ...   \n",
       "9995         96270.64         0                   1   DIAMOND           300   \n",
       "9996        101699.77         0                   5  PLATINUM           771   \n",
       "9997         42085.58         1                   3    SILVER           564   \n",
       "9998         92888.52         1                   2      GOLD           339   \n",
       "9999         38190.78         0                   3   DIAMOND           911   \n",
       "\n",
       "      Exited  \n",
       "0          1  \n",
       "1          0  \n",
       "2          1  \n",
       "3          0  \n",
       "4          0  \n",
       "...      ...  \n",
       "9995       0  \n",
       "9996       0  \n",
       "9997       1  \n",
       "9998       1  \n",
       "9999       0  \n",
       "\n",
       "[10000 rows x 18 columns]"
      ]
     },
     "execution_count": 54,
     "metadata": {},
     "output_type": "execute_result"
    }
   ],
   "source": [
    "df"
   ]
  },
  {
   "cell_type": "code",
   "execution_count": 55,
   "id": "720849bd",
   "metadata": {},
   "outputs": [
    {
     "data": {
      "text/plain": [
       "Index(['RowNumber', 'CustomerId', 'Surname', 'CreditScore', 'Geography',\n",
       "       'Gender', 'Age', 'Tenure', 'Balance', 'NumOfProducts', 'HasCrCard',\n",
       "       'IsActiveMember', 'EstimatedSalary', 'Complain', 'Satisfaction Score',\n",
       "       'Card Type', 'Point Earned', 'Exited'],\n",
       "      dtype='object')"
      ]
     },
     "execution_count": 55,
     "metadata": {},
     "output_type": "execute_result"
    }
   ],
   "source": [
    "df.columns"
   ]
  },
  {
   "cell_type": "code",
   "execution_count": 56,
   "id": "9e126492",
   "metadata": {},
   "outputs": [],
   "source": [
    "df = df.drop(columns=['RowNumber', 'CustomerId', 'Surname'],axis=1)"
   ]
  },
  {
   "cell_type": "code",
   "execution_count": 57,
   "id": "1e874149",
   "metadata": {},
   "outputs": [
    {
     "data": {
      "text/html": [
       "<div>\n",
       "<style scoped>\n",
       "    .dataframe tbody tr th:only-of-type {\n",
       "        vertical-align: middle;\n",
       "    }\n",
       "\n",
       "    .dataframe tbody tr th {\n",
       "        vertical-align: top;\n",
       "    }\n",
       "\n",
       "    .dataframe thead th {\n",
       "        text-align: right;\n",
       "    }\n",
       "</style>\n",
       "<table border=\"1\" class=\"dataframe\">\n",
       "  <thead>\n",
       "    <tr style=\"text-align: right;\">\n",
       "      <th></th>\n",
       "      <th>CreditScore</th>\n",
       "      <th>Geography</th>\n",
       "      <th>Gender</th>\n",
       "      <th>Age</th>\n",
       "      <th>Tenure</th>\n",
       "      <th>Balance</th>\n",
       "      <th>NumOfProducts</th>\n",
       "      <th>HasCrCard</th>\n",
       "      <th>IsActiveMember</th>\n",
       "      <th>EstimatedSalary</th>\n",
       "      <th>Complain</th>\n",
       "      <th>Satisfaction Score</th>\n",
       "      <th>Card Type</th>\n",
       "      <th>Point Earned</th>\n",
       "      <th>Exited</th>\n",
       "    </tr>\n",
       "  </thead>\n",
       "  <tbody>\n",
       "    <tr>\n",
       "      <th>0</th>\n",
       "      <td>619.0</td>\n",
       "      <td>France</td>\n",
       "      <td>Female</td>\n",
       "      <td>42</td>\n",
       "      <td>2</td>\n",
       "      <td>0.00</td>\n",
       "      <td>1</td>\n",
       "      <td>1</td>\n",
       "      <td>1</td>\n",
       "      <td>101348.88</td>\n",
       "      <td>1</td>\n",
       "      <td>2</td>\n",
       "      <td>DIAMOND</td>\n",
       "      <td>464</td>\n",
       "      <td>1</td>\n",
       "    </tr>\n",
       "    <tr>\n",
       "      <th>1</th>\n",
       "      <td>608.0</td>\n",
       "      <td>Spain</td>\n",
       "      <td>Female</td>\n",
       "      <td>41</td>\n",
       "      <td>1</td>\n",
       "      <td>83807.86</td>\n",
       "      <td>1</td>\n",
       "      <td>0</td>\n",
       "      <td>1</td>\n",
       "      <td>112542.58</td>\n",
       "      <td>1</td>\n",
       "      <td>3</td>\n",
       "      <td>DIAMOND</td>\n",
       "      <td>456</td>\n",
       "      <td>0</td>\n",
       "    </tr>\n",
       "    <tr>\n",
       "      <th>2</th>\n",
       "      <td>502.0</td>\n",
       "      <td>France</td>\n",
       "      <td>Female</td>\n",
       "      <td>42</td>\n",
       "      <td>8</td>\n",
       "      <td>159660.80</td>\n",
       "      <td>3</td>\n",
       "      <td>1</td>\n",
       "      <td>0</td>\n",
       "      <td>113931.57</td>\n",
       "      <td>1</td>\n",
       "      <td>3</td>\n",
       "      <td>DIAMOND</td>\n",
       "      <td>377</td>\n",
       "      <td>1</td>\n",
       "    </tr>\n",
       "    <tr>\n",
       "      <th>3</th>\n",
       "      <td>699.0</td>\n",
       "      <td>France</td>\n",
       "      <td>Female</td>\n",
       "      <td>39</td>\n",
       "      <td>1</td>\n",
       "      <td>0.00</td>\n",
       "      <td>2</td>\n",
       "      <td>0</td>\n",
       "      <td>0</td>\n",
       "      <td>93826.63</td>\n",
       "      <td>0</td>\n",
       "      <td>5</td>\n",
       "      <td>GOLD</td>\n",
       "      <td>350</td>\n",
       "      <td>0</td>\n",
       "    </tr>\n",
       "    <tr>\n",
       "      <th>4</th>\n",
       "      <td>850.0</td>\n",
       "      <td>Spain</td>\n",
       "      <td>Female</td>\n",
       "      <td>43</td>\n",
       "      <td>2</td>\n",
       "      <td>125510.82</td>\n",
       "      <td>1</td>\n",
       "      <td>1</td>\n",
       "      <td>1</td>\n",
       "      <td>79084.10</td>\n",
       "      <td>0</td>\n",
       "      <td>5</td>\n",
       "      <td>GOLD</td>\n",
       "      <td>425</td>\n",
       "      <td>0</td>\n",
       "    </tr>\n",
       "    <tr>\n",
       "      <th>...</th>\n",
       "      <td>...</td>\n",
       "      <td>...</td>\n",
       "      <td>...</td>\n",
       "      <td>...</td>\n",
       "      <td>...</td>\n",
       "      <td>...</td>\n",
       "      <td>...</td>\n",
       "      <td>...</td>\n",
       "      <td>...</td>\n",
       "      <td>...</td>\n",
       "      <td>...</td>\n",
       "      <td>...</td>\n",
       "      <td>...</td>\n",
       "      <td>...</td>\n",
       "      <td>...</td>\n",
       "    </tr>\n",
       "    <tr>\n",
       "      <th>9995</th>\n",
       "      <td>771.0</td>\n",
       "      <td>France</td>\n",
       "      <td>Male</td>\n",
       "      <td>39</td>\n",
       "      <td>5</td>\n",
       "      <td>0.00</td>\n",
       "      <td>2</td>\n",
       "      <td>1</td>\n",
       "      <td>0</td>\n",
       "      <td>96270.64</td>\n",
       "      <td>0</td>\n",
       "      <td>1</td>\n",
       "      <td>DIAMOND</td>\n",
       "      <td>300</td>\n",
       "      <td>0</td>\n",
       "    </tr>\n",
       "    <tr>\n",
       "      <th>9996</th>\n",
       "      <td>516.0</td>\n",
       "      <td>France</td>\n",
       "      <td>Male</td>\n",
       "      <td>35</td>\n",
       "      <td>10</td>\n",
       "      <td>57369.61</td>\n",
       "      <td>1</td>\n",
       "      <td>1</td>\n",
       "      <td>1</td>\n",
       "      <td>101699.77</td>\n",
       "      <td>0</td>\n",
       "      <td>5</td>\n",
       "      <td>PLATINUM</td>\n",
       "      <td>771</td>\n",
       "      <td>0</td>\n",
       "    </tr>\n",
       "    <tr>\n",
       "      <th>9997</th>\n",
       "      <td>709.0</td>\n",
       "      <td>France</td>\n",
       "      <td>Female</td>\n",
       "      <td>36</td>\n",
       "      <td>7</td>\n",
       "      <td>0.00</td>\n",
       "      <td>1</td>\n",
       "      <td>0</td>\n",
       "      <td>1</td>\n",
       "      <td>42085.58</td>\n",
       "      <td>1</td>\n",
       "      <td>3</td>\n",
       "      <td>SILVER</td>\n",
       "      <td>564</td>\n",
       "      <td>1</td>\n",
       "    </tr>\n",
       "    <tr>\n",
       "      <th>9998</th>\n",
       "      <td>772.0</td>\n",
       "      <td>Germany</td>\n",
       "      <td>Male</td>\n",
       "      <td>42</td>\n",
       "      <td>3</td>\n",
       "      <td>75075.31</td>\n",
       "      <td>2</td>\n",
       "      <td>1</td>\n",
       "      <td>0</td>\n",
       "      <td>92888.52</td>\n",
       "      <td>1</td>\n",
       "      <td>2</td>\n",
       "      <td>GOLD</td>\n",
       "      <td>339</td>\n",
       "      <td>1</td>\n",
       "    </tr>\n",
       "    <tr>\n",
       "      <th>9999</th>\n",
       "      <td>792.0</td>\n",
       "      <td>France</td>\n",
       "      <td>Female</td>\n",
       "      <td>28</td>\n",
       "      <td>4</td>\n",
       "      <td>130142.79</td>\n",
       "      <td>1</td>\n",
       "      <td>1</td>\n",
       "      <td>0</td>\n",
       "      <td>38190.78</td>\n",
       "      <td>0</td>\n",
       "      <td>3</td>\n",
       "      <td>DIAMOND</td>\n",
       "      <td>911</td>\n",
       "      <td>0</td>\n",
       "    </tr>\n",
       "  </tbody>\n",
       "</table>\n",
       "<p>10000 rows × 15 columns</p>\n",
       "</div>"
      ],
      "text/plain": [
       "      CreditScore Geography  Gender  Age  Tenure    Balance  NumOfProducts  \\\n",
       "0           619.0    France  Female   42       2       0.00              1   \n",
       "1           608.0     Spain  Female   41       1   83807.86              1   \n",
       "2           502.0    France  Female   42       8  159660.80              3   \n",
       "3           699.0    France  Female   39       1       0.00              2   \n",
       "4           850.0     Spain  Female   43       2  125510.82              1   \n",
       "...           ...       ...     ...  ...     ...        ...            ...   \n",
       "9995        771.0    France    Male   39       5       0.00              2   \n",
       "9996        516.0    France    Male   35      10   57369.61              1   \n",
       "9997        709.0    France  Female   36       7       0.00              1   \n",
       "9998        772.0   Germany    Male   42       3   75075.31              2   \n",
       "9999        792.0    France  Female   28       4  130142.79              1   \n",
       "\n",
       "      HasCrCard  IsActiveMember  EstimatedSalary  Complain  \\\n",
       "0             1               1        101348.88         1   \n",
       "1             0               1        112542.58         1   \n",
       "2             1               0        113931.57         1   \n",
       "3             0               0         93826.63         0   \n",
       "4             1               1         79084.10         0   \n",
       "...         ...             ...              ...       ...   \n",
       "9995          1               0         96270.64         0   \n",
       "9996          1               1        101699.77         0   \n",
       "9997          0               1         42085.58         1   \n",
       "9998          1               0         92888.52         1   \n",
       "9999          1               0         38190.78         0   \n",
       "\n",
       "      Satisfaction Score Card Type  Point Earned  Exited  \n",
       "0                      2   DIAMOND           464       1  \n",
       "1                      3   DIAMOND           456       0  \n",
       "2                      3   DIAMOND           377       1  \n",
       "3                      5      GOLD           350       0  \n",
       "4                      5      GOLD           425       0  \n",
       "...                  ...       ...           ...     ...  \n",
       "9995                   1   DIAMOND           300       0  \n",
       "9996                   5  PLATINUM           771       0  \n",
       "9997                   3    SILVER           564       1  \n",
       "9998                   2      GOLD           339       1  \n",
       "9999                   3   DIAMOND           911       0  \n",
       "\n",
       "[10000 rows x 15 columns]"
      ]
     },
     "execution_count": 57,
     "metadata": {},
     "output_type": "execute_result"
    }
   ],
   "source": [
    "df"
   ]
  },
  {
   "cell_type": "code",
   "execution_count": 58,
   "id": "9046fb0e",
   "metadata": {},
   "outputs": [],
   "source": [
    "df['CreditScore'] = df[\"CreditScore\"].astype('int')"
   ]
  },
  {
   "cell_type": "code",
   "execution_count": 59,
   "id": "72333792",
   "metadata": {
    "scrolled": true
   },
   "outputs": [
    {
     "data": {
      "text/html": [
       "<div>\n",
       "<style scoped>\n",
       "    .dataframe tbody tr th:only-of-type {\n",
       "        vertical-align: middle;\n",
       "    }\n",
       "\n",
       "    .dataframe tbody tr th {\n",
       "        vertical-align: top;\n",
       "    }\n",
       "\n",
       "    .dataframe thead th {\n",
       "        text-align: right;\n",
       "    }\n",
       "</style>\n",
       "<table border=\"1\" class=\"dataframe\">\n",
       "  <thead>\n",
       "    <tr style=\"text-align: right;\">\n",
       "      <th></th>\n",
       "      <th>CreditScore</th>\n",
       "      <th>Geography</th>\n",
       "      <th>Gender</th>\n",
       "      <th>Age</th>\n",
       "      <th>Tenure</th>\n",
       "      <th>Balance</th>\n",
       "      <th>NumOfProducts</th>\n",
       "      <th>HasCrCard</th>\n",
       "      <th>IsActiveMember</th>\n",
       "      <th>EstimatedSalary</th>\n",
       "      <th>Complain</th>\n",
       "      <th>Satisfaction Score</th>\n",
       "      <th>Card Type</th>\n",
       "      <th>Point Earned</th>\n",
       "      <th>Exited</th>\n",
       "    </tr>\n",
       "  </thead>\n",
       "  <tbody>\n",
       "    <tr>\n",
       "      <th>0</th>\n",
       "      <td>619</td>\n",
       "      <td>France</td>\n",
       "      <td>Female</td>\n",
       "      <td>42</td>\n",
       "      <td>2</td>\n",
       "      <td>0.00</td>\n",
       "      <td>1</td>\n",
       "      <td>1</td>\n",
       "      <td>1</td>\n",
       "      <td>101348.88</td>\n",
       "      <td>1</td>\n",
       "      <td>2</td>\n",
       "      <td>DIAMOND</td>\n",
       "      <td>464</td>\n",
       "      <td>1</td>\n",
       "    </tr>\n",
       "    <tr>\n",
       "      <th>1</th>\n",
       "      <td>608</td>\n",
       "      <td>Spain</td>\n",
       "      <td>Female</td>\n",
       "      <td>41</td>\n",
       "      <td>1</td>\n",
       "      <td>83807.86</td>\n",
       "      <td>1</td>\n",
       "      <td>0</td>\n",
       "      <td>1</td>\n",
       "      <td>112542.58</td>\n",
       "      <td>1</td>\n",
       "      <td>3</td>\n",
       "      <td>DIAMOND</td>\n",
       "      <td>456</td>\n",
       "      <td>0</td>\n",
       "    </tr>\n",
       "    <tr>\n",
       "      <th>2</th>\n",
       "      <td>502</td>\n",
       "      <td>France</td>\n",
       "      <td>Female</td>\n",
       "      <td>42</td>\n",
       "      <td>8</td>\n",
       "      <td>159660.80</td>\n",
       "      <td>3</td>\n",
       "      <td>1</td>\n",
       "      <td>0</td>\n",
       "      <td>113931.57</td>\n",
       "      <td>1</td>\n",
       "      <td>3</td>\n",
       "      <td>DIAMOND</td>\n",
       "      <td>377</td>\n",
       "      <td>1</td>\n",
       "    </tr>\n",
       "    <tr>\n",
       "      <th>3</th>\n",
       "      <td>699</td>\n",
       "      <td>France</td>\n",
       "      <td>Female</td>\n",
       "      <td>39</td>\n",
       "      <td>1</td>\n",
       "      <td>0.00</td>\n",
       "      <td>2</td>\n",
       "      <td>0</td>\n",
       "      <td>0</td>\n",
       "      <td>93826.63</td>\n",
       "      <td>0</td>\n",
       "      <td>5</td>\n",
       "      <td>GOLD</td>\n",
       "      <td>350</td>\n",
       "      <td>0</td>\n",
       "    </tr>\n",
       "    <tr>\n",
       "      <th>4</th>\n",
       "      <td>850</td>\n",
       "      <td>Spain</td>\n",
       "      <td>Female</td>\n",
       "      <td>43</td>\n",
       "      <td>2</td>\n",
       "      <td>125510.82</td>\n",
       "      <td>1</td>\n",
       "      <td>1</td>\n",
       "      <td>1</td>\n",
       "      <td>79084.10</td>\n",
       "      <td>0</td>\n",
       "      <td>5</td>\n",
       "      <td>GOLD</td>\n",
       "      <td>425</td>\n",
       "      <td>0</td>\n",
       "    </tr>\n",
       "    <tr>\n",
       "      <th>...</th>\n",
       "      <td>...</td>\n",
       "      <td>...</td>\n",
       "      <td>...</td>\n",
       "      <td>...</td>\n",
       "      <td>...</td>\n",
       "      <td>...</td>\n",
       "      <td>...</td>\n",
       "      <td>...</td>\n",
       "      <td>...</td>\n",
       "      <td>...</td>\n",
       "      <td>...</td>\n",
       "      <td>...</td>\n",
       "      <td>...</td>\n",
       "      <td>...</td>\n",
       "      <td>...</td>\n",
       "    </tr>\n",
       "    <tr>\n",
       "      <th>9995</th>\n",
       "      <td>771</td>\n",
       "      <td>France</td>\n",
       "      <td>Male</td>\n",
       "      <td>39</td>\n",
       "      <td>5</td>\n",
       "      <td>0.00</td>\n",
       "      <td>2</td>\n",
       "      <td>1</td>\n",
       "      <td>0</td>\n",
       "      <td>96270.64</td>\n",
       "      <td>0</td>\n",
       "      <td>1</td>\n",
       "      <td>DIAMOND</td>\n",
       "      <td>300</td>\n",
       "      <td>0</td>\n",
       "    </tr>\n",
       "    <tr>\n",
       "      <th>9996</th>\n",
       "      <td>516</td>\n",
       "      <td>France</td>\n",
       "      <td>Male</td>\n",
       "      <td>35</td>\n",
       "      <td>10</td>\n",
       "      <td>57369.61</td>\n",
       "      <td>1</td>\n",
       "      <td>1</td>\n",
       "      <td>1</td>\n",
       "      <td>101699.77</td>\n",
       "      <td>0</td>\n",
       "      <td>5</td>\n",
       "      <td>PLATINUM</td>\n",
       "      <td>771</td>\n",
       "      <td>0</td>\n",
       "    </tr>\n",
       "    <tr>\n",
       "      <th>9997</th>\n",
       "      <td>709</td>\n",
       "      <td>France</td>\n",
       "      <td>Female</td>\n",
       "      <td>36</td>\n",
       "      <td>7</td>\n",
       "      <td>0.00</td>\n",
       "      <td>1</td>\n",
       "      <td>0</td>\n",
       "      <td>1</td>\n",
       "      <td>42085.58</td>\n",
       "      <td>1</td>\n",
       "      <td>3</td>\n",
       "      <td>SILVER</td>\n",
       "      <td>564</td>\n",
       "      <td>1</td>\n",
       "    </tr>\n",
       "    <tr>\n",
       "      <th>9998</th>\n",
       "      <td>772</td>\n",
       "      <td>Germany</td>\n",
       "      <td>Male</td>\n",
       "      <td>42</td>\n",
       "      <td>3</td>\n",
       "      <td>75075.31</td>\n",
       "      <td>2</td>\n",
       "      <td>1</td>\n",
       "      <td>0</td>\n",
       "      <td>92888.52</td>\n",
       "      <td>1</td>\n",
       "      <td>2</td>\n",
       "      <td>GOLD</td>\n",
       "      <td>339</td>\n",
       "      <td>1</td>\n",
       "    </tr>\n",
       "    <tr>\n",
       "      <th>9999</th>\n",
       "      <td>792</td>\n",
       "      <td>France</td>\n",
       "      <td>Female</td>\n",
       "      <td>28</td>\n",
       "      <td>4</td>\n",
       "      <td>130142.79</td>\n",
       "      <td>1</td>\n",
       "      <td>1</td>\n",
       "      <td>0</td>\n",
       "      <td>38190.78</td>\n",
       "      <td>0</td>\n",
       "      <td>3</td>\n",
       "      <td>DIAMOND</td>\n",
       "      <td>911</td>\n",
       "      <td>0</td>\n",
       "    </tr>\n",
       "  </tbody>\n",
       "</table>\n",
       "<p>10000 rows × 15 columns</p>\n",
       "</div>"
      ],
      "text/plain": [
       "      CreditScore Geography  Gender  Age  Tenure    Balance  NumOfProducts  \\\n",
       "0             619    France  Female   42       2       0.00              1   \n",
       "1             608     Spain  Female   41       1   83807.86              1   \n",
       "2             502    France  Female   42       8  159660.80              3   \n",
       "3             699    France  Female   39       1       0.00              2   \n",
       "4             850     Spain  Female   43       2  125510.82              1   \n",
       "...           ...       ...     ...  ...     ...        ...            ...   \n",
       "9995          771    France    Male   39       5       0.00              2   \n",
       "9996          516    France    Male   35      10   57369.61              1   \n",
       "9997          709    France  Female   36       7       0.00              1   \n",
       "9998          772   Germany    Male   42       3   75075.31              2   \n",
       "9999          792    France  Female   28       4  130142.79              1   \n",
       "\n",
       "      HasCrCard  IsActiveMember  EstimatedSalary  Complain  \\\n",
       "0             1               1        101348.88         1   \n",
       "1             0               1        112542.58         1   \n",
       "2             1               0        113931.57         1   \n",
       "3             0               0         93826.63         0   \n",
       "4             1               1         79084.10         0   \n",
       "...         ...             ...              ...       ...   \n",
       "9995          1               0         96270.64         0   \n",
       "9996          1               1        101699.77         0   \n",
       "9997          0               1         42085.58         1   \n",
       "9998          1               0         92888.52         1   \n",
       "9999          1               0         38190.78         0   \n",
       "\n",
       "      Satisfaction Score Card Type  Point Earned  Exited  \n",
       "0                      2   DIAMOND           464       1  \n",
       "1                      3   DIAMOND           456       0  \n",
       "2                      3   DIAMOND           377       1  \n",
       "3                      5      GOLD           350       0  \n",
       "4                      5      GOLD           425       0  \n",
       "...                  ...       ...           ...     ...  \n",
       "9995                   1   DIAMOND           300       0  \n",
       "9996                   5  PLATINUM           771       0  \n",
       "9997                   3    SILVER           564       1  \n",
       "9998                   2      GOLD           339       1  \n",
       "9999                   3   DIAMOND           911       0  \n",
       "\n",
       "[10000 rows x 15 columns]"
      ]
     },
     "execution_count": 59,
     "metadata": {},
     "output_type": "execute_result"
    }
   ],
   "source": [
    "df"
   ]
  },
  {
   "cell_type": "code",
   "execution_count": 60,
   "id": "5e942f40",
   "metadata": {},
   "outputs": [
    {
     "name": "stdout",
     "output_type": "stream",
     "text": [
      "<class 'pandas.core.frame.DataFrame'>\n",
      "RangeIndex: 10000 entries, 0 to 9999\n",
      "Data columns (total 15 columns):\n",
      " #   Column              Non-Null Count  Dtype  \n",
      "---  ------              --------------  -----  \n",
      " 0   CreditScore         10000 non-null  int32  \n",
      " 1   Geography           10000 non-null  object \n",
      " 2   Gender              10000 non-null  object \n",
      " 3   Age                 10000 non-null  int64  \n",
      " 4   Tenure              10000 non-null  int64  \n",
      " 5   Balance             10000 non-null  float64\n",
      " 6   NumOfProducts       10000 non-null  int64  \n",
      " 7   HasCrCard           10000 non-null  int64  \n",
      " 8   IsActiveMember      10000 non-null  int64  \n",
      " 9   EstimatedSalary     10000 non-null  float64\n",
      " 10  Complain            10000 non-null  int64  \n",
      " 11  Satisfaction Score  10000 non-null  int64  \n",
      " 12  Card Type           10000 non-null  object \n",
      " 13  Point Earned        10000 non-null  int64  \n",
      " 14  Exited              10000 non-null  int64  \n",
      "dtypes: float64(2), int32(1), int64(9), object(3)\n",
      "memory usage: 1.1+ MB\n"
     ]
    }
   ],
   "source": [
    "df.info()"
   ]
  },
  {
   "cell_type": "markdown",
   "id": "131b00d2",
   "metadata": {},
   "source": [
    "### Separating Target variable and Input variables"
   ]
  },
  {
   "cell_type": "code",
   "execution_count": 61,
   "id": "2e2c1e3e",
   "metadata": {},
   "outputs": [],
   "source": [
    "x = df.iloc[:,:14]"
   ]
  },
  {
   "cell_type": "code",
   "execution_count": 62,
   "id": "0ad16280",
   "metadata": {},
   "outputs": [
    {
     "data": {
      "text/plain": [
       "Index(['CreditScore', 'Geography', 'Gender', 'Age', 'Tenure', 'Balance',\n",
       "       'NumOfProducts', 'HasCrCard', 'IsActiveMember', 'EstimatedSalary',\n",
       "       'Complain', 'Satisfaction Score', 'Card Type', 'Point Earned'],\n",
       "      dtype='object')"
      ]
     },
     "execution_count": 62,
     "metadata": {},
     "output_type": "execute_result"
    }
   ],
   "source": [
    "x.columns"
   ]
  },
  {
   "cell_type": "code",
   "execution_count": 63,
   "id": "22686799",
   "metadata": {},
   "outputs": [
    {
     "data": {
      "text/plain": [
       "(10000, 14)"
      ]
     },
     "execution_count": 63,
     "metadata": {},
     "output_type": "execute_result"
    }
   ],
   "source": [
    "x.shape"
   ]
  },
  {
   "cell_type": "code",
   "execution_count": 64,
   "id": "306a7466",
   "metadata": {},
   "outputs": [],
   "source": [
    "y = df.iloc[:,-1]"
   ]
  },
  {
   "cell_type": "code",
   "execution_count": 65,
   "id": "4c027a70",
   "metadata": {},
   "outputs": [
    {
     "data": {
      "text/plain": [
       "(10000,)"
      ]
     },
     "execution_count": 65,
     "metadata": {},
     "output_type": "execute_result"
    }
   ],
   "source": [
    "y.shape"
   ]
  },
  {
   "cell_type": "markdown",
   "id": "4a2c05b6",
   "metadata": {},
   "source": [
    "### Splitting data into train and test"
   ]
  },
  {
   "cell_type": "code",
   "execution_count": 66,
   "id": "b3daacc9",
   "metadata": {},
   "outputs": [],
   "source": [
    "from sklearn.model_selection import train_test_split\n",
    "x_train,x_test,y_train,y_test = train_test_split(x,y,test_size=0.2)"
   ]
  },
  {
   "cell_type": "code",
   "execution_count": 67,
   "id": "35de1935",
   "metadata": {},
   "outputs": [
    {
     "data": {
      "text/plain": [
       "(2000, 14)"
      ]
     },
     "execution_count": 67,
     "metadata": {},
     "output_type": "execute_result"
    }
   ],
   "source": [
    "x_test.shape"
   ]
  },
  {
   "cell_type": "code",
   "execution_count": 68,
   "id": "f7691b17",
   "metadata": {},
   "outputs": [
    {
     "data": {
      "text/plain": [
       "(8000, 14)"
      ]
     },
     "execution_count": 68,
     "metadata": {},
     "output_type": "execute_result"
    }
   ],
   "source": [
    "x_train.shape"
   ]
  },
  {
   "cell_type": "code",
   "execution_count": 69,
   "id": "ce36979a",
   "metadata": {},
   "outputs": [
    {
     "data": {
      "text/plain": [
       "(2000,)"
      ]
     },
     "execution_count": 69,
     "metadata": {},
     "output_type": "execute_result"
    }
   ],
   "source": [
    "y_test.shape"
   ]
  },
  {
   "cell_type": "code",
   "execution_count": 70,
   "id": "f9b09bb6",
   "metadata": {},
   "outputs": [
    {
     "data": {
      "text/plain": [
       "(8000,)"
      ]
     },
     "execution_count": 70,
     "metadata": {},
     "output_type": "execute_result"
    }
   ],
   "source": [
    "y_train.shape"
   ]
  },
  {
   "cell_type": "markdown",
   "id": "0ca81c13",
   "metadata": {},
   "source": [
    "### Dividing Categorical and Numerical features"
   ]
  },
  {
   "cell_type": "markdown",
   "id": "63c311bc",
   "metadata": {},
   "source": [
    "#### Train data "
   ]
  },
  {
   "cell_type": "code",
   "execution_count": 71,
   "id": "e75e0fce",
   "metadata": {},
   "outputs": [],
   "source": [
    "x_train_num = x_train.select_dtypes(include=['float64','int64','int32'])\n",
    "x_train_cat = x_train.select_dtypes(include=['object'])"
   ]
  },
  {
   "cell_type": "code",
   "execution_count": 72,
   "id": "107c1b56",
   "metadata": {},
   "outputs": [
    {
     "data": {
      "text/plain": [
       "(8000, 3)"
      ]
     },
     "execution_count": 72,
     "metadata": {},
     "output_type": "execute_result"
    }
   ],
   "source": [
    "x_train_cat.shape"
   ]
  },
  {
   "cell_type": "code",
   "execution_count": 73,
   "id": "7507470c",
   "metadata": {},
   "outputs": [
    {
     "data": {
      "text/plain": [
       "(8000, 11)"
      ]
     },
     "execution_count": 73,
     "metadata": {},
     "output_type": "execute_result"
    }
   ],
   "source": [
    "x_train_num.shape"
   ]
  },
  {
   "cell_type": "markdown",
   "id": "06d68adb",
   "metadata": {},
   "source": [
    "#### Test data"
   ]
  },
  {
   "cell_type": "code",
   "execution_count": 74,
   "id": "6f719fed",
   "metadata": {},
   "outputs": [],
   "source": [
    "x_test_num = x_test.select_dtypes(include=['float64','int64','int32'])\n",
    "x_test_cat = x_test.select_dtypes(include=['object'])"
   ]
  },
  {
   "cell_type": "code",
   "execution_count": 75,
   "id": "6ff95587",
   "metadata": {},
   "outputs": [
    {
     "data": {
      "text/plain": [
       "(2000, 3)"
      ]
     },
     "execution_count": 75,
     "metadata": {},
     "output_type": "execute_result"
    }
   ],
   "source": [
    "x_test_cat.shape"
   ]
  },
  {
   "cell_type": "code",
   "execution_count": 76,
   "id": "7c30c385",
   "metadata": {},
   "outputs": [
    {
     "data": {
      "text/plain": [
       "(2000, 11)"
      ]
     },
     "execution_count": 76,
     "metadata": {},
     "output_type": "execute_result"
    }
   ],
   "source": [
    "x_test_num.shape"
   ]
  },
  {
   "cell_type": "markdown",
   "id": "260bdc85",
   "metadata": {},
   "source": [
    "### Rescaling Input features "
   ]
  },
  {
   "cell_type": "code",
   "execution_count": 77,
   "id": "e18e85f4",
   "metadata": {},
   "outputs": [],
   "source": [
    "from sklearn.preprocessing import StandardScaler\n",
    "scaler = StandardScaler()"
   ]
  },
  {
   "cell_type": "markdown",
   "id": "2fc33c3a",
   "metadata": {},
   "source": [
    "#### Train Data "
   ]
  },
  {
   "cell_type": "code",
   "execution_count": 78,
   "id": "bbc7aa8a",
   "metadata": {},
   "outputs": [
    {
     "data": {
      "text/html": [
       "<div>\n",
       "<style scoped>\n",
       "    .dataframe tbody tr th:only-of-type {\n",
       "        vertical-align: middle;\n",
       "    }\n",
       "\n",
       "    .dataframe tbody tr th {\n",
       "        vertical-align: top;\n",
       "    }\n",
       "\n",
       "    .dataframe thead th {\n",
       "        text-align: right;\n",
       "    }\n",
       "</style>\n",
       "<table border=\"1\" class=\"dataframe\">\n",
       "  <thead>\n",
       "    <tr style=\"text-align: right;\">\n",
       "      <th></th>\n",
       "      <th>CreditScore</th>\n",
       "      <th>Age</th>\n",
       "      <th>Tenure</th>\n",
       "      <th>Balance</th>\n",
       "      <th>NumOfProducts</th>\n",
       "      <th>HasCrCard</th>\n",
       "      <th>IsActiveMember</th>\n",
       "      <th>EstimatedSalary</th>\n",
       "      <th>Complain</th>\n",
       "      <th>Satisfaction Score</th>\n",
       "      <th>Point Earned</th>\n",
       "    </tr>\n",
       "  </thead>\n",
       "  <tbody>\n",
       "    <tr>\n",
       "      <th>5217</th>\n",
       "      <td>0.754109</td>\n",
       "      <td>-1.043531</td>\n",
       "      <td>0.000432</td>\n",
       "      <td>0.332277</td>\n",
       "      <td>-0.910631</td>\n",
       "      <td>0.642207</td>\n",
       "      <td>0.966317</td>\n",
       "      <td>-0.049619</td>\n",
       "      <td>-0.509748</td>\n",
       "      <td>-0.728059</td>\n",
       "      <td>1.283836</td>\n",
       "    </tr>\n",
       "    <tr>\n",
       "      <th>3805</th>\n",
       "      <td>0.175802</td>\n",
       "      <td>-0.472262</td>\n",
       "      <td>-1.725606</td>\n",
       "      <td>-1.232138</td>\n",
       "      <td>-0.910631</td>\n",
       "      <td>-1.557131</td>\n",
       "      <td>-1.034857</td>\n",
       "      <td>0.011120</td>\n",
       "      <td>-0.509748</td>\n",
       "      <td>-1.440794</td>\n",
       "      <td>1.137581</td>\n",
       "    </tr>\n",
       "    <tr>\n",
       "      <th>3582</th>\n",
       "      <td>0.361686</td>\n",
       "      <td>-0.377050</td>\n",
       "      <td>-0.344776</td>\n",
       "      <td>-1.232138</td>\n",
       "      <td>-0.910631</td>\n",
       "      <td>0.642207</td>\n",
       "      <td>-1.034857</td>\n",
       "      <td>-1.577036</td>\n",
       "      <td>-0.509748</td>\n",
       "      <td>-0.728059</td>\n",
       "      <td>0.211297</td>\n",
       "    </tr>\n",
       "    <tr>\n",
       "      <th>1996</th>\n",
       "      <td>-1.208005</td>\n",
       "      <td>2.193664</td>\n",
       "      <td>-1.035191</td>\n",
       "      <td>-1.232138</td>\n",
       "      <td>0.799474</td>\n",
       "      <td>-1.557131</td>\n",
       "      <td>-1.034857</td>\n",
       "      <td>-0.985683</td>\n",
       "      <td>1.961756</td>\n",
       "      <td>-0.728059</td>\n",
       "      <td>-0.085645</td>\n",
       "    </tr>\n",
       "    <tr>\n",
       "      <th>9584</th>\n",
       "      <td>-0.908524</td>\n",
       "      <td>0.194220</td>\n",
       "      <td>-1.035191</td>\n",
       "      <td>0.378896</td>\n",
       "      <td>-0.910631</td>\n",
       "      <td>0.642207</td>\n",
       "      <td>0.966317</td>\n",
       "      <td>-1.392446</td>\n",
       "      <td>1.961756</td>\n",
       "      <td>1.410146</td>\n",
       "      <td>-1.495014</td>\n",
       "    </tr>\n",
       "  </tbody>\n",
       "</table>\n",
       "</div>"
      ],
      "text/plain": [
       "      CreditScore       Age    Tenure   Balance  NumOfProducts  HasCrCard  \\\n",
       "5217     0.754109 -1.043531  0.000432  0.332277      -0.910631   0.642207   \n",
       "3805     0.175802 -0.472262 -1.725606 -1.232138      -0.910631  -1.557131   \n",
       "3582     0.361686 -0.377050 -0.344776 -1.232138      -0.910631   0.642207   \n",
       "1996    -1.208005  2.193664 -1.035191 -1.232138       0.799474  -1.557131   \n",
       "9584    -0.908524  0.194220 -1.035191  0.378896      -0.910631   0.642207   \n",
       "\n",
       "      IsActiveMember  EstimatedSalary  Complain  Satisfaction Score  \\\n",
       "5217        0.966317        -0.049619 -0.509748           -0.728059   \n",
       "3805       -1.034857         0.011120 -0.509748           -1.440794   \n",
       "3582       -1.034857        -1.577036 -0.509748           -0.728059   \n",
       "1996       -1.034857        -0.985683  1.961756           -0.728059   \n",
       "9584        0.966317        -1.392446  1.961756            1.410146   \n",
       "\n",
       "      Point Earned  \n",
       "5217      1.283836  \n",
       "3805      1.137581  \n",
       "3582      0.211297  \n",
       "1996     -0.085645  \n",
       "9584     -1.495014  "
      ]
     },
     "execution_count": 78,
     "metadata": {},
     "output_type": "execute_result"
    }
   ],
   "source": [
    "x_train_num_rescaled = pd.DataFrame(scaler.fit_transform(x_train_num),columns=x_train_num.columns,index = x_train_num.index)\n",
    "\n",
    "x_train_num_rescaled.head()"
   ]
  },
  {
   "cell_type": "code",
   "execution_count": 79,
   "id": "92c3bc73",
   "metadata": {},
   "outputs": [
    {
     "data": {
      "text/html": [
       "<div>\n",
       "<style scoped>\n",
       "    .dataframe tbody tr th:only-of-type {\n",
       "        vertical-align: middle;\n",
       "    }\n",
       "\n",
       "    .dataframe tbody tr th {\n",
       "        vertical-align: top;\n",
       "    }\n",
       "\n",
       "    .dataframe thead th {\n",
       "        text-align: right;\n",
       "    }\n",
       "</style>\n",
       "<table border=\"1\" class=\"dataframe\">\n",
       "  <thead>\n",
       "    <tr style=\"text-align: right;\">\n",
       "      <th></th>\n",
       "      <th>CreditScore</th>\n",
       "      <th>Age</th>\n",
       "      <th>Tenure</th>\n",
       "      <th>Balance</th>\n",
       "      <th>NumOfProducts</th>\n",
       "      <th>HasCrCard</th>\n",
       "      <th>IsActiveMember</th>\n",
       "      <th>EstimatedSalary</th>\n",
       "      <th>Complain</th>\n",
       "      <th>Satisfaction Score</th>\n",
       "      <th>Point Earned</th>\n",
       "    </tr>\n",
       "  </thead>\n",
       "  <tbody>\n",
       "    <tr>\n",
       "      <th>5217</th>\n",
       "      <td>0.754109</td>\n",
       "      <td>-1.043531</td>\n",
       "      <td>0.000432</td>\n",
       "      <td>0.332277</td>\n",
       "      <td>-0.910631</td>\n",
       "      <td>0.642207</td>\n",
       "      <td>0.966317</td>\n",
       "      <td>-0.049619</td>\n",
       "      <td>-0.509748</td>\n",
       "      <td>-0.728059</td>\n",
       "      <td>1.283836</td>\n",
       "    </tr>\n",
       "    <tr>\n",
       "      <th>3805</th>\n",
       "      <td>0.175802</td>\n",
       "      <td>-0.472262</td>\n",
       "      <td>-1.725606</td>\n",
       "      <td>-1.232138</td>\n",
       "      <td>-0.910631</td>\n",
       "      <td>-1.557131</td>\n",
       "      <td>-1.034857</td>\n",
       "      <td>0.011120</td>\n",
       "      <td>-0.509748</td>\n",
       "      <td>-1.440794</td>\n",
       "      <td>1.137581</td>\n",
       "    </tr>\n",
       "    <tr>\n",
       "      <th>3582</th>\n",
       "      <td>0.361686</td>\n",
       "      <td>-0.377050</td>\n",
       "      <td>-0.344776</td>\n",
       "      <td>-1.232138</td>\n",
       "      <td>-0.910631</td>\n",
       "      <td>0.642207</td>\n",
       "      <td>-1.034857</td>\n",
       "      <td>-1.577036</td>\n",
       "      <td>-0.509748</td>\n",
       "      <td>-0.728059</td>\n",
       "      <td>0.211297</td>\n",
       "    </tr>\n",
       "    <tr>\n",
       "      <th>1996</th>\n",
       "      <td>-1.208005</td>\n",
       "      <td>2.193664</td>\n",
       "      <td>-1.035191</td>\n",
       "      <td>-1.232138</td>\n",
       "      <td>0.799474</td>\n",
       "      <td>-1.557131</td>\n",
       "      <td>-1.034857</td>\n",
       "      <td>-0.985683</td>\n",
       "      <td>1.961756</td>\n",
       "      <td>-0.728059</td>\n",
       "      <td>-0.085645</td>\n",
       "    </tr>\n",
       "    <tr>\n",
       "      <th>9584</th>\n",
       "      <td>-0.908524</td>\n",
       "      <td>0.194220</td>\n",
       "      <td>-1.035191</td>\n",
       "      <td>0.378896</td>\n",
       "      <td>-0.910631</td>\n",
       "      <td>0.642207</td>\n",
       "      <td>0.966317</td>\n",
       "      <td>-1.392446</td>\n",
       "      <td>1.961756</td>\n",
       "      <td>1.410146</td>\n",
       "      <td>-1.495014</td>\n",
       "    </tr>\n",
       "    <tr>\n",
       "      <th>...</th>\n",
       "      <td>...</td>\n",
       "      <td>...</td>\n",
       "      <td>...</td>\n",
       "      <td>...</td>\n",
       "      <td>...</td>\n",
       "      <td>...</td>\n",
       "      <td>...</td>\n",
       "      <td>...</td>\n",
       "      <td>...</td>\n",
       "      <td>...</td>\n",
       "      <td>...</td>\n",
       "    </tr>\n",
       "    <tr>\n",
       "      <th>9252</th>\n",
       "      <td>-2.065139</td>\n",
       "      <td>-0.757897</td>\n",
       "      <td>0.690847</td>\n",
       "      <td>1.026556</td>\n",
       "      <td>-0.910631</td>\n",
       "      <td>-1.557131</td>\n",
       "      <td>0.966317</td>\n",
       "      <td>-1.375444</td>\n",
       "      <td>-0.509748</td>\n",
       "      <td>1.410146</td>\n",
       "      <td>-0.666234</td>\n",
       "    </tr>\n",
       "    <tr>\n",
       "      <th>7863</th>\n",
       "      <td>0.981301</td>\n",
       "      <td>0.765490</td>\n",
       "      <td>1.036054</td>\n",
       "      <td>1.049798</td>\n",
       "      <td>-0.910631</td>\n",
       "      <td>0.642207</td>\n",
       "      <td>0.966317</td>\n",
       "      <td>-0.649067</td>\n",
       "      <td>-0.509748</td>\n",
       "      <td>-0.015324</td>\n",
       "      <td>0.322097</td>\n",
       "    </tr>\n",
       "    <tr>\n",
       "      <th>6738</th>\n",
       "      <td>-0.805255</td>\n",
       "      <td>-0.377050</td>\n",
       "      <td>1.381262</td>\n",
       "      <td>0.923450</td>\n",
       "      <td>0.799474</td>\n",
       "      <td>0.642207</td>\n",
       "      <td>0.966317</td>\n",
       "      <td>0.358474</td>\n",
       "      <td>-0.509748</td>\n",
       "      <td>-0.015324</td>\n",
       "      <td>-0.573163</td>\n",
       "    </tr>\n",
       "    <tr>\n",
       "      <th>6993</th>\n",
       "      <td>-0.123679</td>\n",
       "      <td>-0.377050</td>\n",
       "      <td>-1.380399</td>\n",
       "      <td>0.418870</td>\n",
       "      <td>0.799474</td>\n",
       "      <td>0.642207</td>\n",
       "      <td>0.966317</td>\n",
       "      <td>0.692404</td>\n",
       "      <td>-0.509748</td>\n",
       "      <td>-1.440794</td>\n",
       "      <td>-0.626347</td>\n",
       "    </tr>\n",
       "    <tr>\n",
       "      <th>7096</th>\n",
       "      <td>-0.949832</td>\n",
       "      <td>-0.091415</td>\n",
       "      <td>-0.689984</td>\n",
       "      <td>1.105769</td>\n",
       "      <td>-0.910631</td>\n",
       "      <td>0.642207</td>\n",
       "      <td>-1.034857</td>\n",
       "      <td>-0.749672</td>\n",
       "      <td>1.961756</td>\n",
       "      <td>-0.728059</td>\n",
       "      <td>0.437328</td>\n",
       "    </tr>\n",
       "  </tbody>\n",
       "</table>\n",
       "<p>8000 rows × 11 columns</p>\n",
       "</div>"
      ],
      "text/plain": [
       "      CreditScore       Age    Tenure   Balance  NumOfProducts  HasCrCard  \\\n",
       "5217     0.754109 -1.043531  0.000432  0.332277      -0.910631   0.642207   \n",
       "3805     0.175802 -0.472262 -1.725606 -1.232138      -0.910631  -1.557131   \n",
       "3582     0.361686 -0.377050 -0.344776 -1.232138      -0.910631   0.642207   \n",
       "1996    -1.208005  2.193664 -1.035191 -1.232138       0.799474  -1.557131   \n",
       "9584    -0.908524  0.194220 -1.035191  0.378896      -0.910631   0.642207   \n",
       "...           ...       ...       ...       ...            ...        ...   \n",
       "9252    -2.065139 -0.757897  0.690847  1.026556      -0.910631  -1.557131   \n",
       "7863     0.981301  0.765490  1.036054  1.049798      -0.910631   0.642207   \n",
       "6738    -0.805255 -0.377050  1.381262  0.923450       0.799474   0.642207   \n",
       "6993    -0.123679 -0.377050 -1.380399  0.418870       0.799474   0.642207   \n",
       "7096    -0.949832 -0.091415 -0.689984  1.105769      -0.910631   0.642207   \n",
       "\n",
       "      IsActiveMember  EstimatedSalary  Complain  Satisfaction Score  \\\n",
       "5217        0.966317        -0.049619 -0.509748           -0.728059   \n",
       "3805       -1.034857         0.011120 -0.509748           -1.440794   \n",
       "3582       -1.034857        -1.577036 -0.509748           -0.728059   \n",
       "1996       -1.034857        -0.985683  1.961756           -0.728059   \n",
       "9584        0.966317        -1.392446  1.961756            1.410146   \n",
       "...              ...              ...       ...                 ...   \n",
       "9252        0.966317        -1.375444 -0.509748            1.410146   \n",
       "7863        0.966317        -0.649067 -0.509748           -0.015324   \n",
       "6738        0.966317         0.358474 -0.509748           -0.015324   \n",
       "6993        0.966317         0.692404 -0.509748           -1.440794   \n",
       "7096       -1.034857        -0.749672  1.961756           -0.728059   \n",
       "\n",
       "      Point Earned  \n",
       "5217      1.283836  \n",
       "3805      1.137581  \n",
       "3582      0.211297  \n",
       "1996     -0.085645  \n",
       "9584     -1.495014  \n",
       "...            ...  \n",
       "9252     -0.666234  \n",
       "7863      0.322097  \n",
       "6738     -0.573163  \n",
       "6993     -0.626347  \n",
       "7096      0.437328  \n",
       "\n",
       "[8000 rows x 11 columns]"
      ]
     },
     "execution_count": 79,
     "metadata": {},
     "output_type": "execute_result"
    }
   ],
   "source": [
    "x_train_num_rescaled\n"
   ]
  },
  {
   "cell_type": "markdown",
   "id": "7e3a83a1",
   "metadata": {},
   "source": [
    "#### Test Data"
   ]
  },
  {
   "cell_type": "code",
   "execution_count": 80,
   "id": "8d8cb54f",
   "metadata": {},
   "outputs": [],
   "source": [
    "x_test_num_rescaled = pd.DataFrame(scaler.transform(x_test_num),columns=x_test_num.columns,index = x_test_num.index)"
   ]
  },
  {
   "cell_type": "code",
   "execution_count": 81,
   "id": "cd5d28c9",
   "metadata": {},
   "outputs": [
    {
     "data": {
      "text/html": [
       "<div>\n",
       "<style scoped>\n",
       "    .dataframe tbody tr th:only-of-type {\n",
       "        vertical-align: middle;\n",
       "    }\n",
       "\n",
       "    .dataframe tbody tr th {\n",
       "        vertical-align: top;\n",
       "    }\n",
       "\n",
       "    .dataframe thead th {\n",
       "        text-align: right;\n",
       "    }\n",
       "</style>\n",
       "<table border=\"1\" class=\"dataframe\">\n",
       "  <thead>\n",
       "    <tr style=\"text-align: right;\">\n",
       "      <th></th>\n",
       "      <th>Geography</th>\n",
       "      <th>Gender</th>\n",
       "      <th>Card Type</th>\n",
       "    </tr>\n",
       "  </thead>\n",
       "  <tbody>\n",
       "    <tr>\n",
       "      <th>9837</th>\n",
       "      <td>France</td>\n",
       "      <td>Male</td>\n",
       "      <td>SILVER</td>\n",
       "    </tr>\n",
       "    <tr>\n",
       "      <th>6018</th>\n",
       "      <td>France</td>\n",
       "      <td>Male</td>\n",
       "      <td>DIAMOND</td>\n",
       "    </tr>\n",
       "    <tr>\n",
       "      <th>3339</th>\n",
       "      <td>Spain</td>\n",
       "      <td>Female</td>\n",
       "      <td>PLATINUM</td>\n",
       "    </tr>\n",
       "    <tr>\n",
       "      <th>7227</th>\n",
       "      <td>Spain</td>\n",
       "      <td>Female</td>\n",
       "      <td>PLATINUM</td>\n",
       "    </tr>\n",
       "    <tr>\n",
       "      <th>2703</th>\n",
       "      <td>Germany</td>\n",
       "      <td>Male</td>\n",
       "      <td>PLATINUM</td>\n",
       "    </tr>\n",
       "  </tbody>\n",
       "</table>\n",
       "</div>"
      ],
      "text/plain": [
       "     Geography  Gender Card Type\n",
       "9837    France    Male    SILVER\n",
       "6018    France    Male   DIAMOND\n",
       "3339     Spain  Female  PLATINUM\n",
       "7227     Spain  Female  PLATINUM\n",
       "2703   Germany    Male  PLATINUM"
      ]
     },
     "execution_count": 81,
     "metadata": {},
     "output_type": "execute_result"
    }
   ],
   "source": [
    "x_test_cat.head()"
   ]
  },
  {
   "cell_type": "code",
   "execution_count": 82,
   "id": "7fc2de43",
   "metadata": {},
   "outputs": [
    {
     "data": {
      "text/plain": [
       "SILVER      507\n",
       "PLATINUM    505\n",
       "GOLD        496\n",
       "DIAMOND     492\n",
       "Name: Card Type, dtype: int64"
      ]
     },
     "execution_count": 82,
     "metadata": {},
     "output_type": "execute_result"
    }
   ],
   "source": [
    "x_test_cat['Card Type'].value_counts()"
   ]
  },
  {
   "cell_type": "markdown",
   "id": "05d77ee1",
   "metadata": {},
   "source": [
    "#### OneHot encoding"
   ]
  },
  {
   "cell_type": "code",
   "execution_count": 83,
   "id": "48728a31",
   "metadata": {},
   "outputs": [],
   "source": [
    "x_train_cat_oh = x_train_cat[[\"Geography\",\"Gender\"]]"
   ]
  },
  {
   "cell_type": "code",
   "execution_count": 84,
   "id": "85ad8e0b",
   "metadata": {},
   "outputs": [
    {
     "data": {
      "text/html": [
       "<div>\n",
       "<style scoped>\n",
       "    .dataframe tbody tr th:only-of-type {\n",
       "        vertical-align: middle;\n",
       "    }\n",
       "\n",
       "    .dataframe tbody tr th {\n",
       "        vertical-align: top;\n",
       "    }\n",
       "\n",
       "    .dataframe thead th {\n",
       "        text-align: right;\n",
       "    }\n",
       "</style>\n",
       "<table border=\"1\" class=\"dataframe\">\n",
       "  <thead>\n",
       "    <tr style=\"text-align: right;\">\n",
       "      <th></th>\n",
       "      <th>Geography</th>\n",
       "      <th>Gender</th>\n",
       "    </tr>\n",
       "  </thead>\n",
       "  <tbody>\n",
       "    <tr>\n",
       "      <th>5217</th>\n",
       "      <td>France</td>\n",
       "      <td>Male</td>\n",
       "    </tr>\n",
       "    <tr>\n",
       "      <th>3805</th>\n",
       "      <td>Spain</td>\n",
       "      <td>Male</td>\n",
       "    </tr>\n",
       "    <tr>\n",
       "      <th>3582</th>\n",
       "      <td>France</td>\n",
       "      <td>Male</td>\n",
       "    </tr>\n",
       "    <tr>\n",
       "      <th>1996</th>\n",
       "      <td>France</td>\n",
       "      <td>Male</td>\n",
       "    </tr>\n",
       "    <tr>\n",
       "      <th>9584</th>\n",
       "      <td>Germany</td>\n",
       "      <td>Male</td>\n",
       "    </tr>\n",
       "  </tbody>\n",
       "</table>\n",
       "</div>"
      ],
      "text/plain": [
       "     Geography Gender\n",
       "5217    France   Male\n",
       "3805     Spain   Male\n",
       "3582    France   Male\n",
       "1996    France   Male\n",
       "9584   Germany   Male"
      ]
     },
     "execution_count": 84,
     "metadata": {},
     "output_type": "execute_result"
    }
   ],
   "source": [
    "x_train_cat_oh.head()"
   ]
  },
  {
   "cell_type": "code",
   "execution_count": 85,
   "id": "44050de0",
   "metadata": {},
   "outputs": [],
   "source": [
    "x_train_cat_la = x_train_cat[['Card Type']]"
   ]
  },
  {
   "cell_type": "code",
   "execution_count": 86,
   "id": "818fa8b1",
   "metadata": {},
   "outputs": [
    {
     "data": {
      "text/html": [
       "<div>\n",
       "<style scoped>\n",
       "    .dataframe tbody tr th:only-of-type {\n",
       "        vertical-align: middle;\n",
       "    }\n",
       "\n",
       "    .dataframe tbody tr th {\n",
       "        vertical-align: top;\n",
       "    }\n",
       "\n",
       "    .dataframe thead th {\n",
       "        text-align: right;\n",
       "    }\n",
       "</style>\n",
       "<table border=\"1\" class=\"dataframe\">\n",
       "  <thead>\n",
       "    <tr style=\"text-align: right;\">\n",
       "      <th></th>\n",
       "      <th>Card Type</th>\n",
       "    </tr>\n",
       "  </thead>\n",
       "  <tbody>\n",
       "    <tr>\n",
       "      <th>5217</th>\n",
       "      <td>DIAMOND</td>\n",
       "    </tr>\n",
       "    <tr>\n",
       "      <th>3805</th>\n",
       "      <td>GOLD</td>\n",
       "    </tr>\n",
       "    <tr>\n",
       "      <th>3582</th>\n",
       "      <td>GOLD</td>\n",
       "    </tr>\n",
       "    <tr>\n",
       "      <th>1996</th>\n",
       "      <td>SILVER</td>\n",
       "    </tr>\n",
       "    <tr>\n",
       "      <th>9584</th>\n",
       "      <td>DIAMOND</td>\n",
       "    </tr>\n",
       "    <tr>\n",
       "      <th>...</th>\n",
       "      <td>...</td>\n",
       "    </tr>\n",
       "    <tr>\n",
       "      <th>9252</th>\n",
       "      <td>PLATINUM</td>\n",
       "    </tr>\n",
       "    <tr>\n",
       "      <th>7863</th>\n",
       "      <td>PLATINUM</td>\n",
       "    </tr>\n",
       "    <tr>\n",
       "      <th>6738</th>\n",
       "      <td>GOLD</td>\n",
       "    </tr>\n",
       "    <tr>\n",
       "      <th>6993</th>\n",
       "      <td>PLATINUM</td>\n",
       "    </tr>\n",
       "    <tr>\n",
       "      <th>7096</th>\n",
       "      <td>SILVER</td>\n",
       "    </tr>\n",
       "  </tbody>\n",
       "</table>\n",
       "<p>8000 rows × 1 columns</p>\n",
       "</div>"
      ],
      "text/plain": [
       "     Card Type\n",
       "5217   DIAMOND\n",
       "3805      GOLD\n",
       "3582      GOLD\n",
       "1996    SILVER\n",
       "9584   DIAMOND\n",
       "...        ...\n",
       "9252  PLATINUM\n",
       "7863  PLATINUM\n",
       "6738      GOLD\n",
       "6993  PLATINUM\n",
       "7096    SILVER\n",
       "\n",
       "[8000 rows x 1 columns]"
      ]
     },
     "execution_count": 86,
     "metadata": {},
     "output_type": "execute_result"
    }
   ],
   "source": [
    "x_train_cat_la"
   ]
  },
  {
   "cell_type": "code",
   "execution_count": 87,
   "id": "68d2d4aa",
   "metadata": {},
   "outputs": [],
   "source": [
    "from sklearn.preprocessing import OneHotEncoder\n",
    "encoder = OneHotEncoder(drop='first',sparse=False)"
   ]
  },
  {
   "cell_type": "code",
   "execution_count": 88,
   "id": "3f209c5d",
   "metadata": {},
   "outputs": [],
   "source": [
    "x_train_cat_ohot = pd.DataFrame(encoder.fit_transform(x_train_cat_oh),columns=encoder.get_feature_names_out(x_train_cat_oh.columns),index = x_train_cat_oh.index)"
   ]
  },
  {
   "cell_type": "code",
   "execution_count": 89,
   "id": "f5b3dcdf",
   "metadata": {},
   "outputs": [
    {
     "data": {
      "text/html": [
       "<div>\n",
       "<style scoped>\n",
       "    .dataframe tbody tr th:only-of-type {\n",
       "        vertical-align: middle;\n",
       "    }\n",
       "\n",
       "    .dataframe tbody tr th {\n",
       "        vertical-align: top;\n",
       "    }\n",
       "\n",
       "    .dataframe thead th {\n",
       "        text-align: right;\n",
       "    }\n",
       "</style>\n",
       "<table border=\"1\" class=\"dataframe\">\n",
       "  <thead>\n",
       "    <tr style=\"text-align: right;\">\n",
       "      <th></th>\n",
       "      <th>Geography_Germany</th>\n",
       "      <th>Geography_Spain</th>\n",
       "      <th>Gender_Male</th>\n",
       "    </tr>\n",
       "  </thead>\n",
       "  <tbody>\n",
       "    <tr>\n",
       "      <th>5217</th>\n",
       "      <td>0.0</td>\n",
       "      <td>0.0</td>\n",
       "      <td>1.0</td>\n",
       "    </tr>\n",
       "    <tr>\n",
       "      <th>3805</th>\n",
       "      <td>0.0</td>\n",
       "      <td>1.0</td>\n",
       "      <td>1.0</td>\n",
       "    </tr>\n",
       "    <tr>\n",
       "      <th>3582</th>\n",
       "      <td>0.0</td>\n",
       "      <td>0.0</td>\n",
       "      <td>1.0</td>\n",
       "    </tr>\n",
       "    <tr>\n",
       "      <th>1996</th>\n",
       "      <td>0.0</td>\n",
       "      <td>0.0</td>\n",
       "      <td>1.0</td>\n",
       "    </tr>\n",
       "    <tr>\n",
       "      <th>9584</th>\n",
       "      <td>1.0</td>\n",
       "      <td>0.0</td>\n",
       "      <td>1.0</td>\n",
       "    </tr>\n",
       "  </tbody>\n",
       "</table>\n",
       "</div>"
      ],
      "text/plain": [
       "      Geography_Germany  Geography_Spain  Gender_Male\n",
       "5217                0.0              0.0          1.0\n",
       "3805                0.0              1.0          1.0\n",
       "3582                0.0              0.0          1.0\n",
       "1996                0.0              0.0          1.0\n",
       "9584                1.0              0.0          1.0"
      ]
     },
     "execution_count": 89,
     "metadata": {},
     "output_type": "execute_result"
    }
   ],
   "source": [
    "x_train_cat_ohot.head()"
   ]
  },
  {
   "cell_type": "code",
   "execution_count": 90,
   "id": "99fb6a34",
   "metadata": {},
   "outputs": [
    {
     "data": {
      "text/plain": [
       "0.0    5966\n",
       "1.0    2034\n",
       "Name: Geography_Germany, dtype: int64"
      ]
     },
     "execution_count": 90,
     "metadata": {},
     "output_type": "execute_result"
    }
   ],
   "source": [
    "x_train_cat_ohot[\"Geography_Germany\"].value_counts()"
   ]
  },
  {
   "cell_type": "code",
   "execution_count": 91,
   "id": "13eff016",
   "metadata": {},
   "outputs": [
    {
     "data": {
      "text/html": [
       "<div>\n",
       "<style scoped>\n",
       "    .dataframe tbody tr th:only-of-type {\n",
       "        vertical-align: middle;\n",
       "    }\n",
       "\n",
       "    .dataframe tbody tr th {\n",
       "        vertical-align: top;\n",
       "    }\n",
       "\n",
       "    .dataframe thead th {\n",
       "        text-align: right;\n",
       "    }\n",
       "</style>\n",
       "<table border=\"1\" class=\"dataframe\">\n",
       "  <thead>\n",
       "    <tr style=\"text-align: right;\">\n",
       "      <th></th>\n",
       "      <th>Card Type</th>\n",
       "    </tr>\n",
       "  </thead>\n",
       "  <tbody>\n",
       "    <tr>\n",
       "      <th>5217</th>\n",
       "      <td>1</td>\n",
       "    </tr>\n",
       "    <tr>\n",
       "      <th>3805</th>\n",
       "      <td>3</td>\n",
       "    </tr>\n",
       "    <tr>\n",
       "      <th>3582</th>\n",
       "      <td>3</td>\n",
       "    </tr>\n",
       "    <tr>\n",
       "      <th>1996</th>\n",
       "      <td>4</td>\n",
       "    </tr>\n",
       "    <tr>\n",
       "      <th>9584</th>\n",
       "      <td>1</td>\n",
       "    </tr>\n",
       "  </tbody>\n",
       "</table>\n",
       "</div>"
      ],
      "text/plain": [
       "      Card Type\n",
       "5217          1\n",
       "3805          3\n",
       "3582          3\n",
       "1996          4\n",
       "9584          1"
      ]
     },
     "execution_count": 91,
     "metadata": {},
     "output_type": "execute_result"
    }
   ],
   "source": [
    "card_encoder = {'DIAMOND':1,'PLATINUM':2,'GOLD':3,'SILVER':4}\n",
    "x_train_cat_la['Card Type'] = x_train_cat_la['Card Type'].apply(lambda x : card_encoder[x])\n",
    "\n",
    "x_train_cat_la.head()"
   ]
  },
  {
   "cell_type": "code",
   "execution_count": 92,
   "id": "06aba010",
   "metadata": {},
   "outputs": [
    {
     "data": {
      "text/plain": [
       "1    2015\n",
       "3    2006\n",
       "2    1990\n",
       "4    1989\n",
       "Name: Card Type, dtype: int64"
      ]
     },
     "execution_count": 92,
     "metadata": {},
     "output_type": "execute_result"
    }
   ],
   "source": [
    "x_train_cat_la[\"Card Type\"].value_counts()"
   ]
  },
  {
   "cell_type": "code",
   "execution_count": 93,
   "id": "79ebb04f",
   "metadata": {},
   "outputs": [
    {
     "data": {
      "text/html": [
       "<div>\n",
       "<style scoped>\n",
       "    .dataframe tbody tr th:only-of-type {\n",
       "        vertical-align: middle;\n",
       "    }\n",
       "\n",
       "    .dataframe tbody tr th {\n",
       "        vertical-align: top;\n",
       "    }\n",
       "\n",
       "    .dataframe thead th {\n",
       "        text-align: right;\n",
       "    }\n",
       "</style>\n",
       "<table border=\"1\" class=\"dataframe\">\n",
       "  <thead>\n",
       "    <tr style=\"text-align: right;\">\n",
       "      <th></th>\n",
       "      <th>CreditScore</th>\n",
       "      <th>Age</th>\n",
       "      <th>Tenure</th>\n",
       "      <th>Balance</th>\n",
       "      <th>NumOfProducts</th>\n",
       "      <th>HasCrCard</th>\n",
       "      <th>IsActiveMember</th>\n",
       "      <th>EstimatedSalary</th>\n",
       "      <th>Complain</th>\n",
       "      <th>Satisfaction Score</th>\n",
       "      <th>Point Earned</th>\n",
       "      <th>Geography_Germany</th>\n",
       "      <th>Geography_Spain</th>\n",
       "      <th>Gender_Male</th>\n",
       "      <th>Card Type</th>\n",
       "    </tr>\n",
       "  </thead>\n",
       "  <tbody>\n",
       "    <tr>\n",
       "      <th>5217</th>\n",
       "      <td>0.754109</td>\n",
       "      <td>-1.043531</td>\n",
       "      <td>0.000432</td>\n",
       "      <td>0.332277</td>\n",
       "      <td>-0.910631</td>\n",
       "      <td>0.642207</td>\n",
       "      <td>0.966317</td>\n",
       "      <td>-0.049619</td>\n",
       "      <td>-0.509748</td>\n",
       "      <td>-0.728059</td>\n",
       "      <td>1.283836</td>\n",
       "      <td>0.0</td>\n",
       "      <td>0.0</td>\n",
       "      <td>1.0</td>\n",
       "      <td>1</td>\n",
       "    </tr>\n",
       "    <tr>\n",
       "      <th>3805</th>\n",
       "      <td>0.175802</td>\n",
       "      <td>-0.472262</td>\n",
       "      <td>-1.725606</td>\n",
       "      <td>-1.232138</td>\n",
       "      <td>-0.910631</td>\n",
       "      <td>-1.557131</td>\n",
       "      <td>-1.034857</td>\n",
       "      <td>0.011120</td>\n",
       "      <td>-0.509748</td>\n",
       "      <td>-1.440794</td>\n",
       "      <td>1.137581</td>\n",
       "      <td>0.0</td>\n",
       "      <td>1.0</td>\n",
       "      <td>1.0</td>\n",
       "      <td>3</td>\n",
       "    </tr>\n",
       "    <tr>\n",
       "      <th>3582</th>\n",
       "      <td>0.361686</td>\n",
       "      <td>-0.377050</td>\n",
       "      <td>-0.344776</td>\n",
       "      <td>-1.232138</td>\n",
       "      <td>-0.910631</td>\n",
       "      <td>0.642207</td>\n",
       "      <td>-1.034857</td>\n",
       "      <td>-1.577036</td>\n",
       "      <td>-0.509748</td>\n",
       "      <td>-0.728059</td>\n",
       "      <td>0.211297</td>\n",
       "      <td>0.0</td>\n",
       "      <td>0.0</td>\n",
       "      <td>1.0</td>\n",
       "      <td>3</td>\n",
       "    </tr>\n",
       "    <tr>\n",
       "      <th>1996</th>\n",
       "      <td>-1.208005</td>\n",
       "      <td>2.193664</td>\n",
       "      <td>-1.035191</td>\n",
       "      <td>-1.232138</td>\n",
       "      <td>0.799474</td>\n",
       "      <td>-1.557131</td>\n",
       "      <td>-1.034857</td>\n",
       "      <td>-0.985683</td>\n",
       "      <td>1.961756</td>\n",
       "      <td>-0.728059</td>\n",
       "      <td>-0.085645</td>\n",
       "      <td>0.0</td>\n",
       "      <td>0.0</td>\n",
       "      <td>1.0</td>\n",
       "      <td>4</td>\n",
       "    </tr>\n",
       "    <tr>\n",
       "      <th>9584</th>\n",
       "      <td>-0.908524</td>\n",
       "      <td>0.194220</td>\n",
       "      <td>-1.035191</td>\n",
       "      <td>0.378896</td>\n",
       "      <td>-0.910631</td>\n",
       "      <td>0.642207</td>\n",
       "      <td>0.966317</td>\n",
       "      <td>-1.392446</td>\n",
       "      <td>1.961756</td>\n",
       "      <td>1.410146</td>\n",
       "      <td>-1.495014</td>\n",
       "      <td>1.0</td>\n",
       "      <td>0.0</td>\n",
       "      <td>1.0</td>\n",
       "      <td>1</td>\n",
       "    </tr>\n",
       "  </tbody>\n",
       "</table>\n",
       "</div>"
      ],
      "text/plain": [
       "      CreditScore       Age    Tenure   Balance  NumOfProducts  HasCrCard  \\\n",
       "5217     0.754109 -1.043531  0.000432  0.332277      -0.910631   0.642207   \n",
       "3805     0.175802 -0.472262 -1.725606 -1.232138      -0.910631  -1.557131   \n",
       "3582     0.361686 -0.377050 -0.344776 -1.232138      -0.910631   0.642207   \n",
       "1996    -1.208005  2.193664 -1.035191 -1.232138       0.799474  -1.557131   \n",
       "9584    -0.908524  0.194220 -1.035191  0.378896      -0.910631   0.642207   \n",
       "\n",
       "      IsActiveMember  EstimatedSalary  Complain  Satisfaction Score  \\\n",
       "5217        0.966317        -0.049619 -0.509748           -0.728059   \n",
       "3805       -1.034857         0.011120 -0.509748           -1.440794   \n",
       "3582       -1.034857        -1.577036 -0.509748           -0.728059   \n",
       "1996       -1.034857        -0.985683  1.961756           -0.728059   \n",
       "9584        0.966317        -1.392446  1.961756            1.410146   \n",
       "\n",
       "      Point Earned  Geography_Germany  Geography_Spain  Gender_Male  Card Type  \n",
       "5217      1.283836                0.0              0.0          1.0          1  \n",
       "3805      1.137581                0.0              1.0          1.0          3  \n",
       "3582      0.211297                0.0              0.0          1.0          3  \n",
       "1996     -0.085645                0.0              0.0          1.0          4  \n",
       "9584     -1.495014                1.0              0.0          1.0          1  "
      ]
     },
     "execution_count": 93,
     "metadata": {},
     "output_type": "execute_result"
    }
   ],
   "source": [
    "x_train_transform = pd.concat([x_train_num_rescaled,x_train_cat_ohot,x_train_cat_la],axis=1)\n",
    "x_train_transform.head()"
   ]
  },
  {
   "cell_type": "code",
   "execution_count": null,
   "id": "1373ed3a",
   "metadata": {},
   "outputs": [],
   "source": []
  },
  {
   "cell_type": "code",
   "execution_count": 94,
   "id": "75867552",
   "metadata": {},
   "outputs": [],
   "source": [
    "x_test_cat_oh = x_test_cat[[\"Geography\",\"Gender\"]]"
   ]
  },
  {
   "cell_type": "code",
   "execution_count": 95,
   "id": "efd8b7ee",
   "metadata": {},
   "outputs": [
    {
     "data": {
      "text/html": [
       "<div>\n",
       "<style scoped>\n",
       "    .dataframe tbody tr th:only-of-type {\n",
       "        vertical-align: middle;\n",
       "    }\n",
       "\n",
       "    .dataframe tbody tr th {\n",
       "        vertical-align: top;\n",
       "    }\n",
       "\n",
       "    .dataframe thead th {\n",
       "        text-align: right;\n",
       "    }\n",
       "</style>\n",
       "<table border=\"1\" class=\"dataframe\">\n",
       "  <thead>\n",
       "    <tr style=\"text-align: right;\">\n",
       "      <th></th>\n",
       "      <th>Geography</th>\n",
       "      <th>Gender</th>\n",
       "    </tr>\n",
       "  </thead>\n",
       "  <tbody>\n",
       "    <tr>\n",
       "      <th>9837</th>\n",
       "      <td>France</td>\n",
       "      <td>Male</td>\n",
       "    </tr>\n",
       "    <tr>\n",
       "      <th>6018</th>\n",
       "      <td>France</td>\n",
       "      <td>Male</td>\n",
       "    </tr>\n",
       "    <tr>\n",
       "      <th>3339</th>\n",
       "      <td>Spain</td>\n",
       "      <td>Female</td>\n",
       "    </tr>\n",
       "    <tr>\n",
       "      <th>7227</th>\n",
       "      <td>Spain</td>\n",
       "      <td>Female</td>\n",
       "    </tr>\n",
       "    <tr>\n",
       "      <th>2703</th>\n",
       "      <td>Germany</td>\n",
       "      <td>Male</td>\n",
       "    </tr>\n",
       "    <tr>\n",
       "      <th>...</th>\n",
       "      <td>...</td>\n",
       "      <td>...</td>\n",
       "    </tr>\n",
       "    <tr>\n",
       "      <th>9098</th>\n",
       "      <td>Germany</td>\n",
       "      <td>Female</td>\n",
       "    </tr>\n",
       "    <tr>\n",
       "      <th>6933</th>\n",
       "      <td>Spain</td>\n",
       "      <td>Male</td>\n",
       "    </tr>\n",
       "    <tr>\n",
       "      <th>84</th>\n",
       "      <td>France</td>\n",
       "      <td>Female</td>\n",
       "    </tr>\n",
       "    <tr>\n",
       "      <th>764</th>\n",
       "      <td>Germany</td>\n",
       "      <td>Male</td>\n",
       "    </tr>\n",
       "    <tr>\n",
       "      <th>4065</th>\n",
       "      <td>Spain</td>\n",
       "      <td>Male</td>\n",
       "    </tr>\n",
       "  </tbody>\n",
       "</table>\n",
       "<p>2000 rows × 2 columns</p>\n",
       "</div>"
      ],
      "text/plain": [
       "     Geography  Gender\n",
       "9837    France    Male\n",
       "6018    France    Male\n",
       "3339     Spain  Female\n",
       "7227     Spain  Female\n",
       "2703   Germany    Male\n",
       "...        ...     ...\n",
       "9098   Germany  Female\n",
       "6933     Spain    Male\n",
       "84      France  Female\n",
       "764    Germany    Male\n",
       "4065     Spain    Male\n",
       "\n",
       "[2000 rows x 2 columns]"
      ]
     },
     "execution_count": 95,
     "metadata": {},
     "output_type": "execute_result"
    }
   ],
   "source": [
    "x_test_cat_oh"
   ]
  },
  {
   "cell_type": "code",
   "execution_count": null,
   "id": "23d8b000",
   "metadata": {},
   "outputs": [],
   "source": []
  },
  {
   "cell_type": "code",
   "execution_count": 96,
   "id": "4d60a551",
   "metadata": {},
   "outputs": [],
   "source": [
    "\n",
    "x_test_cat_ohot = pd.DataFrame(encoder.transform(x_test_cat_oh),columns=encoder.get_feature_names_out(x_test_cat_oh.columns),index = x_test_cat_oh.index)"
   ]
  },
  {
   "cell_type": "code",
   "execution_count": 97,
   "id": "134c8a19",
   "metadata": {},
   "outputs": [
    {
     "data": {
      "text/html": [
       "<div>\n",
       "<style scoped>\n",
       "    .dataframe tbody tr th:only-of-type {\n",
       "        vertical-align: middle;\n",
       "    }\n",
       "\n",
       "    .dataframe tbody tr th {\n",
       "        vertical-align: top;\n",
       "    }\n",
       "\n",
       "    .dataframe thead th {\n",
       "        text-align: right;\n",
       "    }\n",
       "</style>\n",
       "<table border=\"1\" class=\"dataframe\">\n",
       "  <thead>\n",
       "    <tr style=\"text-align: right;\">\n",
       "      <th></th>\n",
       "      <th>Geography_Germany</th>\n",
       "      <th>Geography_Spain</th>\n",
       "      <th>Gender_Male</th>\n",
       "    </tr>\n",
       "  </thead>\n",
       "  <tbody>\n",
       "    <tr>\n",
       "      <th>9837</th>\n",
       "      <td>0.0</td>\n",
       "      <td>0.0</td>\n",
       "      <td>1.0</td>\n",
       "    </tr>\n",
       "    <tr>\n",
       "      <th>6018</th>\n",
       "      <td>0.0</td>\n",
       "      <td>0.0</td>\n",
       "      <td>1.0</td>\n",
       "    </tr>\n",
       "    <tr>\n",
       "      <th>3339</th>\n",
       "      <td>0.0</td>\n",
       "      <td>1.0</td>\n",
       "      <td>0.0</td>\n",
       "    </tr>\n",
       "    <tr>\n",
       "      <th>7227</th>\n",
       "      <td>0.0</td>\n",
       "      <td>1.0</td>\n",
       "      <td>0.0</td>\n",
       "    </tr>\n",
       "    <tr>\n",
       "      <th>2703</th>\n",
       "      <td>1.0</td>\n",
       "      <td>0.0</td>\n",
       "      <td>1.0</td>\n",
       "    </tr>\n",
       "  </tbody>\n",
       "</table>\n",
       "</div>"
      ],
      "text/plain": [
       "      Geography_Germany  Geography_Spain  Gender_Male\n",
       "9837                0.0              0.0          1.0\n",
       "6018                0.0              0.0          1.0\n",
       "3339                0.0              1.0          0.0\n",
       "7227                0.0              1.0          0.0\n",
       "2703                1.0              0.0          1.0"
      ]
     },
     "execution_count": 97,
     "metadata": {},
     "output_type": "execute_result"
    }
   ],
   "source": [
    "x_test_cat_ohot.head()"
   ]
  },
  {
   "cell_type": "code",
   "execution_count": null,
   "id": "54aa407c",
   "metadata": {},
   "outputs": [],
   "source": []
  },
  {
   "cell_type": "code",
   "execution_count": 98,
   "id": "61f36a03",
   "metadata": {},
   "outputs": [],
   "source": [
    "x_test_cat_la = x_test_cat[['Card Type']]"
   ]
  },
  {
   "cell_type": "code",
   "execution_count": 99,
   "id": "60a5e7a6",
   "metadata": {},
   "outputs": [
    {
     "data": {
      "text/html": [
       "<div>\n",
       "<style scoped>\n",
       "    .dataframe tbody tr th:only-of-type {\n",
       "        vertical-align: middle;\n",
       "    }\n",
       "\n",
       "    .dataframe tbody tr th {\n",
       "        vertical-align: top;\n",
       "    }\n",
       "\n",
       "    .dataframe thead th {\n",
       "        text-align: right;\n",
       "    }\n",
       "</style>\n",
       "<table border=\"1\" class=\"dataframe\">\n",
       "  <thead>\n",
       "    <tr style=\"text-align: right;\">\n",
       "      <th></th>\n",
       "      <th>Card Type</th>\n",
       "    </tr>\n",
       "  </thead>\n",
       "  <tbody>\n",
       "    <tr>\n",
       "      <th>9837</th>\n",
       "      <td>SILVER</td>\n",
       "    </tr>\n",
       "    <tr>\n",
       "      <th>6018</th>\n",
       "      <td>DIAMOND</td>\n",
       "    </tr>\n",
       "    <tr>\n",
       "      <th>3339</th>\n",
       "      <td>PLATINUM</td>\n",
       "    </tr>\n",
       "    <tr>\n",
       "      <th>7227</th>\n",
       "      <td>PLATINUM</td>\n",
       "    </tr>\n",
       "    <tr>\n",
       "      <th>2703</th>\n",
       "      <td>PLATINUM</td>\n",
       "    </tr>\n",
       "    <tr>\n",
       "      <th>...</th>\n",
       "      <td>...</td>\n",
       "    </tr>\n",
       "    <tr>\n",
       "      <th>9098</th>\n",
       "      <td>PLATINUM</td>\n",
       "    </tr>\n",
       "    <tr>\n",
       "      <th>6933</th>\n",
       "      <td>PLATINUM</td>\n",
       "    </tr>\n",
       "    <tr>\n",
       "      <th>84</th>\n",
       "      <td>SILVER</td>\n",
       "    </tr>\n",
       "    <tr>\n",
       "      <th>764</th>\n",
       "      <td>GOLD</td>\n",
       "    </tr>\n",
       "    <tr>\n",
       "      <th>4065</th>\n",
       "      <td>SILVER</td>\n",
       "    </tr>\n",
       "  </tbody>\n",
       "</table>\n",
       "<p>2000 rows × 1 columns</p>\n",
       "</div>"
      ],
      "text/plain": [
       "     Card Type\n",
       "9837    SILVER\n",
       "6018   DIAMOND\n",
       "3339  PLATINUM\n",
       "7227  PLATINUM\n",
       "2703  PLATINUM\n",
       "...        ...\n",
       "9098  PLATINUM\n",
       "6933  PLATINUM\n",
       "84      SILVER\n",
       "764       GOLD\n",
       "4065    SILVER\n",
       "\n",
       "[2000 rows x 1 columns]"
      ]
     },
     "execution_count": 99,
     "metadata": {},
     "output_type": "execute_result"
    }
   ],
   "source": [
    "x_test_cat_la"
   ]
  },
  {
   "cell_type": "code",
   "execution_count": 100,
   "id": "a5677ced",
   "metadata": {},
   "outputs": [
    {
     "data": {
      "text/html": [
       "<div>\n",
       "<style scoped>\n",
       "    .dataframe tbody tr th:only-of-type {\n",
       "        vertical-align: middle;\n",
       "    }\n",
       "\n",
       "    .dataframe tbody tr th {\n",
       "        vertical-align: top;\n",
       "    }\n",
       "\n",
       "    .dataframe thead th {\n",
       "        text-align: right;\n",
       "    }\n",
       "</style>\n",
       "<table border=\"1\" class=\"dataframe\">\n",
       "  <thead>\n",
       "    <tr style=\"text-align: right;\">\n",
       "      <th></th>\n",
       "      <th>Card Type</th>\n",
       "    </tr>\n",
       "  </thead>\n",
       "  <tbody>\n",
       "    <tr>\n",
       "      <th>9837</th>\n",
       "      <td>4</td>\n",
       "    </tr>\n",
       "    <tr>\n",
       "      <th>6018</th>\n",
       "      <td>1</td>\n",
       "    </tr>\n",
       "    <tr>\n",
       "      <th>3339</th>\n",
       "      <td>2</td>\n",
       "    </tr>\n",
       "    <tr>\n",
       "      <th>7227</th>\n",
       "      <td>2</td>\n",
       "    </tr>\n",
       "    <tr>\n",
       "      <th>2703</th>\n",
       "      <td>2</td>\n",
       "    </tr>\n",
       "  </tbody>\n",
       "</table>\n",
       "</div>"
      ],
      "text/plain": [
       "      Card Type\n",
       "9837          4\n",
       "6018          1\n",
       "3339          2\n",
       "7227          2\n",
       "2703          2"
      ]
     },
     "execution_count": 100,
     "metadata": {},
     "output_type": "execute_result"
    }
   ],
   "source": [
    "card_encoder = {'DIAMOND':1,'PLATINUM':2,'GOLD':3,'SILVER':4}\n",
    "x_test_cat_la['Card Type'] = x_test_cat_la['Card Type'].apply(lambda x : card_encoder[x])\n",
    "\n",
    "x_test_cat_la.head()"
   ]
  },
  {
   "cell_type": "code",
   "execution_count": 101,
   "id": "74067311",
   "metadata": {},
   "outputs": [
    {
     "data": {
      "text/plain": [
       "4    507\n",
       "2    505\n",
       "3    496\n",
       "1    492\n",
       "Name: Card Type, dtype: int64"
      ]
     },
     "execution_count": 101,
     "metadata": {},
     "output_type": "execute_result"
    }
   ],
   "source": [
    "x_test_cat_la[\"Card Type\"].value_counts()"
   ]
  },
  {
   "cell_type": "code",
   "execution_count": 102,
   "id": "05e0410c",
   "metadata": {},
   "outputs": [
    {
     "data": {
      "text/html": [
       "<div>\n",
       "<style scoped>\n",
       "    .dataframe tbody tr th:only-of-type {\n",
       "        vertical-align: middle;\n",
       "    }\n",
       "\n",
       "    .dataframe tbody tr th {\n",
       "        vertical-align: top;\n",
       "    }\n",
       "\n",
       "    .dataframe thead th {\n",
       "        text-align: right;\n",
       "    }\n",
       "</style>\n",
       "<table border=\"1\" class=\"dataframe\">\n",
       "  <thead>\n",
       "    <tr style=\"text-align: right;\">\n",
       "      <th></th>\n",
       "      <th>CreditScore</th>\n",
       "      <th>Age</th>\n",
       "      <th>Tenure</th>\n",
       "      <th>Balance</th>\n",
       "      <th>NumOfProducts</th>\n",
       "      <th>HasCrCard</th>\n",
       "      <th>IsActiveMember</th>\n",
       "      <th>EstimatedSalary</th>\n",
       "      <th>Complain</th>\n",
       "      <th>Satisfaction Score</th>\n",
       "      <th>Point Earned</th>\n",
       "      <th>Geography_Germany</th>\n",
       "      <th>Geography_Spain</th>\n",
       "      <th>Gender_Male</th>\n",
       "      <th>Card Type</th>\n",
       "    </tr>\n",
       "  </thead>\n",
       "  <tbody>\n",
       "    <tr>\n",
       "      <th>9837</th>\n",
       "      <td>1.022608</td>\n",
       "      <td>-0.091415</td>\n",
       "      <td>0.000432</td>\n",
       "      <td>1.196450</td>\n",
       "      <td>-0.910631</td>\n",
       "      <td>0.642207</td>\n",
       "      <td>0.966317</td>\n",
       "      <td>-0.919626</td>\n",
       "      <td>-0.509748</td>\n",
       "      <td>-0.728059</td>\n",
       "      <td>-1.025225</td>\n",
       "      <td>0.0</td>\n",
       "      <td>0.0</td>\n",
       "      <td>1.0</td>\n",
       "      <td>4</td>\n",
       "    </tr>\n",
       "    <tr>\n",
       "      <th>6018</th>\n",
       "      <td>0.826397</td>\n",
       "      <td>-0.853108</td>\n",
       "      <td>0.690847</td>\n",
       "      <td>-1.232138</td>\n",
       "      <td>0.799474</td>\n",
       "      <td>-1.557131</td>\n",
       "      <td>0.966317</td>\n",
       "      <td>0.761944</td>\n",
       "      <td>-0.509748</td>\n",
       "      <td>1.410146</td>\n",
       "      <td>1.164173</td>\n",
       "      <td>0.0</td>\n",
       "      <td>0.0</td>\n",
       "      <td>1.0</td>\n",
       "      <td>1</td>\n",
       "    </tr>\n",
       "    <tr>\n",
       "      <th>3339</th>\n",
       "      <td>-0.536756</td>\n",
       "      <td>-1.043531</td>\n",
       "      <td>-0.344776</td>\n",
       "      <td>0.800609</td>\n",
       "      <td>0.799474</td>\n",
       "      <td>0.642207</td>\n",
       "      <td>-1.034857</td>\n",
       "      <td>-0.670730</td>\n",
       "      <td>1.961756</td>\n",
       "      <td>1.410146</td>\n",
       "      <td>-1.579222</td>\n",
       "      <td>0.0</td>\n",
       "      <td>1.0</td>\n",
       "      <td>0.0</td>\n",
       "      <td>2</td>\n",
       "    </tr>\n",
       "    <tr>\n",
       "      <th>7227</th>\n",
       "      <td>0.547570</td>\n",
       "      <td>-1.424378</td>\n",
       "      <td>-1.035191</td>\n",
       "      <td>-1.232138</td>\n",
       "      <td>-0.910631</td>\n",
       "      <td>0.642207</td>\n",
       "      <td>-1.034857</td>\n",
       "      <td>-1.110460</td>\n",
       "      <td>1.961756</td>\n",
       "      <td>-0.015324</td>\n",
       "      <td>-0.732714</td>\n",
       "      <td>0.0</td>\n",
       "      <td>1.0</td>\n",
       "      <td>0.0</td>\n",
       "      <td>2</td>\n",
       "    </tr>\n",
       "    <tr>\n",
       "      <th>2703</th>\n",
       "      <td>-1.982523</td>\n",
       "      <td>0.670278</td>\n",
       "      <td>0.690847</td>\n",
       "      <td>0.536528</td>\n",
       "      <td>-0.910631</td>\n",
       "      <td>0.642207</td>\n",
       "      <td>-1.034857</td>\n",
       "      <td>-1.644054</td>\n",
       "      <td>1.961756</td>\n",
       "      <td>-1.440794</td>\n",
       "      <td>1.722602</td>\n",
       "      <td>1.0</td>\n",
       "      <td>0.0</td>\n",
       "      <td>1.0</td>\n",
       "      <td>2</td>\n",
       "    </tr>\n",
       "  </tbody>\n",
       "</table>\n",
       "</div>"
      ],
      "text/plain": [
       "      CreditScore       Age    Tenure   Balance  NumOfProducts  HasCrCard  \\\n",
       "9837     1.022608 -0.091415  0.000432  1.196450      -0.910631   0.642207   \n",
       "6018     0.826397 -0.853108  0.690847 -1.232138       0.799474  -1.557131   \n",
       "3339    -0.536756 -1.043531 -0.344776  0.800609       0.799474   0.642207   \n",
       "7227     0.547570 -1.424378 -1.035191 -1.232138      -0.910631   0.642207   \n",
       "2703    -1.982523  0.670278  0.690847  0.536528      -0.910631   0.642207   \n",
       "\n",
       "      IsActiveMember  EstimatedSalary  Complain  Satisfaction Score  \\\n",
       "9837        0.966317        -0.919626 -0.509748           -0.728059   \n",
       "6018        0.966317         0.761944 -0.509748            1.410146   \n",
       "3339       -1.034857        -0.670730  1.961756            1.410146   \n",
       "7227       -1.034857        -1.110460  1.961756           -0.015324   \n",
       "2703       -1.034857        -1.644054  1.961756           -1.440794   \n",
       "\n",
       "      Point Earned  Geography_Germany  Geography_Spain  Gender_Male  Card Type  \n",
       "9837     -1.025225                0.0              0.0          1.0          4  \n",
       "6018      1.164173                0.0              0.0          1.0          1  \n",
       "3339     -1.579222                0.0              1.0          0.0          2  \n",
       "7227     -0.732714                0.0              1.0          0.0          2  \n",
       "2703      1.722602                1.0              0.0          1.0          2  "
      ]
     },
     "execution_count": 102,
     "metadata": {},
     "output_type": "execute_result"
    }
   ],
   "source": [
    "x_test_transform = pd.concat([x_test_num_rescaled,x_test_cat_ohot,x_test_cat_la],axis=1)\n",
    "x_test_transform.head()"
   ]
  },
  {
   "cell_type": "code",
   "execution_count": null,
   "id": "5067b683",
   "metadata": {},
   "outputs": [],
   "source": []
  },
  {
   "cell_type": "code",
   "execution_count": 103,
   "id": "4387dc8b",
   "metadata": {},
   "outputs": [
    {
     "name": "stdout",
     "output_type": "stream",
     "text": [
      "Requirement already satisfied: keras_tuner in c:\\users\\mohsin\\anaconda3\\lib\\site-packages (1.4.5)Note: you may need to restart the kernel to use updated packages.\n"
     ]
    },
    {
     "name": "stderr",
     "output_type": "stream",
     "text": [
      "WARNING: There was an error checking the latest version of pip.\n"
     ]
    },
    {
     "name": "stdout",
     "output_type": "stream",
     "text": [
      "\n",
      "Requirement already satisfied: keras-core in c:\\users\\mohsin\\anaconda3\\lib\\site-packages (from keras_tuner) (0.1.7)\n",
      "Requirement already satisfied: packaging in c:\\users\\mohsin\\anaconda3\\lib\\site-packages (from keras_tuner) (20.9)\n",
      "Requirement already satisfied: requests in c:\\users\\mohsin\\anaconda3\\lib\\site-packages (from keras_tuner) (2.31.0)\n",
      "Requirement already satisfied: kt-legacy in c:\\users\\mohsin\\anaconda3\\lib\\site-packages (from keras_tuner) (1.0.5)\n",
      "Requirement already satisfied: absl-py in c:\\users\\mohsin\\anaconda3\\lib\\site-packages (from keras-core->keras_tuner) (1.4.0)\n",
      "Requirement already satisfied: numpy in c:\\users\\mohsin\\anaconda3\\lib\\site-packages (from keras-core->keras_tuner) (1.24.4)\n",
      "Requirement already satisfied: rich in c:\\users\\mohsin\\anaconda3\\lib\\site-packages (from keras-core->keras_tuner) (13.6.0)\n",
      "Requirement already satisfied: namex in c:\\users\\mohsin\\anaconda3\\lib\\site-packages (from keras-core->keras_tuner) (0.0.7)\n",
      "Requirement already satisfied: h5py in c:\\users\\mohsin\\anaconda3\\lib\\site-packages (from keras-core->keras_tuner) (3.7.0)\n",
      "Requirement already satisfied: dm-tree in c:\\users\\mohsin\\anaconda3\\lib\\site-packages (from keras-core->keras_tuner) (0.1.8)\n",
      "Requirement already satisfied: pyparsing>=2.0.2 in c:\\users\\mohsin\\anaconda3\\lib\\site-packages (from packaging->keras_tuner) (3.0.9)\n",
      "Requirement already satisfied: charset-normalizer<4,>=2 in c:\\users\\mohsin\\anaconda3\\lib\\site-packages (from requests->keras_tuner) (2.0.4)\n",
      "Requirement already satisfied: idna<4,>=2.5 in c:\\users\\mohsin\\anaconda3\\lib\\site-packages (from requests->keras_tuner) (3.3)\n",
      "Requirement already satisfied: urllib3<3,>=1.21.1 in c:\\users\\mohsin\\anaconda3\\lib\\site-packages (from requests->keras_tuner) (1.26.11)\n",
      "Requirement already satisfied: certifi>=2017.4.17 in c:\\users\\mohsin\\anaconda3\\lib\\site-packages (from requests->keras_tuner) (2022.9.14)\n",
      "Requirement already satisfied: markdown-it-py>=2.2.0 in c:\\users\\mohsin\\anaconda3\\lib\\site-packages (from rich->keras-core->keras_tuner) (3.0.0)\n",
      "Requirement already satisfied: pygments<3.0.0,>=2.13.0 in c:\\users\\mohsin\\anaconda3\\lib\\site-packages (from rich->keras-core->keras_tuner) (2.16.1)\n",
      "Requirement already satisfied: mdurl~=0.1 in c:\\users\\mohsin\\anaconda3\\lib\\site-packages (from markdown-it-py>=2.2.0->rich->keras-core->keras_tuner) (0.1.2)\n"
     ]
    }
   ],
   "source": [
    "pip install keras_tuner"
   ]
  },
  {
   "cell_type": "code",
   "execution_count": null,
   "id": "c6dc3210",
   "metadata": {},
   "outputs": [],
   "source": []
  },
  {
   "cell_type": "code",
   "execution_count": 104,
   "id": "b7993869",
   "metadata": {},
   "outputs": [
    {
     "name": "stdout",
     "output_type": "stream",
     "text": [
      "(8000, 14) (8000,)\n"
     ]
    }
   ],
   "source": [
    "print(x_train.shape, y_train.shape)"
   ]
  },
  {
   "cell_type": "markdown",
   "id": "07759238",
   "metadata": {},
   "source": [
    "### Building Logical Structure "
   ]
  },
  {
   "cell_type": "code",
   "execution_count": 105,
   "id": "e2896f82",
   "metadata": {},
   "outputs": [
    {
     "data": {
      "text/plain": [
       "0    7962\n",
       "1    2038\n",
       "Name: Exited, dtype: int64"
      ]
     },
     "execution_count": 105,
     "metadata": {},
     "output_type": "execute_result"
    }
   ],
   "source": [
    "y.value_counts()"
   ]
  },
  {
   "cell_type": "code",
   "execution_count": 106,
   "id": "f7b14d35",
   "metadata": {},
   "outputs": [],
   "source": [
    "import imblearn\n",
    "from imblearn.over_sampling import SMOTE"
   ]
  },
  {
   "cell_type": "code",
   "execution_count": 107,
   "id": "d7304e13",
   "metadata": {},
   "outputs": [],
   "source": [
    "s = SMOTE()"
   ]
  },
  {
   "cell_type": "code",
   "execution_count": 108,
   "id": "389f1f77",
   "metadata": {},
   "outputs": [],
   "source": [
    "x_train,y_train = s.fit_resample(x_train_transform,y_train)"
   ]
  },
  {
   "cell_type": "code",
   "execution_count": 109,
   "id": "55434332",
   "metadata": {
    "scrolled": true
   },
   "outputs": [
    {
     "name": "stdout",
     "output_type": "stream",
     "text": [
      "(8000, 15)\n",
      "(12706,)\n"
     ]
    }
   ],
   "source": [
    "print(x_train_transform.shape)\n",
    "print(y_train.shape)"
   ]
  },
  {
   "cell_type": "code",
   "execution_count": 110,
   "id": "fbd02b2b",
   "metadata": {
    "scrolled": true
   },
   "outputs": [
    {
     "data": {
      "text/html": [
       "<div>\n",
       "<style scoped>\n",
       "    .dataframe tbody tr th:only-of-type {\n",
       "        vertical-align: middle;\n",
       "    }\n",
       "\n",
       "    .dataframe tbody tr th {\n",
       "        vertical-align: top;\n",
       "    }\n",
       "\n",
       "    .dataframe thead th {\n",
       "        text-align: right;\n",
       "    }\n",
       "</style>\n",
       "<table border=\"1\" class=\"dataframe\">\n",
       "  <thead>\n",
       "    <tr style=\"text-align: right;\">\n",
       "      <th></th>\n",
       "      <th>CreditScore</th>\n",
       "      <th>Age</th>\n",
       "      <th>Tenure</th>\n",
       "      <th>Balance</th>\n",
       "      <th>NumOfProducts</th>\n",
       "      <th>HasCrCard</th>\n",
       "      <th>IsActiveMember</th>\n",
       "      <th>EstimatedSalary</th>\n",
       "      <th>Complain</th>\n",
       "      <th>Satisfaction Score</th>\n",
       "      <th>Point Earned</th>\n",
       "      <th>Geography_Germany</th>\n",
       "      <th>Geography_Spain</th>\n",
       "      <th>Gender_Male</th>\n",
       "      <th>Card Type</th>\n",
       "    </tr>\n",
       "  </thead>\n",
       "  <tbody>\n",
       "    <tr>\n",
       "      <th>0</th>\n",
       "      <td>0.754109</td>\n",
       "      <td>-1.043531</td>\n",
       "      <td>0.000432</td>\n",
       "      <td>0.332277</td>\n",
       "      <td>-0.910631</td>\n",
       "      <td>0.642207</td>\n",
       "      <td>0.966317</td>\n",
       "      <td>-0.049619</td>\n",
       "      <td>-0.509748</td>\n",
       "      <td>-0.728059</td>\n",
       "      <td>1.283836</td>\n",
       "      <td>0.0</td>\n",
       "      <td>0.0</td>\n",
       "      <td>1.0</td>\n",
       "      <td>1</td>\n",
       "    </tr>\n",
       "    <tr>\n",
       "      <th>1</th>\n",
       "      <td>0.175802</td>\n",
       "      <td>-0.472262</td>\n",
       "      <td>-1.725606</td>\n",
       "      <td>-1.232138</td>\n",
       "      <td>-0.910631</td>\n",
       "      <td>-1.557131</td>\n",
       "      <td>-1.034857</td>\n",
       "      <td>0.011120</td>\n",
       "      <td>-0.509748</td>\n",
       "      <td>-1.440794</td>\n",
       "      <td>1.137581</td>\n",
       "      <td>0.0</td>\n",
       "      <td>1.0</td>\n",
       "      <td>1.0</td>\n",
       "      <td>3</td>\n",
       "    </tr>\n",
       "    <tr>\n",
       "      <th>2</th>\n",
       "      <td>0.361686</td>\n",
       "      <td>-0.377050</td>\n",
       "      <td>-0.344776</td>\n",
       "      <td>-1.232138</td>\n",
       "      <td>-0.910631</td>\n",
       "      <td>0.642207</td>\n",
       "      <td>-1.034857</td>\n",
       "      <td>-1.577036</td>\n",
       "      <td>-0.509748</td>\n",
       "      <td>-0.728059</td>\n",
       "      <td>0.211297</td>\n",
       "      <td>0.0</td>\n",
       "      <td>0.0</td>\n",
       "      <td>1.0</td>\n",
       "      <td>3</td>\n",
       "    </tr>\n",
       "    <tr>\n",
       "      <th>3</th>\n",
       "      <td>-1.208005</td>\n",
       "      <td>2.193664</td>\n",
       "      <td>-1.035191</td>\n",
       "      <td>-1.232138</td>\n",
       "      <td>0.799474</td>\n",
       "      <td>-1.557131</td>\n",
       "      <td>-1.034857</td>\n",
       "      <td>-0.985683</td>\n",
       "      <td>1.961756</td>\n",
       "      <td>-0.728059</td>\n",
       "      <td>-0.085645</td>\n",
       "      <td>0.0</td>\n",
       "      <td>0.0</td>\n",
       "      <td>1.0</td>\n",
       "      <td>4</td>\n",
       "    </tr>\n",
       "    <tr>\n",
       "      <th>4</th>\n",
       "      <td>-0.908524</td>\n",
       "      <td>0.194220</td>\n",
       "      <td>-1.035191</td>\n",
       "      <td>0.378896</td>\n",
       "      <td>-0.910631</td>\n",
       "      <td>0.642207</td>\n",
       "      <td>0.966317</td>\n",
       "      <td>-1.392446</td>\n",
       "      <td>1.961756</td>\n",
       "      <td>1.410146</td>\n",
       "      <td>-1.495014</td>\n",
       "      <td>1.0</td>\n",
       "      <td>0.0</td>\n",
       "      <td>1.0</td>\n",
       "      <td>1</td>\n",
       "    </tr>\n",
       "  </tbody>\n",
       "</table>\n",
       "</div>"
      ],
      "text/plain": [
       "   CreditScore       Age    Tenure   Balance  NumOfProducts  HasCrCard  \\\n",
       "0     0.754109 -1.043531  0.000432  0.332277      -0.910631   0.642207   \n",
       "1     0.175802 -0.472262 -1.725606 -1.232138      -0.910631  -1.557131   \n",
       "2     0.361686 -0.377050 -0.344776 -1.232138      -0.910631   0.642207   \n",
       "3    -1.208005  2.193664 -1.035191 -1.232138       0.799474  -1.557131   \n",
       "4    -0.908524  0.194220 -1.035191  0.378896      -0.910631   0.642207   \n",
       "\n",
       "   IsActiveMember  EstimatedSalary  Complain  Satisfaction Score  \\\n",
       "0        0.966317        -0.049619 -0.509748           -0.728059   \n",
       "1       -1.034857         0.011120 -0.509748           -1.440794   \n",
       "2       -1.034857        -1.577036 -0.509748           -0.728059   \n",
       "3       -1.034857        -0.985683  1.961756           -0.728059   \n",
       "4        0.966317        -1.392446  1.961756            1.410146   \n",
       "\n",
       "   Point Earned  Geography_Germany  Geography_Spain  Gender_Male  Card Type  \n",
       "0      1.283836                0.0              0.0          1.0          1  \n",
       "1      1.137581                0.0              1.0          1.0          3  \n",
       "2      0.211297                0.0              0.0          1.0          3  \n",
       "3     -0.085645                0.0              0.0          1.0          4  \n",
       "4     -1.495014                1.0              0.0          1.0          1  "
      ]
     },
     "execution_count": 110,
     "metadata": {},
     "output_type": "execute_result"
    }
   ],
   "source": [
    "x_train.head()"
   ]
  },
  {
   "cell_type": "code",
   "execution_count": 111,
   "id": "54dce17e",
   "metadata": {},
   "outputs": [
    {
     "data": {
      "text/plain": [
       "0    6353\n",
       "1    6353\n",
       "Name: Exited, dtype: int64"
      ]
     },
     "execution_count": 111,
     "metadata": {},
     "output_type": "execute_result"
    }
   ],
   "source": [
    "y_train.value_counts()"
   ]
  },
  {
   "cell_type": "markdown",
   "id": "c21f6fbb",
   "metadata": {},
   "source": [
    "### Importing required libraries "
   ]
  },
  {
   "cell_type": "code",
   "execution_count": 112,
   "id": "7627abaf",
   "metadata": {},
   "outputs": [
    {
     "name": "stdout",
     "output_type": "stream",
     "text": [
      "Using TensorFlow backend\n"
     ]
    }
   ],
   "source": [
    "import keras\n",
    "import keras_tuner as k\n",
    "from keras import Sequential\n",
    "from keras.layers import Dense, Input, BatchNormalization,Dropout\n",
    "from keras.initializers import he_normal,he_uniform,glorot_uniform,glorot_normal\n",
    "from keras.regularizers import L1,L2,L1L2\n",
    "from keras.optimizers import SGD,gradient_descent_v2,Adam,Adadelta\n",
    "from sklearn.metrics import accuracy_score, confusion_matrix,f1_score,precision_score,recall_score,ConfusionMatrixDisplay"
   ]
  },
  {
   "cell_type": "markdown",
   "id": "1ce6fd02",
   "metadata": {},
   "source": [
    "### Model Building "
   ]
  },
  {
   "cell_type": "code",
   "execution_count": 113,
   "id": "539097b6",
   "metadata": {},
   "outputs": [],
   "source": [
    "def modelss(hp):\n",
    "    \n",
    "    model = Sequential()\n",
    "    model.add(Input(shape=(15,)))\n",
    "    for i in range (hp.Int(\"hiddenlayers\",min_value = 4,max_value = 10)):\n",
    "        model.add(Dense(units=hp.Int(\"neurons{}\".format(i),min_value = 1,max_value = 15),\n",
    "                   activation=hp.Choice(\"activation\",values = [\"sigmoid\",\"tanh\",\"relu\"]),kernel_initializer=hp.Choice(\"weight_initi\",values = [\"he_normal\",\"he_uniform\",\"glorot_uniform\",\"glorot_normal\"])))\n",
    "    #    model.add(BatchNormalization())\n",
    "     #   model.add(Dropout(rate=hp.Float(\"dropout\",min_value = 0.1,max_value = 0.5)))\n",
    "\n",
    "    model.add(Dense(1,activation=\"sigmoid\"))\n",
    "    model.compile(loss = \"binary_crossentropy\",optimizer = hp.Choice(\"optimizer\",[\"sgd\",\"adam\",\"adadelta\"]),metrics=['accuracy'])\n",
    "\n",
    "\n",
    "    return model"
   ]
  },
  {
   "cell_type": "code",
   "execution_count": 114,
   "id": "1bbcba0b",
   "metadata": {},
   "outputs": [],
   "source": [
    "tuner = k.RandomSearch(modelss,objective=\"val_accuracy\",max_trials=3,directory=r\"C:\\Users\\Mohsin\\Desktop\\ANN_Project\",project_name = \"file_4\")"
   ]
  },
  {
   "cell_type": "code",
   "execution_count": 115,
   "id": "be3d8742",
   "metadata": {},
   "outputs": [
    {
     "data": {
      "text/plain": [
       "(12706, 15)"
      ]
     },
     "execution_count": 115,
     "metadata": {},
     "output_type": "execute_result"
    }
   ],
   "source": [
    "x_train.shape"
   ]
  },
  {
   "cell_type": "code",
   "execution_count": 116,
   "id": "280982d9",
   "metadata": {},
   "outputs": [
    {
     "data": {
      "text/plain": [
       "(12706,)"
      ]
     },
     "execution_count": 116,
     "metadata": {},
     "output_type": "execute_result"
    }
   ],
   "source": [
    "y_train.shape"
   ]
  },
  {
   "cell_type": "markdown",
   "id": "9dbde56e",
   "metadata": {},
   "source": [
    "### Training "
   ]
  },
  {
   "cell_type": "code",
   "execution_count": 117,
   "id": "0af25912",
   "metadata": {
    "scrolled": false
   },
   "outputs": [
    {
     "name": "stdout",
     "output_type": "stream",
     "text": [
      "Trial 3 Complete [00h 00m 10s]\n",
      "val_accuracy: 0.9984999895095825\n",
      "\n",
      "Best val_accuracy So Far: 0.9984999895095825\n",
      "Total elapsed time: 00h 00m 28s\n"
     ]
    }
   ],
   "source": [
    "tuner.search(x_train,y_train,epochs=10,validation_data =(x_test_transform,y_test))"
   ]
  },
  {
   "cell_type": "code",
   "execution_count": 118,
   "id": "0cf95957",
   "metadata": {},
   "outputs": [
    {
     "name": "stdout",
     "output_type": "stream",
     "text": [
      "Search space summary\n",
      "Default search space size: 13\n",
      "hiddenlayers (Int)\n",
      "{'default': None, 'conditions': [], 'min_value': 4, 'max_value': 10, 'step': 1, 'sampling': 'linear'}\n",
      "neurons0 (Int)\n",
      "{'default': None, 'conditions': [], 'min_value': 1, 'max_value': 15, 'step': 1, 'sampling': 'linear'}\n",
      "activation (Choice)\n",
      "{'default': 'sigmoid', 'conditions': [], 'values': ['sigmoid', 'tanh', 'relu'], 'ordered': False}\n",
      "weight_initi (Choice)\n",
      "{'default': 'he_normal', 'conditions': [], 'values': ['he_normal', 'he_uniform', 'glorot_uniform', 'glorot_normal'], 'ordered': False}\n",
      "neurons1 (Int)\n",
      "{'default': None, 'conditions': [], 'min_value': 1, 'max_value': 15, 'step': 1, 'sampling': 'linear'}\n",
      "neurons2 (Int)\n",
      "{'default': None, 'conditions': [], 'min_value': 1, 'max_value': 15, 'step': 1, 'sampling': 'linear'}\n",
      "neurons3 (Int)\n",
      "{'default': None, 'conditions': [], 'min_value': 1, 'max_value': 15, 'step': 1, 'sampling': 'linear'}\n",
      "optimizer (Choice)\n",
      "{'default': 'sgd', 'conditions': [], 'values': ['sgd', 'adam', 'adadelta'], 'ordered': False}\n",
      "neurons4 (Int)\n",
      "{'default': None, 'conditions': [], 'min_value': 1, 'max_value': 15, 'step': 1, 'sampling': 'linear'}\n",
      "neurons5 (Int)\n",
      "{'default': None, 'conditions': [], 'min_value': 1, 'max_value': 15, 'step': 1, 'sampling': 'linear'}\n",
      "neurons6 (Int)\n",
      "{'default': None, 'conditions': [], 'min_value': 1, 'max_value': 15, 'step': 1, 'sampling': 'linear'}\n",
      "neurons7 (Int)\n",
      "{'default': None, 'conditions': [], 'min_value': 1, 'max_value': 15, 'step': 1, 'sampling': 'linear'}\n",
      "neurons8 (Int)\n",
      "{'default': None, 'conditions': [], 'min_value': 1, 'max_value': 15, 'step': 1, 'sampling': 'linear'}\n"
     ]
    }
   ],
   "source": [
    "tuner.search_space_summary()"
   ]
  },
  {
   "cell_type": "code",
   "execution_count": 119,
   "id": "0024994e",
   "metadata": {},
   "outputs": [
    {
     "name": "stdout",
     "output_type": "stream",
     "text": [
      "Results summary\n",
      "Results in C:\\Users\\Mohsin\\Desktop\\ANN_Project\\file_4\n",
      "Showing 10 best trials\n",
      "Objective(name=\"val_accuracy\", direction=\"max\")\n",
      "\n",
      "Trial 0 summary\n",
      "Hyperparameters:\n",
      "hiddenlayers: 4\n",
      "neurons0: 6\n",
      "activation: relu\n",
      "weight_initi: glorot_uniform\n",
      "neurons1: 5\n",
      "neurons2: 3\n",
      "neurons3: 9\n",
      "optimizer: adam\n",
      "Score: 0.9984999895095825\n",
      "\n",
      "Trial 2 summary\n",
      "Hyperparameters:\n",
      "hiddenlayers: 8\n",
      "neurons0: 2\n",
      "activation: relu\n",
      "weight_initi: glorot_uniform\n",
      "neurons1: 10\n",
      "neurons2: 7\n",
      "neurons3: 6\n",
      "optimizer: adam\n",
      "neurons4: 10\n",
      "neurons5: 7\n",
      "neurons6: 9\n",
      "neurons7: 3\n",
      "neurons8: 1\n",
      "Score: 0.9984999895095825\n",
      "\n",
      "Trial 1 summary\n",
      "Hyperparameters:\n",
      "hiddenlayers: 9\n",
      "neurons0: 11\n",
      "activation: relu\n",
      "weight_initi: he_uniform\n",
      "neurons1: 7\n",
      "neurons2: 10\n",
      "neurons3: 4\n",
      "optimizer: sgd\n",
      "neurons4: 1\n",
      "neurons5: 1\n",
      "neurons6: 1\n",
      "neurons7: 1\n",
      "neurons8: 1\n",
      "Score: 0.8044999837875366\n"
     ]
    }
   ],
   "source": [
    "tuner.results_summary()"
   ]
  },
  {
   "cell_type": "code",
   "execution_count": 120,
   "id": "f1dfe477",
   "metadata": {},
   "outputs": [
    {
     "data": {
      "text/plain": [
       "{'hiddenlayers': 4,\n",
       " 'neurons0': 6,\n",
       " 'activation': 'relu',\n",
       " 'weight_initi': 'glorot_uniform',\n",
       " 'neurons1': 5,\n",
       " 'neurons2': 3,\n",
       " 'neurons3': 9,\n",
       " 'optimizer': 'adam'}"
      ]
     },
     "execution_count": 120,
     "metadata": {},
     "output_type": "execute_result"
    }
   ],
   "source": [
    "tuner.get_best_hyperparameters()[0].values"
   ]
  },
  {
   "cell_type": "code",
   "execution_count": 121,
   "id": "75cbc3c9",
   "metadata": {},
   "outputs": [],
   "source": [
    "fmodel = tuner.get_best_models(num_models=1)[0]"
   ]
  },
  {
   "cell_type": "code",
   "execution_count": 122,
   "id": "86e4fda3",
   "metadata": {},
   "outputs": [
    {
     "name": "stdout",
     "output_type": "stream",
     "text": [
      "Model: \"sequential\"\n",
      "_________________________________________________________________\n",
      " Layer (type)                Output Shape              Param #   \n",
      "=================================================================\n",
      " dense (Dense)               (None, 6)                 96        \n",
      "                                                                 \n",
      " dense_1 (Dense)             (None, 5)                 35        \n",
      "                                                                 \n",
      " dense_2 (Dense)             (None, 3)                 18        \n",
      "                                                                 \n",
      " dense_3 (Dense)             (None, 9)                 36        \n",
      "                                                                 \n",
      " dense_4 (Dense)             (None, 1)                 10        \n",
      "                                                                 \n",
      "=================================================================\n",
      "Total params: 195\n",
      "Trainable params: 195\n",
      "Non-trainable params: 0\n",
      "_________________________________________________________________\n"
     ]
    }
   ],
   "source": [
    "fmodel.summary()"
   ]
  },
  {
   "cell_type": "code",
   "execution_count": 123,
   "id": "6d42834f",
   "metadata": {},
   "outputs": [
    {
     "name": "stdout",
     "output_type": "stream",
     "text": [
      "Epoch 1/30\n",
      "680/680 [==============================] - 2s 2ms/step - loss: 0.0121 - accuracy: 0.9985 - val_loss: 0.0072 - val_accuracy: 0.9992\n",
      "Epoch 2/30\n",
      "680/680 [==============================] - 1s 2ms/step - loss: 0.0109 - accuracy: 0.9985 - val_loss: 0.0068 - val_accuracy: 0.9992\n",
      "Epoch 3/30\n",
      "680/680 [==============================] - 1s 2ms/step - loss: 0.0100 - accuracy: 0.9984 - val_loss: 0.0065 - val_accuracy: 0.9992\n",
      "Epoch 4/30\n",
      "680/680 [==============================] - 1s 2ms/step - loss: 0.0096 - accuracy: 0.9985 - val_loss: 0.0074 - val_accuracy: 0.9992\n",
      "Epoch 5/30\n",
      "680/680 [==============================] - 1s 2ms/step - loss: 0.0091 - accuracy: 0.9985 - val_loss: 0.0063 - val_accuracy: 0.9992\n",
      "Epoch 6/30\n",
      "680/680 [==============================] - 1s 2ms/step - loss: 0.0087 - accuracy: 0.9985 - val_loss: 0.0105 - val_accuracy: 0.9975\n",
      "Epoch 7/30\n",
      "680/680 [==============================] - 1s 2ms/step - loss: 0.0083 - accuracy: 0.9987 - val_loss: 0.0063 - val_accuracy: 0.9992\n",
      "Epoch 8/30\n",
      "680/680 [==============================] - 1s 2ms/step - loss: 0.0088 - accuracy: 0.9982 - val_loss: 0.0061 - val_accuracy: 0.9992\n",
      "Epoch 9/30\n",
      "680/680 [==============================] - 1s 2ms/step - loss: 0.0085 - accuracy: 0.9985 - val_loss: 0.0060 - val_accuracy: 0.9992\n",
      "Epoch 10/30\n",
      "680/680 [==============================] - 1s 2ms/step - loss: 0.0081 - accuracy: 0.9985 - val_loss: 0.0061 - val_accuracy: 0.9992\n",
      "Epoch 11/30\n",
      "680/680 [==============================] - 1s 2ms/step - loss: 0.0080 - accuracy: 0.9985 - val_loss: 0.0083 - val_accuracy: 0.9983\n",
      "Epoch 12/30\n",
      "680/680 [==============================] - 1s 2ms/step - loss: 0.0076 - accuracy: 0.9987 - val_loss: 0.0061 - val_accuracy: 0.9992\n",
      "Epoch 13/30\n",
      "680/680 [==============================] - 1s 2ms/step - loss: 0.0075 - accuracy: 0.9985 - val_loss: 0.0120 - val_accuracy: 0.9983\n",
      "Epoch 14/30\n",
      "680/680 [==============================] - 1s 2ms/step - loss: 0.0073 - accuracy: 0.9984 - val_loss: 0.0094 - val_accuracy: 0.9983\n",
      "Epoch 15/30\n",
      "680/680 [==============================] - 1s 2ms/step - loss: 0.0076 - accuracy: 0.9984 - val_loss: 0.0061 - val_accuracy: 0.9992\n",
      "Epoch 16/30\n",
      "680/680 [==============================] - 1s 2ms/step - loss: 0.0069 - accuracy: 0.9985 - val_loss: 0.0058 - val_accuracy: 0.9992\n",
      "Epoch 17/30\n",
      "680/680 [==============================] - 1s 2ms/step - loss: 0.0070 - accuracy: 0.9984 - val_loss: 0.0059 - val_accuracy: 0.9992\n",
      "Epoch 18/30\n",
      "680/680 [==============================] - 1s 2ms/step - loss: 0.0071 - accuracy: 0.9987 - val_loss: 0.0058 - val_accuracy: 0.9992\n",
      "Epoch 19/30\n",
      "680/680 [==============================] - 1s 2ms/step - loss: 0.0072 - accuracy: 0.9984 - val_loss: 0.0086 - val_accuracy: 0.9983\n",
      "Epoch 20/30\n",
      "680/680 [==============================] - 1s 2ms/step - loss: 0.0068 - accuracy: 0.9987 - val_loss: 0.0061 - val_accuracy: 0.9992\n",
      "Epoch 21/30\n",
      "680/680 [==============================] - 1s 2ms/step - loss: 0.0066 - accuracy: 0.9987 - val_loss: 0.0101 - val_accuracy: 0.9983\n",
      "Epoch 22/30\n",
      "680/680 [==============================] - 1s 2ms/step - loss: 0.0063 - accuracy: 0.9985 - val_loss: 0.0138 - val_accuracy: 0.9967\n",
      "Epoch 23/30\n",
      "680/680 [==============================] - 1s 2ms/step - loss: 0.0066 - accuracy: 0.9988 - val_loss: 0.0071 - val_accuracy: 0.9983\n",
      "Epoch 24/30\n",
      "680/680 [==============================] - 1s 2ms/step - loss: 0.0064 - accuracy: 0.9987 - val_loss: 0.0057 - val_accuracy: 0.9992\n",
      "Epoch 25/30\n",
      "680/680 [==============================] - 1s 2ms/step - loss: 0.0064 - accuracy: 0.9988 - val_loss: 0.0063 - val_accuracy: 0.9992\n",
      "Epoch 26/30\n",
      "680/680 [==============================] - 1s 2ms/step - loss: 0.0070 - accuracy: 0.9981 - val_loss: 0.0058 - val_accuracy: 0.9992\n",
      "Epoch 27/30\n",
      "680/680 [==============================] - 1s 2ms/step - loss: 0.0066 - accuracy: 0.9987 - val_loss: 0.0064 - val_accuracy: 0.9992\n",
      "Epoch 28/30\n",
      "680/680 [==============================] - 1s 2ms/step - loss: 0.0068 - accuracy: 0.9984 - val_loss: 0.0063 - val_accuracy: 0.9992\n",
      "Epoch 29/30\n",
      "680/680 [==============================] - 1s 2ms/step - loss: 0.0064 - accuracy: 0.9988 - val_loss: 0.0061 - val_accuracy: 0.9992\n",
      "Epoch 30/30\n",
      "680/680 [==============================] - 1s 2ms/step - loss: 0.0059 - accuracy: 0.9988 - val_loss: 0.0065 - val_accuracy: 0.9992\n"
     ]
    }
   ],
   "source": [
    "history = fmodel.fit(x_train_transform,y_train,epochs=30,batch_size = 10,validation_split=0.15)"
   ]
  },
  {
   "cell_type": "code",
   "execution_count": 124,
   "id": "035d938e",
   "metadata": {},
   "outputs": [
    {
     "data": {
      "text/plain": [
       "<matplotlib.legend.Legend at 0x1ad4a17a220>"
      ]
     },
     "execution_count": 124,
     "metadata": {},
     "output_type": "execute_result"
    },
    {
     "data": {
      "image/png": "[encoded data removed]",
      "text/plain": [
       "<Figure size 640x480 with 1 Axes>"
      ]
     },
     "metadata": {},
     "output_type": "display_data"
    }
   ],
   "source": [
    "plt.plot(range(1,31),history.history['loss'],label='training')\n",
    "plt.plot(range(1,31),history.history['val_loss'],label='validation')\n",
    "plt.legend()"
   ]
  },
  {
   "cell_type": "code",
   "execution_count": 125,
   "id": "da301f88",
   "metadata": {},
   "outputs": [
    {
     "data": {
      "text/plain": [
       "[0.0072244200855493546,\n",
       " 0.0067835315130651,\n",
       " 0.006503160577267408,\n",
       " 0.0073595172725617886,\n",
       " 0.006315299309790134,\n",
       " 0.010512425564229488,\n",
       " 0.0062820445746183395,\n",
       " 0.006126386113464832,\n",
       " 0.005975968670099974,\n",
       " 0.006079534534364939,\n",
       " 0.008258447982370853,\n",
       " 0.0061309742741286755,\n",
       " 0.01203161757439375,\n",
       " 0.00937300082296133,\n",
       " 0.006113612093031406,\n",
       " 0.005762312561273575,\n",
       " 0.005907854065299034,\n",
       " 0.005798090249300003,\n",
       " 0.008569764904677868,\n",
       " 0.006141544319689274,\n",
       " 0.010144348256289959,\n",
       " 0.013801001012325287,\n",
       " 0.00706970551982522,\n",
       " 0.0056742336601018906,\n",
       " 0.006258372683078051,\n",
       " 0.005757644772529602,\n",
       " 0.006390805821865797,\n",
       " 0.006258436478674412,\n",
       " 0.0060609495267271996,\n",
       " 0.006509761326014996]"
      ]
     },
     "execution_count": 125,
     "metadata": {},
     "output_type": "execute_result"
    }
   ],
   "source": [
    "history.history['val_loss']"
   ]
  },
  {
   "cell_type": "code",
   "execution_count": 126,
   "id": "9b76d9f2",
   "metadata": {},
   "outputs": [
    {
     "name": "stdout",
     "output_type": "stream",
     "text": [
      "63/63 [==============================] - 0s 1ms/step\n"
     ]
    }
   ],
   "source": [
    "predicted = fmodel.predict(x_test_transform)"
   ]
  },
  {
   "cell_type": "code",
   "execution_count": 127,
   "id": "22d326ac",
   "metadata": {},
   "outputs": [],
   "source": [
    "predicted = np.where(predicted>0.5,1,0)"
   ]
  },
  {
   "cell_type": "code",
   "execution_count": 128,
   "id": "d1be8774",
   "metadata": {},
   "outputs": [
    {
     "data": {
      "text/plain": [
       "0.9985"
      ]
     },
     "execution_count": 128,
     "metadata": {},
     "output_type": "execute_result"
    }
   ],
   "source": [
    "accuracy_score(y_test,predicted)"
   ]
  },
  {
   "cell_type": "code",
   "execution_count": 129,
   "id": "daf87e0a",
   "metadata": {},
   "outputs": [
    {
     "data": {
      "image/png": "[encoded data removed]",
      "text/plain": [
       "<Figure size 640x480 with 2 Axes>"
      ]
     },
     "metadata": {},
     "output_type": "display_data"
    }
   ],
   "source": [
    "cm = confusion_matrix(y_test,predicted)\n",
    "va = ConfusionMatrixDisplay(cm,display_labels=['customer_not_exited','customer_exited'])\n",
    "va.plot()\n",
    "plt.show()"
   ]
  },
  {
   "cell_type": "code",
   "execution_count": 130,
   "id": "28b01729",
   "metadata": {},
   "outputs": [],
   "source": [
    "from mlxtend.plotting import plot_decision_regions"
   ]
  },
  {
   "cell_type": "code",
   "execution_count": 132,
   "id": "e1c04e9d",
   "metadata": {},
   "outputs": [
    {
     "ename": "ValueError",
     "evalue": "X must be a NumPy array. Found <class 'pandas.core.frame.DataFrame'>",
     "output_type": "error",
     "traceback": [
      "\u001b[1;31m---------------------------------------------------------------------------\u001b[0m",
      "\u001b[1;31mValueError\u001b[0m                                Traceback (most recent call last)",
      "Cell \u001b[1;32mIn[132], line 1\u001b[0m\n\u001b[1;32m----> 1\u001b[0m \u001b[43mplot_decision_regions\u001b[49m\u001b[43m(\u001b[49m\u001b[43mx_train\u001b[49m\u001b[43m,\u001b[49m\u001b[43my_train\u001b[49m\u001b[38;5;241;43m.\u001b[39;49m\u001b[43mvalues\u001b[49m\u001b[43m,\u001b[49m\u001b[43mclf\u001b[49m\u001b[38;5;241;43m=\u001b[39;49m\u001b[43mmodelss\u001b[49m\u001b[43m)\u001b[49m\n",
      "File \u001b[1;32m~\\anaconda3\\lib\\site-packages\\mlxtend\\plotting\\decision_regions.py:161\u001b[0m, in \u001b[0;36mplot_decision_regions\u001b[1;34m(X, y, clf, feature_index, filler_feature_values, filler_feature_ranges, ax, X_highlight, zoom_factor, legend, hide_spines, markers, colors, scatter_kwargs, contourf_kwargs, contour_kwargs, scatter_highlight_kwargs, n_jobs)\u001b[0m\n\u001b[0;32m     50\u001b[0m \u001b[38;5;28;01mdef\u001b[39;00m \u001b[38;5;21mplot_decision_regions\u001b[39m(\n\u001b[0;32m     51\u001b[0m     X,\n\u001b[0;32m     52\u001b[0m     y,\n\u001b[1;32m   (...)\u001b[0m\n\u001b[0;32m     72\u001b[0m     n_jobs\u001b[38;5;241m=\u001b[39m\u001b[38;5;28;01mNone\u001b[39;00m,\n\u001b[0;32m     73\u001b[0m ):\n\u001b[0;32m     74\u001b[0m \u001b[38;5;250m    \u001b[39m\u001b[38;5;124;03m\"\"\"Plot decision regions of a classifier.\u001b[39;00m\n\u001b[0;32m     75\u001b[0m \n\u001b[0;32m     76\u001b[0m \u001b[38;5;124;03m    Please note that this functions assumes that class labels are\u001b[39;00m\n\u001b[1;32m   (...)\u001b[0m\n\u001b[0;32m    158\u001b[0m \n\u001b[0;32m    159\u001b[0m \u001b[38;5;124;03m    \"\"\"\u001b[39;00m\n\u001b[1;32m--> 161\u001b[0m     \u001b[43mcheck_Xy\u001b[49m\u001b[43m(\u001b[49m\u001b[43mX\u001b[49m\u001b[43m,\u001b[49m\u001b[43m \u001b[49m\u001b[43my\u001b[49m\u001b[43m,\u001b[49m\u001b[43m \u001b[49m\u001b[43my_int\u001b[49m\u001b[38;5;241;43m=\u001b[39;49m\u001b[38;5;28;43;01mTrue\u001b[39;49;00m\u001b[43m)\u001b[49m  \u001b[38;5;66;03m# Validate X and y arrays\u001b[39;00m\n\u001b[0;32m    162\u001b[0m     dim \u001b[38;5;241m=\u001b[39m X\u001b[38;5;241m.\u001b[39mshape[\u001b[38;5;241m1\u001b[39m]\n\u001b[0;32m    164\u001b[0m     \u001b[38;5;28;01mif\u001b[39;00m n_jobs \u001b[38;5;129;01mis\u001b[39;00m \u001b[38;5;28;01mNone\u001b[39;00m:\n",
      "File \u001b[1;32m~\\anaconda3\\lib\\site-packages\\mlxtend\\utils\\checking.py:15\u001b[0m, in \u001b[0;36mcheck_Xy\u001b[1;34m(X, y, y_int)\u001b[0m\n\u001b[0;32m     12\u001b[0m \u001b[38;5;28;01mdef\u001b[39;00m \u001b[38;5;21mcheck_Xy\u001b[39m(X, y, y_int\u001b[38;5;241m=\u001b[39m\u001b[38;5;28;01mTrue\u001b[39;00m):\n\u001b[0;32m     13\u001b[0m     \u001b[38;5;66;03m# check types\u001b[39;00m\n\u001b[0;32m     14\u001b[0m     \u001b[38;5;28;01mif\u001b[39;00m \u001b[38;5;129;01mnot\u001b[39;00m \u001b[38;5;28misinstance\u001b[39m(X, np\u001b[38;5;241m.\u001b[39mndarray):\n\u001b[1;32m---> 15\u001b[0m         \u001b[38;5;28;01mraise\u001b[39;00m \u001b[38;5;167;01mValueError\u001b[39;00m(\u001b[38;5;124m\"\u001b[39m\u001b[38;5;124mX must be a NumPy array. Found \u001b[39m\u001b[38;5;132;01m%s\u001b[39;00m\u001b[38;5;124m\"\u001b[39m \u001b[38;5;241m%\u001b[39m \u001b[38;5;28mtype\u001b[39m(X))\n\u001b[0;32m     16\u001b[0m     \u001b[38;5;28;01mif\u001b[39;00m \u001b[38;5;129;01mnot\u001b[39;00m \u001b[38;5;28misinstance\u001b[39m(y, np\u001b[38;5;241m.\u001b[39mndarray):\n\u001b[0;32m     17\u001b[0m         \u001b[38;5;28;01mraise\u001b[39;00m \u001b[38;5;167;01mValueError\u001b[39;00m(\u001b[38;5;124m\"\u001b[39m\u001b[38;5;124my must be a NumPy array. Found \u001b[39m\u001b[38;5;132;01m%s\u001b[39;00m\u001b[38;5;124m\"\u001b[39m \u001b[38;5;241m%\u001b[39m \u001b[38;5;28mtype\u001b[39m(y))\n",
      "\u001b[1;31mValueError\u001b[0m: X must be a NumPy array. Found <class 'pandas.core.frame.DataFrame'>"
     ]
    }
   ],
   "source": [
    "plot_decision_regions(x_train,y_train.values,clf=modelss)"
   ]
  },
  {
   "cell_type": "code",
   "execution_count": null,
   "id": "2b36097f",
   "metadata": {},
   "outputs": [],
   "source": []
  },
  {
   "cell_type": "code",
   "execution_count": null,
   "id": "51917eb0",
   "metadata": {},
   "outputs": [],
   "source": []
  },
  {
   "cell_type": "code",
   "execution_count": null,
   "id": "d158b777",
   "metadata": {},
   "outputs": [],
   "source": []
  },
  {
   "cell_type": "code",
   "execution_count": null,
   "id": "28fac0f2",
   "metadata": {},
   "outputs": [],
   "source": []
  },
  {
   "cell_type": "code",
   "execution_count": null,
   "id": "a90a8104",
   "metadata": {},
   "outputs": [],
   "source": []
  },
  {
   "cell_type": "code",
   "execution_count": null,
   "id": "2b8b5b7a",
   "metadata": {},
   "outputs": [],
   "source": []
  },
  {
   "cell_type": "code",
   "execution_count": null,
   "id": "82fa6fe4",
   "metadata": {},
   "outputs": [],
   "source": []
  },
  {
   "cell_type": "code",
   "execution_count": null,
   "id": "b035da79",
   "metadata": {},
   "outputs": [],
   "source": []
  },
  {
   "cell_type": "code",
   "execution_count": null,
   "id": "8f8944cc",
   "metadata": {},
   "outputs": [],
   "source": []
  },
  {
   "cell_type": "code",
   "execution_count": null,
   "id": "d5af7b8b",
   "metadata": {},
   "outputs": [],
   "source": []
  },
  {
   "cell_type": "code",
   "execution_count": null,
   "id": "9d20a58f",
   "metadata": {},
   "outputs": [],
   "source": []
  },
  {
   "cell_type": "code",
   "execution_count": null,
   "id": "ad94b8cb",
   "metadata": {},
   "outputs": [],
   "source": []
  },
  {
   "cell_type": "code",
   "execution_count": null,
   "id": "e68200fd",
   "metadata": {},
   "outputs": [],
   "source": []
  },
  {
   "cell_type": "code",
   "execution_count": null,
   "id": "509bfc26",
   "metadata": {},
   "outputs": [],
   "source": []
  },
  {
   "cell_type": "code",
   "execution_count": null,
   "id": "fcd12265",
   "metadata": {},
   "outputs": [],
   "source": []
  },
  {
   "cell_type": "code",
   "execution_count": null,
   "id": "e80e1508",
   "metadata": {},
   "outputs": [],
   "source": []
  },
  {
   "cell_type": "code",
   "execution_count": null,
   "id": "cc9d6e46",
   "metadata": {},
   "outputs": [],
   "source": []
  },
  {
   "cell_type": "code",
   "execution_count": null,
   "id": "c455cdc9",
   "metadata": {},
   "outputs": [],
   "source": []
  },
  {
   "cell_type": "code",
   "execution_count": null,
   "id": "765bd5d9",
   "metadata": {},
   "outputs": [],
   "source": []
  }
 ],
 "metadata": {
  "kernelspec": {
   "display_name": "Python 3 (ipykernel)",
   "language": "python",
   "name": "python3"
  },
  "language_info": {
   "codemirror_mode": {
    "name": "ipython",
    "version": 3
   },
   "file_extension": ".py",
   "mimetype": "text/x-python",
   "name": "python",
   "nbconvert_exporter": "python",
   "pygments_lexer": "ipython3",
   "version": "3.9.13"
  }
 },
 "nbformat": 4,
 "nbformat_minor": 5
}
