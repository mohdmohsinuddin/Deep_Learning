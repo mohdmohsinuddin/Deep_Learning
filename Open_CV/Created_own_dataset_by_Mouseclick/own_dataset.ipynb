{
 "cells": [
  {
   "cell_type": "code",
   "execution_count": 18,
   "id": "83ebb701",
   "metadata": {},
   "outputs": [],
   "source": [
    "import cv2\n",
    "import numpy as np\n",
    "import pandas as pd\n",
    "import matplotlib.pyplot as plt\n",
    "import seaborn as sns"
   ]
  },
  {
   "cell_type": "code",
   "execution_count": 2,
   "id": "cfbb6deb",
   "metadata": {},
   "outputs": [
    {
     "data": {
      "text/html": [
       "<div>\n",
       "<style scoped>\n",
       "    .dataframe tbody tr th:only-of-type {\n",
       "        vertical-align: middle;\n",
       "    }\n",
       "\n",
       "    .dataframe tbody tr th {\n",
       "        vertical-align: top;\n",
       "    }\n",
       "\n",
       "    .dataframe thead th {\n",
       "        text-align: right;\n",
       "    }\n",
       "</style>\n",
       "<table border=\"1\" class=\"dataframe\">\n",
       "  <thead>\n",
       "    <tr style=\"text-align: right;\">\n",
       "      <th></th>\n",
       "      <th>x</th>\n",
       "      <th>y</th>\n",
       "      <th>label</th>\n",
       "    </tr>\n",
       "  </thead>\n",
       "  <tbody>\n",
       "    <tr>\n",
       "      <th>0</th>\n",
       "      <td>14</td>\n",
       "      <td>7</td>\n",
       "      <td>0</td>\n",
       "    </tr>\n",
       "    <tr>\n",
       "      <th>1</th>\n",
       "      <td>26</td>\n",
       "      <td>7</td>\n",
       "      <td>0</td>\n",
       "    </tr>\n",
       "    <tr>\n",
       "      <th>2</th>\n",
       "      <td>42</td>\n",
       "      <td>26</td>\n",
       "      <td>0</td>\n",
       "    </tr>\n",
       "    <tr>\n",
       "      <th>3</th>\n",
       "      <td>22</td>\n",
       "      <td>25</td>\n",
       "      <td>0</td>\n",
       "    </tr>\n",
       "    <tr>\n",
       "      <th>4</th>\n",
       "      <td>37</td>\n",
       "      <td>17</td>\n",
       "      <td>0</td>\n",
       "    </tr>\n",
       "  </tbody>\n",
       "</table>\n",
       "</div>"
      ],
      "text/plain": [
       "    x   y  label\n",
       "0  14   7      0\n",
       "1  26   7      0\n",
       "2  42  26      0\n",
       "3  22  25      0\n",
       "4  37  17      0"
      ]
     },
     "execution_count": 2,
     "metadata": {},
     "output_type": "execute_result"
    }
   ],
   "source": [
    "df = pd.read_csv(r\"Binary.csv\",index_col=0)\n",
    "df.head()"
   ]
  },
  {
   "cell_type": "code",
   "execution_count": 3,
   "id": "079b3da4",
   "metadata": {},
   "outputs": [
    {
     "name": "stdout",
     "output_type": "stream",
     "text": [
      "<class 'pandas.core.frame.DataFrame'>\n",
      "Int64Index: 333 entries, 0 to 332\n",
      "Data columns (total 3 columns):\n",
      " #   Column  Non-Null Count  Dtype\n",
      "---  ------  --------------  -----\n",
      " 0   x       333 non-null    int64\n",
      " 1   y       333 non-null    int64\n",
      " 2   label   333 non-null    int64\n",
      "dtypes: int64(3)\n",
      "memory usage: 10.4 KB\n"
     ]
    }
   ],
   "source": [
    "df.info()"
   ]
  },
  {
   "cell_type": "code",
   "execution_count": 4,
   "id": "586f99fe",
   "metadata": {},
   "outputs": [
    {
     "data": {
      "text/plain": [
       "1    179\n",
       "0    154\n",
       "Name: label, dtype: int64"
      ]
     },
     "execution_count": 4,
     "metadata": {},
     "output_type": "execute_result"
    }
   ],
   "source": [
    "df['label'].value_counts()"
   ]
  },
  {
   "cell_type": "markdown",
   "id": "93e905d3",
   "metadata": {},
   "source": [
    "### Identifying Input and Output "
   ]
  },
  {
   "cell_type": "code",
   "execution_count": 5,
   "id": "294e2cdc",
   "metadata": {},
   "outputs": [],
   "source": [
    "# Input features \n",
    "x = df.iloc[:,0:2]\n",
    "\n",
    "# Output feature\n",
    "y = df.iloc[:,2].astype(int)"
   ]
  },
  {
   "cell_type": "code",
   "execution_count": null,
   "id": "1e155a47",
   "metadata": {},
   "outputs": [],
   "source": []
  },
  {
   "cell_type": "markdown",
   "id": "d5ce9854",
   "metadata": {},
   "source": [
    "### Splitting into train and test "
   ]
  },
  {
   "cell_type": "code",
   "execution_count": 6,
   "id": "5a75e6d8",
   "metadata": {},
   "outputs": [],
   "source": [
    "from sklearn.model_selection import train_test_split\n",
    "x_train,x_test,y_train,y_test = train_test_split(x,y,test_size=0.15)"
   ]
  },
  {
   "cell_type": "code",
   "execution_count": 7,
   "id": "de03fc49",
   "metadata": {},
   "outputs": [
    {
     "data": {
      "text/plain": [
       "(283, 2)"
      ]
     },
     "execution_count": 7,
     "metadata": {},
     "output_type": "execute_result"
    }
   ],
   "source": [
    "x_train.shape"
   ]
  },
  {
   "cell_type": "code",
   "execution_count": 8,
   "id": "37fb986f",
   "metadata": {},
   "outputs": [
    {
     "data": {
      "text/plain": [
       "(50, 2)"
      ]
     },
     "execution_count": 8,
     "metadata": {},
     "output_type": "execute_result"
    }
   ],
   "source": [
    "x_test.shape\n"
   ]
  },
  {
   "cell_type": "markdown",
   "id": "c189fcb7",
   "metadata": {},
   "source": [
    "### Standardizing numerical features\n"
   ]
  },
  {
   "cell_type": "code",
   "execution_count": 9,
   "id": "954426ed",
   "metadata": {},
   "outputs": [],
   "source": [
    "# As it is Numerical features in different scaling therefore applying Standardization\n",
    "from sklearn.preprocessing import StandardScaler\n",
    "std = StandardScaler()\n",
    "x_trainp = std.fit_transform(x_train)\n",
    "x_testp = std.transform(x_test)"
   ]
  },
  {
   "cell_type": "markdown",
   "id": "d088fd8a",
   "metadata": {},
   "source": [
    "### Building Logical structure "
   ]
  },
  {
   "cell_type": "code",
   "execution_count": 10,
   "id": "4741128a",
   "metadata": {},
   "outputs": [],
   "source": [
    "import keras\n",
    "from keras import Sequential\n",
    "from keras.layers import Dense,Dropout,BatchNormalization\n",
    "from keras.regularizers import L1,L2,L1L2\n",
    "from keras.optimizers import SGD"
   ]
  },
  {
   "cell_type": "code",
   "execution_count": 34,
   "id": "eade605d",
   "metadata": {},
   "outputs": [],
   "source": [
    "model = Sequential()\n",
    "model.add(Dense(10,activation='tanh',kernel_regularizer=L2(0.001),bias_regularizer=L2(0.001),input_dim = 2))\n",
    "model.add(Dense(8,activation='tanh',kernel_regularizer=L2(0.001),bias_regularizer=L2(0.001)))\n",
    "model.add(Dense(5,activation='tanh',kernel_regularizer=L2(0.001),bias_regularizer=L2(0.001)))\n",
    "model.add(Dense(1,activation='sigmoid',kernel_regularizer=L2(0.001),bias_regularizer=L2(0.001)))"
   ]
  },
  {
   "cell_type": "code",
   "execution_count": null,
   "id": "6777ae7c",
   "metadata": {},
   "outputs": [],
   "source": []
  },
  {
   "cell_type": "code",
   "execution_count": 35,
   "id": "15ea74e1",
   "metadata": {},
   "outputs": [
    {
     "name": "stdout",
     "output_type": "stream",
     "text": [
      "Model: \"sequential_2\"\n",
      "_________________________________________________________________\n",
      " Layer (type)                Output Shape              Param #   \n",
      "=================================================================\n",
      " dense_7 (Dense)             (None, 10)                30        \n",
      "                                                                 \n",
      " dense_8 (Dense)             (None, 8)                 88        \n",
      "                                                                 \n",
      " dense_9 (Dense)             (None, 5)                 45        \n",
      "                                                                 \n",
      " dense_10 (Dense)            (None, 1)                 6         \n",
      "                                                                 \n",
      "=================================================================\n",
      "Total params: 169\n",
      "Trainable params: 169\n",
      "Non-trainable params: 0\n",
      "_________________________________________________________________\n"
     ]
    }
   ],
   "source": [
    "model.summary() "
   ]
  },
  {
   "cell_type": "code",
   "execution_count": null,
   "id": "2b23d54d",
   "metadata": {},
   "outputs": [],
   "source": []
  },
  {
   "cell_type": "markdown",
   "id": "286f5a9e",
   "metadata": {},
   "source": [
    "### Compiling the Model "
   ]
  },
  {
   "cell_type": "code",
   "execution_count": 36,
   "id": "f9f892e7",
   "metadata": {},
   "outputs": [
    {
     "name": "stdout",
     "output_type": "stream",
     "text": [
      "Epoch 1/20\n",
      "17/17 [==============================] - 1s 21ms/step - loss: 0.4652 - accuracy: 0.8031 - val_loss: 0.3391 - val_accuracy: 0.9310\n",
      "Epoch 2/20\n",
      "17/17 [==============================] - 0s 7ms/step - loss: 0.3828 - accuracy: 0.8425 - val_loss: 0.3191 - val_accuracy: 0.9310\n",
      "Epoch 3/20\n",
      "17/17 [==============================] - 0s 6ms/step - loss: 0.3802 - accuracy: 0.8386 - val_loss: 0.3060 - val_accuracy: 0.8966\n",
      "Epoch 4/20\n",
      "17/17 [==============================] - 0s 6ms/step - loss: 0.3729 - accuracy: 0.8425 - val_loss: 0.3012 - val_accuracy: 0.9310\n",
      "Epoch 5/20\n",
      "17/17 [==============================] - 0s 6ms/step - loss: 0.3665 - accuracy: 0.8425 - val_loss: 0.2990 - val_accuracy: 0.9310\n",
      "Epoch 6/20\n",
      "17/17 [==============================] - 0s 6ms/step - loss: 0.3704 - accuracy: 0.8346 - val_loss: 0.2965 - val_accuracy: 0.9310\n",
      "Epoch 7/20\n",
      "17/17 [==============================] - 0s 6ms/step - loss: 0.3665 - accuracy: 0.8386 - val_loss: 0.2973 - val_accuracy: 0.9310\n",
      "Epoch 8/20\n",
      "17/17 [==============================] - 0s 6ms/step - loss: 0.3621 - accuracy: 0.8583 - val_loss: 0.2981 - val_accuracy: 0.9310\n",
      "Epoch 9/20\n",
      "17/17 [==============================] - 0s 6ms/step - loss: 0.3513 - accuracy: 0.8504 - val_loss: 0.3002 - val_accuracy: 0.9310\n",
      "Epoch 10/20\n",
      "17/17 [==============================] - 0s 6ms/step - loss: 0.3442 - accuracy: 0.8701 - val_loss: 0.2976 - val_accuracy: 0.9310\n",
      "Epoch 11/20\n",
      "17/17 [==============================] - 0s 6ms/step - loss: 0.3454 - accuracy: 0.8622 - val_loss: 0.3015 - val_accuracy: 0.9310\n",
      "Epoch 12/20\n",
      "17/17 [==============================] - 0s 7ms/step - loss: 0.3359 - accuracy: 0.8858 - val_loss: 0.2929 - val_accuracy: 0.8966\n",
      "Epoch 13/20\n",
      "17/17 [==============================] - 0s 6ms/step - loss: 0.3316 - accuracy: 0.8780 - val_loss: 0.2877 - val_accuracy: 0.8966\n",
      "Epoch 14/20\n",
      "17/17 [==============================] - 0s 5ms/step - loss: 0.3192 - accuracy: 0.8858 - val_loss: 0.2881 - val_accuracy: 0.8966\n",
      "Epoch 15/20\n",
      "17/17 [==============================] - 0s 5ms/step - loss: 0.3191 - accuracy: 0.8780 - val_loss: 0.2908 - val_accuracy: 0.8966\n",
      "Epoch 16/20\n",
      "17/17 [==============================] - 0s 5ms/step - loss: 0.3135 - accuracy: 0.8780 - val_loss: 0.2899 - val_accuracy: 0.8966\n",
      "Epoch 17/20\n",
      "17/17 [==============================] - 0s 4ms/step - loss: 0.3052 - accuracy: 0.8858 - val_loss: 0.2925 - val_accuracy: 0.8966\n",
      "Epoch 18/20\n",
      "17/17 [==============================] - 0s 5ms/step - loss: 0.3022 - accuracy: 0.9016 - val_loss: 0.3001 - val_accuracy: 0.8621\n",
      "Epoch 19/20\n",
      "17/17 [==============================] - 0s 5ms/step - loss: 0.3006 - accuracy: 0.8819 - val_loss: 0.3042 - val_accuracy: 0.8621\n",
      "Epoch 20/20\n",
      "17/17 [==============================] - 0s 5ms/step - loss: 0.2955 - accuracy: 0.8937 - val_loss: 0.3043 - val_accuracy: 0.8276\n"
     ]
    }
   ],
   "source": [
    "model.compile(loss='binary_crossentropy',optimizer = SGD(learning_rate=0.1),metrics = ['accuracy'])\n",
    "his = model.fit(x_trainp,y_train,batch_size=15,epochs = 20,validation_split=0.1)"
   ]
  },
  {
   "cell_type": "code",
   "execution_count": null,
   "id": "9b424dac",
   "metadata": {},
   "outputs": [],
   "source": []
  },
  {
   "cell_type": "code",
   "execution_count": null,
   "id": "20dc026e",
   "metadata": {},
   "outputs": [],
   "source": []
  },
  {
   "cell_type": "code",
   "execution_count": 37,
   "id": "33fcea74",
   "metadata": {},
   "outputs": [
    {
     "data": {
      "text/plain": [
       "<matplotlib.legend.Legend at 0x166d454a9d0>"
      ]
     },
     "execution_count": 37,
     "metadata": {},
     "output_type": "execute_result"
    },
    {
     "data": {
      "image/png": "[encoded data removed]",
      "text/plain": [
       "<Figure size 640x480 with 1 Axes>"
      ]
     },
     "metadata": {},
     "output_type": "display_data"
    }
   ],
   "source": [
    "# Plotting train loss and Validation loss\n",
    "plt.plot(range(1,21),his.history['loss'],label = 'training')\n",
    "plt.plot(range(1,21),his.history['val_loss'],label = 'validation')\n",
    "plt.legend()"
   ]
  },
  {
   "cell_type": "code",
   "execution_count": null,
   "id": "cbc0f75a",
   "metadata": {},
   "outputs": [],
   "source": []
  },
  {
   "cell_type": "markdown",
   "id": "a832f80d",
   "metadata": {},
   "source": [
    "### Predicting the model"
   ]
  },
  {
   "cell_type": "code",
   "execution_count": 38,
   "id": "741e325a",
   "metadata": {},
   "outputs": [
    {
     "name": "stdout",
     "output_type": "stream",
     "text": [
      "2/2 [==============================] - 0s 3ms/step\n"
     ]
    }
   ],
   "source": [
    "predicted=model.predict(x_testp)\n",
    "predicted=np.where(predicted>0.5,1,0)"
   ]
  },
  {
   "cell_type": "code",
   "execution_count": null,
   "id": "b40a1df8",
   "metadata": {},
   "outputs": [],
   "source": []
  },
  {
   "cell_type": "markdown",
   "id": "f228c4d8",
   "metadata": {},
   "source": [
    "### Evaluating the model\n"
   ]
  },
  {
   "cell_type": "code",
   "execution_count": 39,
   "id": "2b7ba753",
   "metadata": {},
   "outputs": [
    {
     "name": "stdout",
     "output_type": "stream",
     "text": [
      "0.96\n"
     ]
    }
   ],
   "source": [
    "from sklearn.metrics import accuracy_score,confusion_matrix,ConfusionMatrixDisplay\n",
    "print(accuracy_score(y_test,predicted)) "
   ]
  },
  {
   "cell_type": "code",
   "execution_count": 40,
   "id": "2040495a",
   "metadata": {},
   "outputs": [
    {
     "data": {
      "image/png": "[encoded data removed]",
      "text/plain": [
       "<Figure size 640x480 with 2 Axes>"
      ]
     },
     "metadata": {},
     "output_type": "display_data"
    }
   ],
   "source": [
    "cm=confusion_matrix(y_test,predicted)\n",
    "va=ConfusionMatrixDisplay(cm)\n",
    "va.plot() \n",
    "plt.show()"
   ]
  },
  {
   "cell_type": "markdown",
   "id": "4fde5442",
   "metadata": {},
   "source": [
    "### PLOTING THE DECISION SURFACE\n",
    " "
   ]
  },
  {
   "cell_type": "code",
   "execution_count": 41,
   "id": "69c48006",
   "metadata": {},
   "outputs": [],
   "source": [
    "from mlxtend.plotting import plot_decision_regions"
   ]
  },
  {
   "cell_type": "code",
   "execution_count": 42,
   "id": "8afe50c8",
   "metadata": {},
   "outputs": [
    {
     "name": "stdout",
     "output_type": "stream",
     "text": [
      "9600/9600 [==============================] - 16s 2ms/step\n"
     ]
    },
    {
     "data": {
      "text/plain": [
       "<Axes: >"
      ]
     },
     "execution_count": 42,
     "metadata": {},
     "output_type": "execute_result"
    },
    {
     "data": {
      "image/png": "[encoded data removed]",
      "text/plain": [
       "<Figure size 640x480 with 1 Axes>"
      ]
     },
     "metadata": {},
     "output_type": "display_data"
    }
   ],
   "source": [
    "# Plotting decision Surface\n",
    "from mlxtend.plotting import plot_decision_regions\n",
    "plot_decision_regions(x_trainp,y_train.values,clf = model)"
   ]
  },
  {
   "cell_type": "code",
   "execution_count": 43,
   "id": "0ea45436",
   "metadata": {},
   "outputs": [
    {
     "name": "stdout",
     "output_type": "stream",
     "text": [
      "9600/9600 [==============================] - 14s 1ms/step\n"
     ]
    },
    {
     "data": {
      "text/plain": [
       "<Axes: >"
      ]
     },
     "execution_count": 43,
     "metadata": {},
     "output_type": "execute_result"
    },
    {
     "data": {
      "image/png": "[encoded data removed]",
      "text/plain": [
       "<Figure size 640x480 with 1 Axes>"
      ]
     },
     "metadata": {},
     "output_type": "display_data"
    }
   ],
   "source": [
    "plot_decision_regions(x_testp,y_test.values,clf=model)  \n"
   ]
  },
  {
   "cell_type": "code",
   "execution_count": null,
   "id": "0dc96822",
   "metadata": {},
   "outputs": [],
   "source": []
  },
  {
   "cell_type": "code",
   "execution_count": null,
   "id": "43de9e6e",
   "metadata": {},
   "outputs": [],
   "source": []
  },
  {
   "cell_type": "code",
   "execution_count": null,
   "id": "ae2931fb",
   "metadata": {},
   "outputs": [],
   "source": []
  },
  {
   "cell_type": "code",
   "execution_count": null,
   "id": "a713fd80",
   "metadata": {},
   "outputs": [],
   "source": []
  },
  {
   "cell_type": "code",
   "execution_count": null,
   "id": "b358de49",
   "metadata": {},
   "outputs": [],
   "source": []
  },
  {
   "cell_type": "code",
   "execution_count": null,
   "id": "afbb7844",
   "metadata": {},
   "outputs": [],
   "source": []
  },
  {
   "cell_type": "code",
   "execution_count": null,
   "id": "3856dcea",
   "metadata": {},
   "outputs": [],
   "source": []
  },
  {
   "cell_type": "code",
   "execution_count": null,
   "id": "3459473b",
   "metadata": {},
   "outputs": [],
   "source": []
  },
  {
   "cell_type": "code",
   "execution_count": null,
   "id": "04bbc672",
   "metadata": {},
   "outputs": [],
   "source": []
  },
  {
   "cell_type": "code",
   "execution_count": null,
   "id": "c4697755",
   "metadata": {},
   "outputs": [],
   "source": []
  },
  {
   "cell_type": "code",
   "execution_count": null,
   "id": "a8f77f02",
   "metadata": {},
   "outputs": [],
   "source": []
  },
  {
   "cell_type": "code",
   "execution_count": null,
   "id": "8a856d42",
   "metadata": {},
   "outputs": [],
   "source": []
  },
  {
   "cell_type": "code",
   "execution_count": null,
   "id": "bffdad67",
   "metadata": {},
   "outputs": [],
   "source": []
  },
  {
   "cell_type": "code",
   "execution_count": null,
   "id": "dfb0d70f",
   "metadata": {},
   "outputs": [],
   "source": []
  },
  {
   "cell_type": "code",
   "execution_count": null,
   "id": "004daa61",
   "metadata": {},
   "outputs": [],
   "source": []
  },
  {
   "cell_type": "code",
   "execution_count": null,
   "id": "9135c16d",
   "metadata": {},
   "outputs": [],
   "source": []
  },
  {
   "cell_type": "code",
   "execution_count": null,
   "id": "6f239d69",
   "metadata": {},
   "outputs": [],
   "source": []
  },
  {
   "cell_type": "code",
   "execution_count": null,
   "id": "deacdc79",
   "metadata": {},
   "outputs": [],
   "source": []
  },
  {
   "cell_type": "code",
   "execution_count": null,
   "id": "59ed482b",
   "metadata": {},
   "outputs": [],
   "source": []
  },
  {
   "cell_type": "code",
   "execution_count": null,
   "id": "ec9624b5",
   "metadata": {},
   "outputs": [],
   "source": []
  },
  {
   "cell_type": "code",
   "execution_count": null,
   "id": "54a431f6",
   "metadata": {},
   "outputs": [],
   "source": []
  },
  {
   "cell_type": "code",
   "execution_count": null,
   "id": "a4ce98fb",
   "metadata": {},
   "outputs": [],
   "source": []
  },
  {
   "cell_type": "code",
   "execution_count": null,
   "id": "f166b996",
   "metadata": {},
   "outputs": [],
   "source": []
  },
  {
   "cell_type": "code",
   "execution_count": null,
   "id": "824dea75",
   "metadata": {},
   "outputs": [],
   "source": []
  },
  {
   "cell_type": "code",
   "execution_count": null,
   "id": "ce13a987",
   "metadata": {},
   "outputs": [],
   "source": []
  },
  {
   "cell_type": "code",
   "execution_count": null,
   "id": "560e11be",
   "metadata": {},
   "outputs": [],
   "source": []
  },
  {
   "cell_type": "code",
   "execution_count": null,
   "id": "8d83f213",
   "metadata": {},
   "outputs": [],
   "source": []
  },
  {
   "cell_type": "code",
   "execution_count": null,
   "id": "c9a43e59",
   "metadata": {},
   "outputs": [],
   "source": []
  },
  {
   "cell_type": "code",
   "execution_count": null,
   "id": "a99a9293",
   "metadata": {},
   "outputs": [],
   "source": []
  },
  {
   "cell_type": "code",
   "execution_count": null,
   "id": "05556472",
   "metadata": {},
   "outputs": [],
   "source": []
  },
  {
   "cell_type": "code",
   "execution_count": null,
   "id": "1548aa60",
   "metadata": {},
   "outputs": [],
   "source": []
  },
  {
   "cell_type": "code",
   "execution_count": null,
   "id": "6ae1b9f5",
   "metadata": {},
   "outputs": [],
   "source": []
  },
  {
   "cell_type": "code",
   "execution_count": null,
   "id": "4ad5b04d",
   "metadata": {},
   "outputs": [],
   "source": []
  },
  {
   "cell_type": "code",
   "execution_count": null,
   "id": "a6b3f846",
   "metadata": {},
   "outputs": [],
   "source": []
  },
  {
   "cell_type": "code",
   "execution_count": null,
   "id": "c2d5872d",
   "metadata": {},
   "outputs": [],
   "source": []
  },
  {
   "cell_type": "code",
   "execution_count": null,
   "id": "ab2b65b8",
   "metadata": {},
   "outputs": [],
   "source": []
  }
 ],
 "metadata": {
  "kernelspec": {
   "display_name": "Python 3 (ipykernel)",
   "language": "python",
   "name": "python3"
  },
  "language_info": {
   "codemirror_mode": {
    "name": "ipython",
    "version": 3
   },
   "file_extension": ".py",
   "mimetype": "text/x-python",
   "name": "python",
   "nbconvert_exporter": "python",
   "pygments_lexer": "ipython3",
   "version": "3.9.13"
  }
 },
 "nbformat": 4,
 "nbformat_minor": 5
}
