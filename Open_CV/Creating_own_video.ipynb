{
 "cells": [
  {
   "cell_type": "code",
   "execution_count": 1,
   "id": "c93f5933",
   "metadata": {},
   "outputs": [],
   "source": [
    "import cv2\n",
    "import numpy as np"
   ]
  },
  {
   "cell_type": "code",
   "execution_count": 18,
   "id": "2890131f",
   "metadata": {},
   "outputs": [],
   "source": [
    "black_img1 = np.zeros((500,500,3),np.uint8)\n",
    "img1 = cv2.circle(black_img1,(60,90),25,(255,255,255),-1)# face\n",
    "img1 = cv2.circle(black_img1,(50,83),5,(0,0,255),2) # L eye\n",
    "img1 = cv2.circle(black_img1,(65,83),5,(0,0,255),2) # R eye\n",
    "img1 = cv2.circle(black_img1,(60,150),35,(255,255,255),-1)# body \n",
    "img1 = cv2.line(black_img1,(45,140),(45,250),(255,255,255),6)# L leg\n",
    "img1 = cv2.line(black_img1,(70,140),(70,250),(255,255,255),6)# R leg\n",
    "img1 = cv2.circle(black_img1,(85,65),3,(255,255,255),-1)\n",
    "img1 = cv2.circle(black_img1,(90,62),2,(255,255,255),-1)\n",
    "img1 = cv2.line(black_img1,(95,150),(105,200),(255,255,255),4)# R hand\n",
    "img1 = cv2.line(black_img1,(7,196),(25,151),(255,255,255),4)# L hand \n",
    "img1 = cv2.circle(black_img1,(128,53),45,(255,255,0),-1)\n",
    "img1=cv2.putText(img1,\"Looking for job\",(105,53),cv2.FONT_HERSHEY_DUPLEX,1,(0,0,255),2)"
   ]
  },
  {
   "cell_type": "code",
   "execution_count": 23,
   "id": "85e0215f",
   "metadata": {},
   "outputs": [],
   "source": [
    "cv2.namedWindow(\"w1\",cv2.WINDOW_NORMAL)\n",
    "cv2.imshow(\"w1\",img1)\n",
    "cv2.waitKey()\n",
    "cv2.destroyAllWindows()"
   ]
  },
  {
   "cell_type": "code",
   "execution_count": 13,
   "id": "0b253d49",
   "metadata": {},
   "outputs": [],
   "source": [
    "black_img2 = np.zeros((500,500,3),np.uint8)\n",
    "img2 = cv2.circle(black_img2,(60,90),25,(255,255,255),-1)# face\n",
    "img2 = cv2.circle(black_img2,(50,83),5,(0,0,255),2) # L eye\n",
    "img2 = cv2.circle(black_img2,(65,83),5,(0,0,255),2) # R eye\n",
    "img2 = cv2.circle(black_img2,(60,150),35,(255,255,255),-1)# body \n",
    "img2 = cv2.line(black_img2,(45,140),(45,250),(255,255,255),6)# L leg\n",
    "img2 = cv2.line(black_img2,(70,140),(70,250),(255,255,255),6)# R leg\n",
    "#img2 = cv2.circle(black_img2,(85,65),3,(255,255,255),-1)\n",
    "#img2 = cv2.circle(black_img2,(90,62),2,(255,255,255),-1)\n",
    "\n",
    "img2 = cv2.line(black_img2,(95,150),(105,200),(255,255,255),4)# R hand\n",
    "img2 = cv2.line(black_img2,(7,196),(25,151),(255,255,255),4)# L hand \n",
    "\n",
    "#img2 = cv2.circle(black_img2,(128,53),45,(255,255,0),-1)\n",
    "#img2 = cv2.putText(img2,\"Looking for job\",(105,53),cv2.FONT_HERSHEY_DUPLEX,1,(0,0,255),2)\n",
    "img2 = cv2.circle(black_img2,(210,80),25,(255,255,255),-1) # friend face \n",
    "img2 = cv2.circle(black_img2,(210,140),35,(255,255,255),-1) # body\n",
    "img2 = cv2.circle(black_img2,(200,73),5,(0,0,255),2) # friend L eye\n",
    "img2 = cv2.circle(black_img2,(215,73),5,(0,0,255),2) # friend R eye\n",
    "img2 = cv2.line(black_img2,(195,130),(195,240),(255,255,255),6)# L leg\n",
    "img2 = cv2.line(black_img2,(220,130),(220,240),(255,255,255),6)# R leg\n",
    "\n",
    "img2 = cv2.line(black_img2,(245,140),(255,190),(255,255,255),4)# R hand\n",
    "img2 = cv2.line(black_img2,(153,186),(175,141),(255,255,255),4)# L hand\n",
    "\n",
    "img2 = cv2.circle(black_img2,(235,55),3,(255,255,255),-1) # Text area\n",
    "img2 = cv2.circle(black_img2,(278,43),45,(255,255,0),-1)\n",
    "img2 = cv2.putText(img2,\"Hi bro\",(255,43), cv2.FONT_HERSHEY_DUPLEX,1,(0,0,255),2)"
   ]
  },
  {
   "cell_type": "code",
   "execution_count": 65,
   "id": "0ae4114d",
   "metadata": {},
   "outputs": [],
   "source": [
    "cv2.namedWindow(\"w1\",cv2.WINDOW_NORMAL)\n",
    "cv2.imshow(\"w1\",img2)\n",
    "cv2.waitKey()\n",
    "cv2.destroyAllWindows()"
   ]
  },
  {
   "cell_type": "code",
   "execution_count": 14,
   "id": "bc3316dd",
   "metadata": {},
   "outputs": [],
   "source": [
    "black_img2 = np.zeros((500,500,3),np.uint8)\n",
    "img3 = cv2.circle(black_img2,(60,90),25,(255,255,255),-1)# face\n",
    "img3 = cv2.circle(black_img2,(50,83),5,(0,0,255),2) # L eye\n",
    "img3 = cv2.circle(black_img2,(65,83),5,(0,0,255),2) # R eye\n",
    "img3 = cv2.circle(black_img2,(60,150),35,(255,255,255),-1)# body \n",
    "img3 = cv2.line(black_img2,(45,140),(45,250),(255,255,255),6)# L leg\n",
    "img3 = cv2.line(black_img2,(70,140),(70,250),(255,255,255),6)# R leg\n",
    "#img2 = cv2.circle(black_img2,(85,65),3,(255,255,255),-1)\n",
    "#img2 = cv2.circle(black_img2,(90,62),2,(255,255,255),-1)\n",
    "\n",
    "img3 = cv2.line(black_img2,(95,150),(105,200),(255,255,255),4)# R hand\n",
    "img3 = cv2.line(black_img2,(7,196),(25,151),(255,255,255),4)# L hand \n",
    "\n",
    "#img2 = cv2.circle(black_img2,(128,53),45,(255,255,0),-1)\n",
    "#img2 = cv2.putText(img2,\"Looking for job\",(105,53),cv2.FONT_HERSHEY_DUPLEX,1,(0,0,255),2)\n",
    "img3 = cv2.circle(black_img2,(210,80),25,(255,255,255),-1) # friend face \n",
    "img3 = cv2.circle(black_img2,(210,140),35,(255,255,255),-1) # body\n",
    "img3 = cv2.circle(black_img2,(200,73),5,(0,0,255),2) # friend L eye\n",
    "img3 = cv2.circle(black_img2,(215,73),5,(0,0,255),2) # friend R eye\n",
    "img3= cv2.line(black_img2,(195,130),(195,240),(255,255,255),6)# L leg\n",
    "img3 = cv2.line(black_img2,(220,130),(220,240),(255,255,255),6)# R leg\n",
    "\n",
    "img3 = cv2.line(black_img2,(245,140),(255,190),(255,255,255),4)# R hand\n",
    "img3 = cv2.line(black_img2,(153,186),(175,141),(255,255,255),4)# L hand\n",
    "\n",
    "img3 = cv2.circle(black_img2,(235,55),3,(255,255,255),-1) # Text area\n",
    "img3 = cv2.circle(black_img2,(278,43),45,(255,255,0),-1)\n",
    "img3 = cv2.putText(img3,\"what are doing\",(255,43), cv2.FONT_HERSHEY_DUPLEX,1,(0,0,255),2)"
   ]
  },
  {
   "cell_type": "code",
   "execution_count": 90,
   "id": "b75059f6",
   "metadata": {},
   "outputs": [],
   "source": [
    "cv2.namedWindow(\"w1\",cv2.WINDOW_NORMAL)\n",
    "cv2.imshow(\"w1\",img3)\n",
    "cv2.waitKey()\n",
    "cv2.destroyAllWindows()"
   ]
  },
  {
   "cell_type": "code",
   "execution_count": 12,
   "id": "c11c22d2",
   "metadata": {},
   "outputs": [],
   "source": [
    "black_img2 = np.zeros((500,500,3),np.uint8)\n",
    "img4 = cv2.circle(black_img2,(60,90),25,(255,255,255),-1)# face\n",
    "img4 = cv2.circle(black_img2,(50,83),5,(0,0,255),2) # L eye\n",
    "img4 = cv2.circle(black_img2,(65,83),5,(0,0,255),2) # R eye\n",
    "img4 = cv2.circle(black_img2,(60,150),35,(255,255,255),-1)# body \n",
    "img4 = cv2.line(black_img2,(45,140),(45,250),(255,255,255),6)# L leg\n",
    "img4 = cv2.line(black_img2,(70,140),(70,250),(255,255,255),6)# R leg\n",
    "#img2 = cv2.circle(black_img2,(85,65),3,(255,255,255),-1)\n",
    "#img2 = cv2.circle(black_img2,(90,62),2,(255,255,255),-1)\n",
    "\n",
    "img4 = cv2.line(black_img2,(95,150),(105,200),(255,255,255),4)# R hand\n",
    "img4 = cv2.line(black_img2,(7,196),(25,151),(255,255,255),4)# L hand \n",
    "\n",
    "img4 = cv2.circle(black_img2,(128,53),45,(255,255,0),-1)\n",
    "img4 = cv2.putText(img4,\"Looking for job bro\",(105,53),cv2.FONT_HERSHEY_DUPLEX,1,(0,0,255),2)\n",
    "img4 = cv2.circle(black_img2,(210,80),25,(255,255,255),-1) # friend face \n",
    "img4 = cv2.circle(black_img2,(210,140),35,(255,255,255),-1) # body\n",
    "img4= cv2.circle(black_img2,(200,73),5,(0,0,255),2) # friend L eye\n",
    "img4 = cv2.circle(black_img2,(215,73),5,(0,0,255),2) # friend R eye\n",
    "img4 = cv2.line(black_img2,(195,130),(195,240),(255,255,255),6)# L leg\n",
    "img4 = cv2.line(black_img2,(220,130),(220,240),(255,255,255),6)# R leg\n",
    "\n",
    "img4 = cv2.line(black_img2,(245,140),(255,190),(255,255,255),4)# R hand\n",
    "img4 = cv2.line(black_img2,(153,186),(175,141),(255,255,255),4)# L hand\n",
    "\n",
    "#img4 = cv2.circle(black_img2,(235,55),3,(255,255,255),-1) # Text area\n",
    "#img3 = cv2.circle(black_img2,(278,43),45,(255,255,0),-1)\n",
    "#img2 = cv2.putText(img2,\"Hi bro\",(255,43), cv2.FONT_HERSHEY_DUPLEX,1,(0,0,255),2)"
   ]
  },
  {
   "cell_type": "code",
   "execution_count": 86,
   "id": "dc680ffd",
   "metadata": {},
   "outputs": [],
   "source": [
    "cv2.namedWindow(\"w1\",cv2.WINDOW_NORMAL)\n",
    "cv2.imshow(\"w1\",img4)\n",
    "cv2.waitKey()\n",
    "cv2.destroyAllWindows()"
   ]
  },
  {
   "cell_type": "code",
   "execution_count": 105,
   "id": "7ee63404",
   "metadata": {},
   "outputs": [],
   "source": [
    "black_img2 = np.zeros((500,500,3),np.uint8)\n",
    "img5= cv2.circle(black_img2,(60,90),25,(255,255,255),-1)# face\n",
    "img5 = cv2.circle(black_img2,(50,83),5,(0,0,255),2) # L eye\n",
    "img5 = cv2.circle(black_img2,(65,83),5,(0,0,255),2) # R eye\n",
    "img5 = cv2.circle(black_img2,(60,150),35,(255,255,255),-1)# body \n",
    "img5 = cv2.line(black_img2,(45,140),(45,250),(255,255,255),6)# L leg\n",
    "img5 = cv2.line(black_img2,(70,140),(70,250),(255,255,255),6)# R leg\n",
    "#img2 = cv2.circle(black_img2,(85,65),3,(255,255,255),-1)\n",
    "#img2 = cv2.circle(black_img2,(90,62),2,(255,255,255),-1)\n",
    "\n",
    "img5 = cv2.line(black_img2,(95,150),(105,200),(255,255,255),4)# R hand\n",
    "img5 = cv2.line(black_img2,(7,196),(25,151),(255,255,255),4)# L hand \n",
    "\n",
    "#img2 = cv2.circle(black_img2,(128,53),45,(255,255,0),-1)\n",
    "#img2 = cv2.putText(img2,\"Looking for job\",(105,53),cv2.FONT_HERSHEY_DUPLEX,1,(0,0,255),2)\n",
    "img5 = cv2.circle(black_img2,(210,80),25,(255,255,255),-1) # friend face \n",
    "img5 = cv2.circle(black_img2,(210,140),35,(255,255,255),-1) # body\n",
    "img5 = cv2.circle(black_img2,(200,73),5,(0,0,255),2) # friend L eye\n",
    "img5 = cv2.circle(black_img2,(215,73),5,(0,0,255),2) # friend R eye\n",
    "img5= cv2.line(black_img2,(195,130),(195,240),(255,255,255),6)# L leg\n",
    "img5 = cv2.line(black_img2,(220,130),(220,240),(255,255,255),6)# R leg\n",
    "\n",
    "img5 = cv2.line(black_img2,(245,140),(255,190),(255,255,255),4)# R hand\n",
    "img5 = cv2.line(black_img2,(153,186),(175,141),(255,255,255),4)# L hand\n",
    "\n",
    "img5 = cv2.circle(black_img2,(235,55),3,(255,255,255),-1) # Text area\n",
    "img5 = cv2.circle(black_img2,(278,43),45,(255,255,0),-1)\n",
    "img5 = cv2.putText(img5,\"Then do any course \",(255,43), cv2.FONT_HERSHEY_SIMPLEX,0.5,(0,0,255),2)"
   ]
  },
  {
   "cell_type": "code",
   "execution_count": 106,
   "id": "26a64c71",
   "metadata": {},
   "outputs": [],
   "source": [
    "cv2.namedWindow(\"w1\",cv2.WINDOW_NORMAL)\n",
    "cv2.imshow(\"w1\",img5)\n",
    "cv2.waitKey()\n",
    "cv2.destroyAllWindows()"
   ]
  },
  {
   "cell_type": "code",
   "execution_count": 114,
   "id": "97c3e23c",
   "metadata": {},
   "outputs": [],
   "source": [
    "black_img2 = np.zeros((500,500,3),np.uint8)\n",
    "img6 = cv2.circle(black_img2,(60,90),25,(255,255,255),-1)# face\n",
    "img6 = cv2.circle(black_img2,(50,83),5,(0,0,255),2) # L eye\n",
    "img6 = cv2.circle(black_img2,(65,83),5,(0,0,255),2) # R eye\n",
    "img6 = cv2.circle(black_img2,(60,150),35,(255,255,255),-1)# body \n",
    "img6 = cv2.line(black_img2,(45,140),(45,250),(255,255,255),6)# L leg\n",
    "img6 = cv2.line(black_img2,(70,140),(70,250),(255,255,255),6)# R leg\n",
    "#img2 = cv2.circle(black_img2,(85,65),3,(255,255,255),-1)\n",
    "#img2 = cv2.circle(black_img2,(90,62),2,(255,255,255),-1)\n",
    "\n",
    "img6 = cv2.line(black_img2,(95,150),(105,200),(255,255,255),4)# R hand\n",
    "img6 = cv2.line(black_img2,(7,196),(25,151),(255,255,255),4)# L hand \n",
    "\n",
    "img6 = cv2.circle(black_img2,(128,53),45,(255,255,0),-1)\n",
    "img6 = cv2.putText(img6,\"I am Non-IT student\",(105,53),cv2.FONT_HERSHEY_DUPLEX,0.5,(0,0,255),1)\n",
    "img6 = cv2.circle(black_img2,(210,80),25,(255,255,255),-1) # friend face \n",
    "img6 = cv2.circle(black_img2,(210,140),35,(255,255,255),-1) # body\n",
    "img6= cv2.circle(black_img2,(200,73),5,(0,0,255),2) # friend L eye\n",
    "img6 = cv2.circle(black_img2,(215,73),5,(0,0,255),2) # friend R eye\n",
    "img6 = cv2.line(black_img2,(195,130),(195,240),(255,255,255),6)# L leg\n",
    "img6 = cv2.line(black_img2,(220,130),(220,240),(255,255,255),6)# R leg\n",
    "\n",
    "img6 = cv2.line(black_img2,(245,140),(255,190),(255,255,255),4)# R hand\n",
    "img6 = cv2.line(black_img2,(153,186),(175,141),(255,255,255),4)# L hand\n",
    "\n",
    "#img4 = cv2.circle(black_img2,(235,55),3,(255,255,255),-1) # Text area\n",
    "#img3 = cv2.circle(black_img2,(278,43),45,(255,255,0),-1)\n",
    "#img2 = cv2.putText(img2,\"Hi bro\",(255,43), cv2.FONT_HERSHEY_DUPLEX,1,(0,0,255),2)"
   ]
  },
  {
   "cell_type": "code",
   "execution_count": 115,
   "id": "2f34481c",
   "metadata": {},
   "outputs": [],
   "source": [
    "cv2.namedWindow(\"w1\",cv2.WINDOW_NORMAL)\n",
    "cv2.imshow(\"w1\",img6)\n",
    "cv2.waitKey()\n",
    "cv2.destroyAllWindows()"
   ]
  },
  {
   "cell_type": "code",
   "execution_count": 124,
   "id": "d314b502",
   "metadata": {},
   "outputs": [],
   "source": [
    "black_img2 = np.zeros((500,500,3),np.uint8)\n",
    "img7= cv2.circle(black_img2,(60,90),25,(255,255,255),-1)# face\n",
    "img7 = cv2.circle(black_img2,(50,83),5,(0,0,255),2) # L eye\n",
    "img7 = cv2.circle(black_img2,(65,83),5,(0,0,255),2) # R eye\n",
    "img7 = cv2.circle(black_img2,(60,150),35,(255,255,255),-1)# body \n",
    "img7 = cv2.line(black_img2,(45,140),(45,250),(255,255,255),6)# L leg\n",
    "img7 = cv2.line(black_img2,(70,140),(70,250),(255,255,255),6)# R leg\n",
    "#img2 = cv2.circle(black_img2,(85,65),3,(255,255,255),-1)\n",
    "#img2 = cv2.circle(black_img2,(90,62),2,(255,255,255),-1)\n",
    "\n",
    "img7 = cv2.line(black_img2,(95,150),(105,200),(255,255,255),4)# R hand\n",
    "img7 = cv2.line(black_img2,(7,196),(25,151),(255,255,255),4)# L hand \n",
    "\n",
    "#img2 = cv2.circle(black_img2,(128,53),45,(255,255,0),-1)\n",
    "#img2 = cv2.putText(img2,\"Looking for job\",(105,53),cv2.FONT_HERSHEY_DUPLEX,1,(0,0,255),2)\n",
    "img7 = cv2.circle(black_img2,(210,80),25,(255,255,255),-1) # friend face \n",
    "img7 = cv2.circle(black_img2,(210,140),35,(255,255,255),-1) # body\n",
    "img7 = cv2.circle(black_img2,(200,73),5,(0,0,255),2) # friend L eye\n",
    "img7 = cv2.circle(black_img2,(215,73),5,(0,0,255),2) # friend R eye\n",
    "img7= cv2.line(black_img2,(195,130),(195,240),(255,255,255),6)# L leg\n",
    "img7 = cv2.line(black_img2,(220,130),(220,240),(255,255,255),6)# R leg\n",
    "\n",
    "img7 = cv2.line(black_img2,(245,140),(255,190),(255,255,255),4)# R hand\n",
    "img7 = cv2.line(black_img2,(153,186),(175,141),(255,255,255),4)# L hand\n",
    "\n",
    "img7 = cv2.circle(black_img2,(235,55),3,(255,255,255),-1) # Text area\n",
    "img7 = cv2.circle(black_img2,(278,43),45,(255,255,0),-1)\n",
    "img7 = cv2.putText(img7,\"Then Join in Data sciences \",(255,43), cv2.FONT_HERSHEY_SIMPLEX,0.5,(0,0,255),2)"
   ]
  },
  {
   "cell_type": "code",
   "execution_count": 125,
   "id": "72486096",
   "metadata": {},
   "outputs": [],
   "source": [
    "cv2.namedWindow(\"w1\",cv2.WINDOW_NORMAL)\n",
    "cv2.imshow(\"w1\",img7)\n",
    "cv2.waitKey()\n",
    "cv2.destroyAllWindows()"
   ]
  },
  {
   "cell_type": "code",
   "execution_count": 122,
   "id": "d984094c",
   "metadata": {},
   "outputs": [],
   "source": [
    "black_img2 = np.zeros((500,500,3),np.uint8)\n",
    "img8 = cv2.putText(black_img2,\"After Ten days of Course \",(54,66), cv2.FONT_HERSHEY_SIMPLEX,1,(0,0,255),2)"
   ]
  },
  {
   "cell_type": "code",
   "execution_count": 123,
   "id": "11529dcb",
   "metadata": {},
   "outputs": [],
   "source": [
    "cv2.namedWindow(\"w1\",cv2.WINDOW_NORMAL)\n",
    "cv2.imshow(\"w1\",img8)\n",
    "cv2.waitKey()\n",
    "cv2.destroyAllWindows()"
   ]
  },
  {
   "cell_type": "code",
   "execution_count": 279,
   "id": "06d01f1a",
   "metadata": {},
   "outputs": [],
   "source": [
    "black_img2 = np.zeros((500,500,3),np.uint8)\n",
    "img9 = cv2.putText(black_img2,\"After Ten days of Course \",(54,66), cv2.FONT_HERSHEY_SIMPLEX,1,(0,0,255),2)\n",
    "img9 = cv2.putText(black_img2,\"Python \",(300,105), cv2.FONT_HERSHEY_SIMPLEX,1,(225,225,255),2)\n",
    "img9 = cv2.putText(black_img2,\"input : Print('Hello') \",(305,150), cv2.FONT_HERSHEY_SIMPLEX,0.5,(225,225,255),2)\n",
    "img9 = cv2.putText(black_img2,\"student : 45\",(30,100), cv2.FONT_HERSHEY_SIMPLEX,0.5,(225,225,255),2)\n",
    "img9 = cv2.putText(black_img2,\"Output : Hello\",(305,200), cv2.FONT_HERSHEY_SIMPLEX,0.5,(225,225,255),2)\n",
    "\n",
    "img9 = cv2.rectangle(black_img2,(300,130),(460,300),(255,255,255),4)\n",
    "\n",
    "img9 = cv2.circle(black_img2,(15,350),25,(255,255,255),-1)# face\n",
    "img9 = cv2.circle(black_img2,(8,343),5,(0,0,255),2) # L eye\n",
    "img9 = cv2.circle(black_img2,(23,343),5,(0,0,255),2) # R eye\n",
    "img9 = cv2.line(black_img2,(15,350),(15,450),(255,255,255),1)\n",
    "img9 = cv2.line(black_img2,(15,390),(2,430),(255,255,255),1)\n",
    "img9 = cv2.line(black_img2,(15,390),(28,430),(255,255,255),1)\n",
    "\n",
    "img9 = cv2.circle(black_img2,(35,420),25,(190,190,190),-1)# face\n",
    "img9 = cv2.circle(black_img2,(28,413),5,(0,0,255),2) # L eye\n",
    "img9 = cv2.circle(black_img2,(43,413),5,(0,0,255),2) # R eye\n",
    "img9 = cv2.line(black_img2,(35,420),(35,500),(190,190,190),1)\n",
    "img9 = cv2.line(black_img2,(35,460),(22,500),(190,190,190),1)\n",
    "img9 = cv2.line(black_img2,(35,460),(48,500),(190,190,190),1)\n",
    "\n",
    "img9 = cv2.circle(black_img2,(85,420),25,(190,190,190),-1)# face\n",
    "img9 = cv2.circle(black_img2,(78,413),5,(0,0,255),2) # L eye\n",
    "img9 = cv2.circle(black_img2,(93,413),5,(0,0,255),2) # R eye\n",
    "img9 = cv2.line(black_img2,(85,420),(85,500),(190,190,190),1)\n",
    "img9 = cv2.line(black_img2,(85,460),(72,500),(190,190,190),1)\n",
    "img9 = cv2.line(black_img2,(85,460),(98,500),(190,190,190),1)\n",
    "\n",
    "img9 = cv2.circle(black_img2,(135,420),25,(190,190,190),-1)# face\n",
    "img9 = cv2.circle(black_img2,(128,413),5,(0,0,255),2) # L eye\n",
    "img9 = cv2.circle(black_img2,(143,413),5,(0,0,255),2) # R eye\n",
    "img9 = cv2.line(black_img2,(135,420),(135,500),(190,190,190),1)\n",
    "img9 = cv2.line(black_img2,(135,460),(122,500),(190,190,190),1)\n",
    "img9 = cv2.line(black_img2,(135,460),(148,500),(190,190,190),1)\n",
    "\n",
    "img9 = cv2.circle(black_img2,(185,420),25,(190,190,190),-1)# face\n",
    "img9 = cv2.circle(black_img2,(178,413),5,(0,0,255),2) # L eye\n",
    "img9 = cv2.circle(black_img2,(193,413),5,(0,0,255),2) # R eye\n",
    "img9 = cv2.line(black_img2,(185,420),(185,500),(190,190,190),1)\n",
    "img9 = cv2.line(black_img2,(185,460),(172,500),(190,190,190),1)\n",
    "img9 = cv2.line(black_img2,(185,460),(198,500),(190,190,190),1)\n",
    "\n",
    "img9 = cv2.circle(black_img2,(235,420),25,(190,190,190),-1)# face\n",
    "img9 = cv2.circle(black_img2,(228,413),5,(0,0,255),2) # L eye\n",
    "img9 = cv2.circle(black_img2,(243,413),5,(0,0,255),2) # R eye\n",
    "img9 = cv2.line(black_img2,(235,420),(235,500),(190,190,190),1)\n",
    "img9 = cv2.line(black_img2,(235,460),(222,500),(190,190,190),1)\n",
    "img9 = cv2.line(black_img2,(235,460),(248,500),(190,190,190),1)\n",
    "\n",
    "\n",
    "\n",
    "\n",
    "img9 = cv2.circle(black_img2,(65,350),25,(255,255,255),-1)# face\n",
    "img9 = cv2.circle(black_img2,(58,343),5,(0,0,255),2) # L eye\n",
    "img9 = cv2.circle(black_img2,(73,343),5,(0,0,255),2) # R eye\n",
    "img9 = cv2.line(black_img2,(65,350),(65,450),(255,255,255),1)\n",
    "img9 = cv2.line(black_img2,(65,390),(53,430),(255,255,255),1)\n",
    "img9 = cv2.line(black_img2,(65,390),(78,430),(255,255,255),1)\n",
    "\n",
    "img9 = cv2.circle(black_img2,(115,350),25,(255,255,255),-1)# face\n",
    "img9 = cv2.circle(black_img2,(108,343),5,(0,0,255),2) # L eye\n",
    "img9 = cv2.circle(black_img2,(123,343),5,(0,0,255),2) # R eye\n",
    "img9 = cv2.line(black_img2,(115,350),(115,450),(255,255,255),1)\n",
    "img9 = cv2.line(black_img2,(115,390),(103,430),(255,255,255),1)\n",
    "img9 = cv2.line(black_img2,(115,390),(128,430),(255,255,255),1)\n",
    "\n",
    "img9 = cv2.circle(black_img2,(165,350),25,(255,255,255),-1)# face\n",
    "img9 = cv2.circle(black_img2,(158,343),5,(0,0,255),2) # L eye\n",
    "img9 = cv2.circle(black_img2,(173,343),5,(0,0,255),2) # R eye\n",
    "img9 = cv2.line(black_img2,(165,350),(165,450),(255,255,255),1)\n",
    "img9 = cv2.line(black_img2,(165,390),(143,430),(255,255,255),1)\n",
    "img9 = cv2.line(black_img2,(165,390),(178,430),(255,255,255),1)\n",
    "\n",
    "img9 = cv2.circle(black_img2,(215,350),25,(255,255,255),-1)# face\n",
    "img9 = cv2.circle(black_img2,(208,343),5,(0,0,255),2) # L eye\n",
    "img9 = cv2.circle(black_img2,(223,343),5,(0,0,255),2) # R eye\n",
    "img9 = cv2.line(black_img2,(215,350),(215,450),(255,255,255),1)\n",
    "img9 = cv2.line(black_img2,(215,390),(193,430),(255,255,255),1)\n",
    "img9 = cv2.line(black_img2,(215,390),(228,430),(255,255,255),1)\n",
    "\n",
    "img9 = cv2.circle(black_img2,(265,350),25,(255,255,255),-1)# face\n",
    "img9 = cv2.circle(black_img2,(258,343),5,(0,0,255),2) # L eye\n",
    "img9 = cv2.circle(black_img2,(273,343),5,(0,0,255),2) # R eye\n",
    "img9 = cv2.line(black_img2,(265,350),(265,450),(255,255,255),1)\n",
    "img9 = cv2.line(black_img2,(265,390),(243,430),(255,255,255),1)\n",
    "img9 = cv2.line(black_img2,(265,390),(278,430),(255,255,255),1)\n",
    "\n",
    "img9 = cv2.circle(black_img2,(210,110),25,(255,255,255),-1)# face\n",
    "img9 = cv2.circle(black_img2,(210,170),35,(255,255,255),-1)# body\n",
    "img9 = cv2.circle(black_img2,(208,103),5,(0,0,255),2) # L eye\n",
    "img9 = cv2.circle(black_img2,(223,103),5,(0,0,255),2) # R eye\n",
    "img9 = cv2.line(black_img2,(195,160),(195,290),(255,255,255),6)# L leg\n",
    "img9 = cv2.line(black_img2,(220,160),(220,290),(255,255,255),6)# R leg\n",
    "img9 = cv2.line(black_img2,(245,170),(255,220),(255,255,255),4)# R hand\n",
    "img9 = cv2.line(black_img2,(157,226),(175,171),(255,255,255),4)# L hand \n",
    "img9 = cv2.line(black_img2,(255,217),(320,220),(0,0,255),2)# R leg\n",
    "\n",
    "\n",
    "\n",
    "\n",
    "\n",
    "\n",
    "#img9 = cv2.circle(black_img2,(258,343),5,(0,0,255),2) # L eye\n",
    "#img9 = cv2.circle(black_img2,(273,343),5,(0,0,255),2) # R eye\n",
    "#img9 = cv2.line(black_img2,(265,350),(265,450),(255,255,255),1)\n",
    "#img9 = cv2.line(black_img2,(265,390),(243,430),(255,255,255),1)\n",
    "#img9 = cv2.line(black_img2,(265,390),(278,430),(255,255,255),1)\n",
    "\n",
    "\n",
    "#img9 = cv2.circle(black_img1,(60,150),35,(255,255,255),-1)# body \n",
    "#img9 = cv2.circle(black_img1,(85,65),3,(255,255,255),-1)\n",
    "#img9 = cv2.circle(black_img1,(90,62),2,(255,255,255),-1)\n",
    "\n"
   ]
  },
  {
   "cell_type": "code",
   "execution_count": 280,
   "id": "cd197bd7",
   "metadata": {},
   "outputs": [],
   "source": [
    "cv2.namedWindow(\"w1\",cv2.WINDOW_NORMAL)\n",
    "cv2.imshow(\"w1\",img9)\n",
    "cv2.waitKey()\n",
    "cv2.destroyAllWindows()"
   ]
  },
  {
   "cell_type": "code",
   "execution_count": 288,
   "id": "3e2b3d12",
   "metadata": {},
   "outputs": [],
   "source": [
    "black_img2 = np.zeros((500,500,3),np.uint8)\n",
    "img10 = cv2.putText(black_img2,\"After 30 days \",(54,66), cv2.FONT_HERSHEY_SIMPLEX,1,(0,0,255),2)\n",
    "img10 = cv2.putText(black_img2,\"Data Analysis \",(300,105), cv2.FONT_HERSHEY_SIMPLEX,1,(225,225,255),2)\n",
    "img10 = cv2.putText(black_img2,\"import Numpy as np \",(305,150), cv2.FONT_HERSHEY_SIMPLEX,0.5,(225,225,255),2)\n",
    "img10 = cv2.putText(black_img2,\"student : 35\",(30,100), cv2.FONT_HERSHEY_SIMPLEX,0.5,(225,225,255),2)\n",
    "img10 = cv2.putText(black_img2,\"import Pandas as pd\",(305,200), cv2.FONT_HERSHEY_SIMPLEX,0.5,(225,225,255),2)\n",
    "\n",
    "img10 = cv2.rectangle(black_img2,(300,130),(480,300),(255,255,255),4)\n",
    "\n",
    "img10 = cv2.circle(black_img2,(15,350),25,(255,255,255),-1)# face\n",
    "img10 = cv2.circle(black_img2,(8,343),5,(0,0,255),2) # L eye\n",
    "img10 = cv2.circle(black_img2,(23,343),5,(0,0,255),2) # R eye\n",
    "img10 = cv2.line(black_img2,(15,350),(15,450),(255,255,255),1)\n",
    "img10 = cv2.line(black_img2,(15,390),(2,430),(255,255,255),1)\n",
    "img10 = cv2.line(black_img2,(15,390),(28,430),(255,255,255),1)\n",
    "\n",
    "img10 = cv2.circle(black_img2,(35,420),25,(190,190,190),-1)# face\n",
    "img10 = cv2.circle(black_img2,(28,413),5,(0,0,255),2) # L eye\n",
    "img10 = cv2.circle(black_img2,(43,413),5,(0,0,255),2) # R eye\n",
    "img10 = cv2.line(black_img2,(35,420),(35,500),(190,190,190),1)\n",
    "img10 = cv2.line(black_img2,(35,460),(22,500),(190,190,190),1)\n",
    "img10 = cv2.line(black_img2,(35,460),(48,500),(190,190,190),1)\n",
    "\n",
    "img10 = cv2.circle(black_img2,(85,420),25,(190,190,190),-1)# face\n",
    "img10 = cv2.circle(black_img2,(78,413),5,(0,0,255),2) # L eye\n",
    "img10 = cv2.circle(black_img2,(93,413),5,(0,0,255),2) # R eye\n",
    "img10 = cv2.line(black_img2,(85,420),(85,500),(190,190,190),1)\n",
    "img10 = cv2.line(black_img2,(85,460),(72,500),(190,190,190),1)\n",
    "img10 = cv2.line(black_img2,(85,460),(98,500),(190,190,190),1)\n",
    "\n",
    "img10 = cv2.circle(black_img2,(135,420),25,(190,190,190),-1)# face\n",
    "img10 = cv2.circle(black_img2,(128,413),5,(0,0,255),2) # L eye\n",
    "img10 = cv2.circle(black_img2,(143,413),5,(0,0,255),2) # R eye\n",
    "img10 = cv2.line(black_img2,(135,420),(135,500),(190,190,190),1)\n",
    "img10 = cv2.line(black_img2,(135,460),(122,500),(190,190,190),1)\n",
    "img10 = cv2.line(black_img2,(135,460),(148,500),(190,190,190),1)\n",
    "\n",
    "img10 = cv2.circle(black_img2,(185,420),25,(190,190,190),-1)# face\n",
    "img10 = cv2.circle(black_img2,(178,413),5,(0,0,255),2) # L eye\n",
    "img10 = cv2.circle(black_img2,(193,413),5,(0,0,255),2) # R eye\n",
    "img10 = cv2.line(black_img2,(185,420),(185,500),(190,190,190),1)\n",
    "img10 = cv2.line(black_img2,(185,460),(172,500),(190,190,190),1)\n",
    "img10 = cv2.line(black_img2,(185,460),(198,500),(190,190,190),1)\n",
    "\n",
    "img10 = cv2.circle(black_img2,(235,420),25,(190,190,190),-1)# face\n",
    "img10 = cv2.circle(black_img2,(228,413),5,(0,0,255),2) # L eye\n",
    "img10 = cv2.circle(black_img2,(243,413),5,(0,0,255),2) # R eye\n",
    "img10 = cv2.line(black_img2,(235,420),(235,500),(190,190,190),1)\n",
    "img10 = cv2.line(black_img2,(235,460),(222,500),(190,190,190),1)\n",
    "img10 = cv2.line(black_img2,(235,460),(248,500),(190,190,190),1)\n",
    "\n",
    "\n",
    "\n",
    "\n",
    "img10 = cv2.circle(black_img2,(65,350),25,(255,255,255),-1)# face\n",
    "img10 = cv2.circle(black_img2,(58,343),5,(0,0,255),2) # L eye\n",
    "img10 = cv2.circle(black_img2,(73,343),5,(0,0,255),2) # R eye\n",
    "img10 = cv2.line(black_img2,(65,350),(65,450),(255,255,255),1)\n",
    "img10 = cv2.line(black_img2,(65,390),(53,430),(255,255,255),1)\n",
    "img10 = cv2.line(black_img2,(65,390),(78,430),(255,255,255),1)\n",
    "\n",
    "img10 = cv2.circle(black_img2,(115,350),25,(255,255,255),-1)# face\n",
    "img10 = cv2.circle(black_img2,(108,343),5,(0,0,255),2) # L eye\n",
    "img10 = cv2.circle(black_img2,(123,343),5,(0,0,255),2) # R eye\n",
    "img10 = cv2.line(black_img2,(115,350),(115,450),(255,255,255),1)\n",
    "img10 = cv2.line(black_img2,(115,390),(103,430),(255,255,255),1)\n",
    "img10 = cv2.line(black_img2,(115,390),(128,430),(255,255,255),1)\n",
    "\n",
    "img10 = cv2.circle(black_img2,(165,350),25,(255,255,255),-1)# face\n",
    "img10 = cv2.circle(black_img2,(158,343),5,(0,0,255),2) # L eye\n",
    "img10 = cv2.circle(black_img2,(173,343),5,(0,0,255),2) # R eye\n",
    "img10 = cv2.line(black_img2,(165,350),(165,450),(255,255,255),1)\n",
    "img10 = cv2.line(black_img2,(165,390),(143,430),(255,255,255),1)\n",
    "img10 = cv2.line(black_img2,(165,390),(178,430),(255,255,255),1)\n",
    "\n",
    "img10 = cv2.circle(black_img2,(215,350),25,(255,255,255),-1)# face\n",
    "img10 = cv2.circle(black_img2,(208,343),5,(0,0,255),2) # L eye\n",
    "img10 = cv2.circle(black_img2,(223,343),5,(0,0,255),2) # R eye\n",
    "img10 = cv2.line(black_img2,(215,350),(215,450),(255,255,255),1)\n",
    "img10 = cv2.line(black_img2,(215,390),(193,430),(255,255,255),1)\n",
    "img10 = cv2.line(black_img2,(215,390),(228,430),(255,255,255),1)\n",
    "\n",
    "#img10 = cv2.circle(black_img2,(265,350),25,(255,255,255),-1)# face\n",
    "#img10 = cv2.circle(black_img2,(258,343),5,(0,0,255),2) # L eye\n",
    "#img10 = cv2.circle(black_img2,(273,343),5,(0,0,255),2) # R eye\n",
    "#img10 = cv2.line(black_img2,(265,350),(265,450),(255,255,255),1)\n",
    "#img10 = cv2.line(black_img2,(265,390),(243,430),(255,255,255),1)\n",
    "#img10 = cv2.line(black_img2,(265,390),(278,430),(255,255,255),1)\n",
    "\n",
    "img10 = cv2.circle(black_img2,(210,110),25,(255,255,255),-1)# face\n",
    "img10 = cv2.circle(black_img2,(210,170),35,(255,255,255),-1)# body\n",
    "img10 = cv2.circle(black_img2,(208,103),5,(0,0,255),2) # L eye\n",
    "img10 = cv2.circle(black_img2,(223,103),5,(0,0,255),2) # R eye\n",
    "img10 = cv2.line(black_img2,(195,160),(195,290),(255,255,255),6)# L leg\n",
    "img10 = cv2.line(black_img2,(220,160),(220,290),(255,255,255),6)# R leg\n",
    "img10 = cv2.line(black_img2,(245,170),(255,220),(255,255,255),4)# R hand\n",
    "img10 = cv2.line(black_img2,(157,226),(175,171),(255,255,255),4)# L hand \n",
    "img10 = cv2.line(black_img2,(255,217),(320,220),(0,0,255),2)# R leg\n",
    "\n",
    "\n",
    "\n",
    "\n",
    "\n",
    "\n",
    "#img9 = cv2.circle(black_img2,(258,343),5,(0,0,255),2) # L eye\n",
    "#img9 = cv2.circle(black_img2,(273,343),5,(0,0,255),2) # R eye\n",
    "#img9 = cv2.line(black_img2,(265,350),(265,450),(255,255,255),1)\n",
    "#img9 = cv2.line(black_img2,(265,390),(243,430),(255,255,255),1)\n",
    "#img9 = cv2.line(black_img2,(265,390),(278,430),(255,255,255),1)\n",
    "\n",
    "\n",
    "#img9 = cv2.circle(black_img1,(60,150),35,(255,255,255),-1)# body \n",
    "#img9 = cv2.circle(black_img1,(85,65),3,(255,255,255),-1)\n",
    "#img9 = cv2.circle(black_img1,(90,62),2,(255,255,255),-1)\n",
    "\n"
   ]
  },
  {
   "cell_type": "code",
   "execution_count": 289,
   "id": "304bf667",
   "metadata": {},
   "outputs": [],
   "source": [
    "cv2.namedWindow(\"w1\",cv2.WINDOW_NORMAL)\n",
    "cv2.imshow(\"w1\",img10)\n",
    "cv2.waitKey()\n",
    "cv2.destroyAllWindows()"
   ]
  },
  {
   "cell_type": "code",
   "execution_count": 299,
   "id": "0e7bd327",
   "metadata": {},
   "outputs": [],
   "source": [
    "black_img2 = np.zeros((500,500,3),np.uint8)\n",
    "img10 = cv2.putText(black_img2,\"After 3 Months \",(54,66), cv2.FONT_HERSHEY_SIMPLEX,1,(0,0,255),2)\n",
    "img10 = cv2.putText(black_img2,\"Machine Learning \",(300,105), cv2.FONT_HERSHEY_SIMPLEX,0.7,(225,225,255),2)\n",
    "img10 = cv2.putText(black_img2,\"Algorithms \",(305,150), cv2.FONT_HERSHEY_SIMPLEX,0.5,(225,225,255),2)\n",
    "img10 = cv2.putText(black_img2,\"student : 23\",(30,100), cv2.FONT_HERSHEY_SIMPLEX,0.5,(225,225,255),2)\n",
    "img10 = cv2.putText(black_img2,\"Label Encoding \",(305,200), cv2.FONT_HERSHEY_SIMPLEX,0.5,(225,225,255),2)\n",
    "\n",
    "img10 = cv2.rectangle(black_img2,(300,130),(480,300),(255,255,255),4)\n",
    "\n",
    "img10 = cv2.circle(black_img2,(15,350),25,(255,255,255),-1)# face\n",
    "img10 = cv2.circle(black_img2,(8,343),5,(0,0,255),2) # L eye\n",
    "img10 = cv2.circle(black_img2,(23,343),5,(0,0,255),2) # R eye\n",
    "img10 = cv2.line(black_img2,(15,350),(15,450),(255,255,255),1)\n",
    "img10 = cv2.line(black_img2,(15,390),(2,430),(255,255,255),1)\n",
    "img10 = cv2.line(black_img2,(15,390),(28,430),(255,255,255),1)\n",
    "\n",
    "img10 = cv2.circle(black_img2,(35,420),25,(190,190,190),-1)# face\n",
    "img10 = cv2.circle(black_img2,(28,413),5,(0,0,255),2) # L eye\n",
    "img10 = cv2.circle(black_img2,(43,413),5,(0,0,255),2) # R eye\n",
    "img10 = cv2.line(black_img2,(35,420),(35,500),(190,190,190),1)\n",
    "img10 = cv2.line(black_img2,(35,460),(22,500),(190,190,190),1)\n",
    "img10 = cv2.line(black_img2,(35,460),(48,500),(190,190,190),1)\n",
    "\n",
    "#img10 = cv2.circle(black_img2,(85,420),25,(190,190,190),-1)# face\n",
    "#img10 = cv2.circle(black_img2,(78,413),5,(0,0,255),2) # L eye\n",
    "#img10 = cv2.circle(black_img2,(93,413),5,(0,0,255),2) # R eye\n",
    "#img10 = cv2.line(black_img2,(85,420),(85,500),(190,190,190),1)\n",
    "#img10 = cv2.line(black_img2,(85,460),(72,500),(190,190,190),1)\n",
    "#img10 = cv2.line(black_img2,(85,460),(98,500),(190,190,190),1)\n",
    "\n",
    "img10 = cv2.circle(black_img2,(135,420),25,(190,190,190),-1)# face\n",
    "img10 = cv2.circle(black_img2,(128,413),5,(0,0,255),2) # L eye\n",
    "img10 = cv2.circle(black_img2,(143,413),5,(0,0,255),2) # R eye\n",
    "img10 = cv2.line(black_img2,(135,420),(135,500),(190,190,190),1)\n",
    "img10 = cv2.line(black_img2,(135,460),(122,500),(190,190,190),1)\n",
    "img10 = cv2.line(black_img2,(135,460),(148,500),(190,190,190),1)\n",
    "\n",
    "img10 = cv2.circle(black_img2,(185,420),25,(190,190,190),-1)# face\n",
    "img10 = cv2.circle(black_img2,(178,413),5,(0,0,255),2) # L eye\n",
    "img10 = cv2.circle(black_img2,(193,413),5,(0,0,255),2) # R eye\n",
    "img10 = cv2.line(black_img2,(185,420),(185,500),(190,190,190),1)\n",
    "img10 = cv2.line(black_img2,(185,460),(172,500),(190,190,190),1)\n",
    "img10 = cv2.line(black_img2,(185,460),(198,500),(190,190,190),1)\n",
    "\n",
    "img10 = cv2.circle(black_img2,(235,420),25,(190,190,190),-1)# face\n",
    "img10 = cv2.circle(black_img2,(228,413),5,(0,0,255),2) # L eye\n",
    "img10 = cv2.circle(black_img2,(243,413),5,(0,0,255),2) # R eye\n",
    "img10 = cv2.line(black_img2,(235,420),(235,500),(190,190,190),1)\n",
    "img10 = cv2.line(black_img2,(235,460),(222,500),(190,190,190),1)\n",
    "img10 = cv2.line(black_img2,(235,460),(248,500),(190,190,190),1)\n",
    "\n",
    "\n",
    "\n",
    "\n",
    "img10 = cv2.circle(black_img2,(65,350),25,(255,255,255),-1)# face\n",
    "img10 = cv2.circle(black_img2,(58,343),5,(0,0,255),2) # L eye\n",
    "img10 = cv2.circle(black_img2,(73,343),5,(0,0,255),2) # R eye\n",
    "img10 = cv2.line(black_img2,(65,350),(65,450),(255,255,255),1)\n",
    "img10 = cv2.line(black_img2,(65,390),(53,430),(255,255,255),1)\n",
    "img10 = cv2.line(black_img2,(65,390),(78,430),(255,255,255),1)\n",
    "\n",
    "img10 = cv2.circle(black_img2,(115,350),25,(255,255,255),-1)# face\n",
    "img10 = cv2.circle(black_img2,(108,343),5,(0,0,255),2) # L eye\n",
    "img10 = cv2.circle(black_img2,(123,343),5,(0,0,255),2) # R eye\n",
    "img10 = cv2.line(black_img2,(115,350),(115,450),(255,255,255),1)\n",
    "img10 = cv2.line(black_img2,(115,390),(103,430),(255,255,255),1)\n",
    "img10 = cv2.line(black_img2,(115,390),(128,430),(255,255,255),1)\n",
    "\n",
    "#img10 = cv2.circle(black_img2,(165,350),25,(255,255,255),-1)# face\n",
    "#img10 = cv2.circle(black_img2,(158,343),5,(0,0,255),2) # L eye\n",
    "#img10 = cv2.circle(black_img2,(173,343),5,(0,0,255),2) # R eye\n",
    "#img10 = cv2.line(black_img2,(165,350),(165,450),(255,255,255),1)\n",
    "#img10 = cv2.line(black_img2,(165,390),(143,430),(255,255,255),1)\n",
    "#img10 = cv2.line(black_img2,(165,390),(178,430),(255,255,255),1)\n",
    "\n",
    "img10 = cv2.circle(black_img2,(215,350),25,(255,255,255),-1)# face\n",
    "img10 = cv2.circle(black_img2,(208,343),5,(0,0,255),2) # L eye\n",
    "img10 = cv2.circle(black_img2,(223,343),5,(0,0,255),2) # R eye\n",
    "img10 = cv2.line(black_img2,(215,350),(215,450),(255,255,255),1)\n",
    "img10 = cv2.line(black_img2,(215,390),(193,430),(255,255,255),1)\n",
    "img10 = cv2.line(black_img2,(215,390),(228,430),(255,255,255),1)\n",
    "\n",
    "#img10 = cv2.circle(black_img2,(265,350),25,(255,255,255),-1)# face\n",
    "#img10 = cv2.circle(black_img2,(258,343),5,(0,0,255),2) # L eye\n",
    "#img10 = cv2.circle(black_img2,(273,343),5,(0,0,255),2) # R eye\n",
    "#img10 = cv2.line(black_img2,(265,350),(265,450),(255,255,255),1)\n",
    "#img10 = cv2.line(black_img2,(265,390),(243,430),(255,255,255),1)\n",
    "#img10 = cv2.line(black_img2,(265,390),(278,430),(255,255,255),1)\n",
    "\n",
    "img10 = cv2.circle(black_img2,(210,110),25,(255,255,255),-1)# face\n",
    "img10 = cv2.circle(black_img2,(210,170),35,(255,255,255),-1)# body\n",
    "img10 = cv2.circle(black_img2,(208,103),5,(0,0,255),2) # L eye\n",
    "img10 = cv2.circle(black_img2,(223,103),5,(0,0,255),2) # R eye\n",
    "img10 = cv2.line(black_img2,(195,160),(195,290),(255,255,255),6)# L leg\n",
    "img10 = cv2.line(black_img2,(220,160),(220,290),(255,255,255),6)# R leg\n",
    "img10 = cv2.line(black_img2,(245,170),(255,220),(255,255,255),4)# R hand\n",
    "img10 = cv2.line(black_img2,(157,226),(175,171),(255,255,255),4)# L hand \n",
    "img10 = cv2.line(black_img2,(255,217),(320,220),(0,0,255),2)# R leg\n",
    "\n",
    "\n",
    "\n",
    "\n",
    "\n",
    "\n",
    "#img9 = cv2.circle(black_img2,(258,343),5,(0,0,255),2) # L eye\n",
    "#img9 = cv2.circle(black_img2,(273,343),5,(0,0,255),2) # R eye\n",
    "#img9 = cv2.line(black_img2,(265,350),(265,450),(255,255,255),1)\n",
    "#img9 = cv2.line(black_img2,(265,390),(243,430),(255,255,255),1)\n",
    "#img9 = cv2.line(black_img2,(265,390),(278,430),(255,255,255),1)\n",
    "\n",
    "\n",
    "#img9 = cv2.circle(black_img1,(60,150),35,(255,255,255),-1)# body \n",
    "#img9 = cv2.circle(black_img1,(85,65),3,(255,255,255),-1)\n",
    "#img9 = cv2.circle(black_img1,(90,62),2,(255,255,255),-1)\n",
    "\n"
   ]
  },
  {
   "cell_type": "code",
   "execution_count": 300,
   "id": "e0b66981",
   "metadata": {},
   "outputs": [],
   "source": [
    "cv2.namedWindow(\"w1\",cv2.WINDOW_NORMAL)\n",
    "cv2.imshow(\"w1\",img10)\n",
    "cv2.waitKey()\n",
    "cv2.destroyAllWindows()"
   ]
  },
  {
   "cell_type": "code",
   "execution_count": 305,
   "id": "e0b58662",
   "metadata": {},
   "outputs": [],
   "source": [
    "black_img2 = np.zeros((500,500,3),np.uint8)\n",
    "img10 = cv2.putText(black_img2,\"After 5 Months \",(54,66), cv2.FONT_HERSHEY_SIMPLEX,1,(0,0,255),2)\n",
    "img10 = cv2.putText(black_img2,\"Deep Learning \",(300,105), cv2.FONT_HERSHEY_SIMPLEX,0.7,(225,225,255),2)\n",
    "img10 = cv2.putText(black_img2,\"ANN,CNN,RNN \",(305,150), cv2.FONT_HERSHEY_SIMPLEX,0.5,(225,225,255),2)\n",
    "img10 = cv2.putText(black_img2,\"student : 11\",(30,100), cv2.FONT_HERSHEY_SIMPLEX,0.5,(225,225,255),2)\n",
    "img10 = cv2.putText(black_img2,\"Derivatives,weights\",(305,200), cv2.FONT_HERSHEY_SIMPLEX,0.5,(225,225,255),2)\n",
    "\n",
    "img10 = cv2.rectangle(black_img2,(300,130),(480,300),(255,255,255),4)\n",
    "\n",
    "img10 = cv2.circle(black_img2,(15,350),25,(255,255,255),-1)# face\n",
    "img10 = cv2.circle(black_img2,(8,343),5,(0,0,255),2) # L eye\n",
    "img10 = cv2.circle(black_img2,(23,343),5,(0,0,255),2) # R eye\n",
    "img10 = cv2.line(black_img2,(15,350),(15,450),(255,255,255),1)\n",
    "img10 = cv2.line(black_img2,(15,390),(2,430),(255,255,255),1)\n",
    "img10 = cv2.line(black_img2,(15,390),(28,430),(255,255,255),1)\n",
    "\n",
    "#img10 = cv2.circle(black_img2,(35,420),25,(190,190,190),-1)# face\n",
    "#img10 = cv2.circle(black_img2,(28,413),5,(0,0,255),2) # L eye\n",
    "#img10 = cv2.circle(black_img2,(43,413),5,(0,0,255),2) # R eye\n",
    "#img10 = cv2.line(black_img2,(35,420),(35,500),(190,190,190),1)\n",
    "#img10 = cv2.line(black_img2,(35,460),(22,500),(190,190,190),1)\n",
    "#img10 = cv2.line(black_img2,(35,460),(48,500),(190,190,190),1)\n",
    "\n",
    "#img10 = cv2.circle(black_img2,(85,420),25,(190,190,190),-1)# face\n",
    "#img10 = cv2.circle(black_img2,(78,413),5,(0,0,255),2) # L eye\n",
    "#img10 = cv2.circle(black_img2,(93,413),5,(0,0,255),2) # R eye\n",
    "#img10 = cv2.line(black_img2,(85,420),(85,500),(190,190,190),1)\n",
    "#img10 = cv2.line(black_img2,(85,460),(72,500),(190,190,190),1)\n",
    "#img10 = cv2.line(black_img2,(85,460),(98,500),(190,190,190),1)\n",
    "\n",
    "img10 = cv2.circle(black_img2,(135,420),25,(190,190,190),-1)# face\n",
    "img10 = cv2.circle(black_img2,(128,413),5,(0,0,255),2) # L eye\n",
    "img10 = cv2.circle(black_img2,(143,413),5,(0,0,255),2) # R eye\n",
    "img10 = cv2.line(black_img2,(135,420),(135,500),(190,190,190),1)\n",
    "img10 = cv2.line(black_img2,(135,460),(122,500),(190,190,190),1)\n",
    "img10 = cv2.line(black_img2,(135,460),(148,500),(190,190,190),1)\n",
    "\n",
    "#img10 = cv2.circle(black_img2,(185,420),25,(190,190,190),-1)# face\n",
    "#img10 = cv2.circle(black_img2,(178,413),5,(0,0,255),2) # L eye\n",
    "#img10 = cv2.circle(black_img2,(193,413),5,(0,0,255),2) # R eye\n",
    "#img10 = cv2.line(black_img2,(185,420),(185,500),(190,190,190),1)\n",
    "#img10 = cv2.line(black_img2,(185,460),(172,500),(190,190,190),1)\n",
    "#img10 = cv2.line(black_img2,(185,460),(198,500),(190,190,190),1)\n",
    "\n",
    "img10 = cv2.circle(black_img2,(235,420),25,(190,190,190),-1)# face\n",
    "img10 = cv2.circle(black_img2,(228,413),5,(0,0,255),2) # L eye\n",
    "img10 = cv2.circle(black_img2,(243,413),5,(0,0,255),2) # R eye\n",
    "img10 = cv2.line(black_img2,(235,420),(235,500),(190,190,190),1)\n",
    "img10 = cv2.line(black_img2,(235,460),(222,500),(190,190,190),1)\n",
    "img10 = cv2.line(black_img2,(235,460),(248,500),(190,190,190),1)\n",
    "\n",
    "\n",
    "\n",
    "\n",
    "#img10 = cv2.circle(black_img2,(65,350),25,(255,255,255),-1)# face\n",
    "#img10 = cv2.circle(black_img2,(58,343),5,(0,0,255),2) # L eye\n",
    "#img10 = cv2.circle(black_img2,(73,343),5,(0,0,255),2) # R eye\n",
    "#img10 = cv2.line(black_img2,(65,350),(65,450),(255,255,255),1)\n",
    "#img10 = cv2.line(black_img2,(65,390),(53,430),(255,255,255),1)\n",
    "#img10 = cv2.line(black_img2,(65,390),(78,430),(255,255,255),1)\n",
    "\n",
    "img10 = cv2.circle(black_img2,(115,350),25,(255,255,255),-1)# face\n",
    "img10 = cv2.circle(black_img2,(108,343),5,(0,0,255),2) # L eye\n",
    "img10 = cv2.circle(black_img2,(123,343),5,(0,0,255),2) # R eye\n",
    "img10 = cv2.line(black_img2,(115,350),(115,450),(255,255,255),1)\n",
    "img10 = cv2.line(black_img2,(115,390),(103,430),(255,255,255),1)\n",
    "img10 = cv2.line(black_img2,(115,390),(128,430),(255,255,255),1)\n",
    "\n",
    "#img10 = cv2.circle(black_img2,(165,350),25,(255,255,255),-1)# face\n",
    "#img10 = cv2.circle(black_img2,(158,343),5,(0,0,255),2) # L eye\n",
    "#img10 = cv2.circle(black_img2,(173,343),5,(0,0,255),2) # R eye\n",
    "#img10 = cv2.line(black_img2,(165,350),(165,450),(255,255,255),1)\n",
    "#img10 = cv2.line(black_img2,(165,390),(143,430),(255,255,255),1)\n",
    "#img10 = cv2.line(black_img2,(165,390),(178,430),(255,255,255),1)\n",
    "\n",
    "img10 = cv2.circle(black_img2,(215,350),25,(255,255,255),-1)# face\n",
    "img10 = cv2.circle(black_img2,(208,343),5,(0,0,255),2) # L eye\n",
    "img10 = cv2.circle(black_img2,(223,343),5,(0,0,255),2) # R eye\n",
    "img10 = cv2.line(black_img2,(215,350),(215,450),(255,255,255),1)\n",
    "img10 = cv2.line(black_img2,(215,390),(193,430),(255,255,255),1)\n",
    "img10 = cv2.line(black_img2,(215,390),(228,430),(255,255,255),1)\n",
    "\n",
    "#img10 = cv2.circle(black_img2,(265,350),25,(255,255,255),-1)# face\n",
    "#img10 = cv2.circle(black_img2,(258,343),5,(0,0,255),2) # L eye\n",
    "#img10 = cv2.circle(black_img2,(273,343),5,(0,0,255),2) # R eye\n",
    "#img10 = cv2.line(black_img2,(265,350),(265,450),(255,255,255),1)\n",
    "#img10 = cv2.line(black_img2,(265,390),(243,430),(255,255,255),1)\n",
    "#img10 = cv2.line(black_img2,(265,390),(278,430),(255,255,255),1)\n",
    "\n",
    "img10 = cv2.circle(black_img2,(210,110),25,(255,255,255),-1)# face\n",
    "img10 = cv2.circle(black_img2,(210,170),35,(255,255,255),-1)# body\n",
    "img10 = cv2.circle(black_img2,(208,103),5,(0,0,255),2) # L eye\n",
    "img10 = cv2.circle(black_img2,(223,103),5,(0,0,255),2) # R eye\n",
    "img10 = cv2.line(black_img2,(195,160),(195,290),(255,255,255),6)# L leg\n",
    "img10 = cv2.line(black_img2,(220,160),(220,290),(255,255,255),6)# R leg\n",
    "img10 = cv2.line(black_img2,(245,170),(255,220),(255,255,255),4)# R hand\n",
    "img10 = cv2.line(black_img2,(157,226),(175,171),(255,255,255),4)# L hand \n",
    "img10 = cv2.line(black_img2,(255,217),(320,220),(0,0,255),2)# R leg\n",
    "\n",
    "\n",
    "\n",
    "\n",
    "\n",
    "\n",
    "#img9 = cv2.circle(black_img2,(258,343),5,(0,0,255),2) # L eye\n",
    "#img9 = cv2.circle(black_img2,(273,343),5,(0,0,255),2) # R eye\n",
    "#img9 = cv2.line(black_img2,(265,350),(265,450),(255,255,255),1)\n",
    "#img9 = cv2.line(black_img2,(265,390),(243,430),(255,255,255),1)\n",
    "#img9 = cv2.line(black_img2,(265,390),(278,430),(255,255,255),1)\n",
    "\n",
    "\n",
    "#img9 = cv2.circle(black_img1,(60,150),35,(255,255,255),-1)# body \n",
    "#img9 = cv2.circle(black_img1,(85,65),3,(255,255,255),-1)\n",
    "#img9 = cv2.circle(black_img1,(90,62),2,(255,255,255),-1)\n",
    "\n"
   ]
  },
  {
   "cell_type": "code",
   "execution_count": 306,
   "id": "079fd877",
   "metadata": {},
   "outputs": [],
   "source": [
    "cv2.namedWindow(\"w1\",cv2.WINDOW_NORMAL)\n",
    "cv2.imshow(\"w1\",img10)\n",
    "cv2.waitKey()\n",
    "cv2.destroyAllWindows()"
   ]
  },
  {
   "cell_type": "code",
   "execution_count": 2,
   "id": "612ff7e4",
   "metadata": {},
   "outputs": [],
   "source": [
    "black_img2 = np.zeros((500,500,3),np.uint8)\n",
    "img13 = cv2.putText(black_img2,\"After completing the course \",(54,66), cv2.FONT_HERSHEY_SIMPLEX,1,(0,0,255),2)"
   ]
  },
  {
   "cell_type": "code",
   "execution_count": 3,
   "id": "e4e8b681",
   "metadata": {},
   "outputs": [],
   "source": [
    "cv2.namedWindow(\"w1\",cv2.WINDOW_NORMAL)\n",
    "cv2.imshow(\"w1\",img13)\n",
    "cv2.waitKey()\n",
    "cv2.destroyAllWindows()"
   ]
  },
  {
   "cell_type": "code",
   "execution_count": 6,
   "id": "d8ba183e",
   "metadata": {},
   "outputs": [],
   "source": [
    "black_img1 = np.zeros((500,500,3),np.uint8)\n",
    "img14 = cv2.circle(black_img1,(60,90),25,(255,255,255),-1)# face\n",
    "img14 = cv2.circle(black_img1,(50,83),5,(0,0,255),2) # L eye\n",
    "img14 = cv2.circle(black_img1,(65,83),5,(0,0,255),2) # R eye\n",
    "img14 = cv2.circle(black_img1,(60,150),35,(255,255,255),-1)# body \n",
    "img14 = cv2.line(black_img1,(45,140),(45,250),(255,255,255),6)# L leg\n",
    "img14 = cv2.line(black_img1,(70,140),(70,250),(255,255,255),6)# R leg\n",
    "img14 = cv2.circle(black_img1,(85,65),3,(255,255,255),-1)\n",
    "img14 = cv2.circle(black_img1,(90,62),2,(255,255,255),-1)\n",
    "img14 = cv2.line(black_img1,(95,150),(105,200),(255,255,255),4)# R hand\n",
    "img14 = cv2.line(black_img1,(7,196),(25,151),(255,255,255),4)# L hand \n",
    "img14 = cv2.circle(black_img1,(128,53),45,(255,255,0),-1)\n",
    "img15 =cv2.putText(img14,\"Still Looking for job\",(105,53),cv2.FONT_HERSHEY_DUPLEX,0.5,(0,0,255),2)"
   ]
  },
  {
   "cell_type": "code",
   "execution_count": 7,
   "id": "68d5aad7",
   "metadata": {},
   "outputs": [],
   "source": [
    "cv2.namedWindow(\"w1\",cv2.WINDOW_NORMAL)\n",
    "cv2.imshow(\"w1\",img14)\n",
    "cv2.waitKey()\n",
    "cv2.destroyAllWindows()"
   ]
  },
  {
   "cell_type": "code",
   "execution_count": null,
   "id": "d43f1ab3",
   "metadata": {},
   "outputs": [],
   "source": [
    "black_img2 = np.zeros((500,500,3),np.uint8)\n",
    "img17 = cv2.circle(black_img2,(60,90),25,(255,255,255),-1)# face\n",
    "img17 = cv2.circle(black_img2,(50,83),5,(0,0,255),2) # L eye\n",
    "img17 = cv2.circle(black_img2,(65,83),5,(0,0,255),2) # R eye\n",
    "img17 = cv2.circle(black_img2,(60,150),35,(255,255,255),-1)# body \n",
    "img17 = cv2.line(black_img2,(45,140),(45,250),(255,255,255),6)# L leg\n",
    "img17 = cv2.line(black_img2,(70,140),(70,250),(255,255,255),6)# R leg\n",
    "#img2 = cv2.circle(black_img2,(85,65),3,(255,255,255),-1)\n",
    "#img2 = cv2.circle(black_img2,(90,62),2,(255,255,255),-1)\n",
    "\n",
    "img17 = cv2.line(black_img2,(95,150),(105,200),(255,255,255),4)# R hand\n",
    "img17 = cv2.line(black_img2,(7,196),(25,151),(255,255,255),4)# L hand \n",
    "\n",
    "img17 = cv2.circle(black_img2,(128,53),45,(255,255,0),-1)\n",
    "img17 = cv2.putText(img6,\"I am Non-IT student\",(105,53),cv2.FONT_HERSHEY_DUPLEX,0.5,(0,0,255),1)\n",
    "img17 = cv2.circle(black_img2,(210,80),25,(255,255,255),-1) # friend face \n",
    "img17 = cv2.circle(black_img2,(210,140),35,(255,255,255),-1) # body\n",
    "img17 = cv2.circle(black_img2,(200,73),5,(0,0,255),2) # friend L eye\n",
    "img17 = cv2.circle(black_img2,(215,73),5,(0,0,255),2) # friend R eye\n",
    "img17 = cv2.line(black_img2,(195,130),(195,240),(255,255,255),6)# L leg\n",
    "img17 = cv2.line(black_img2,(220,130),(220,240),(255,255,255),6)# R leg\n",
    "\n",
    "img17 = cv2.line(black_img2,(245,140),(255,190),(255,255,255),4)# R hand\n",
    "img17 = cv2.line(black_img2,(153,186),(175,141),(255,255,255),4)# L hand\n",
    "\n",
    "#img4 = cv2.circle(black_img2,(235,55),3,(255,255,255),-1) # Text area\n",
    "#img3 = cv2.circle(black_img2,(278,43),45,(255,255,0),-1)\n",
    "#img2 = cv2.putText(img2,\"Hi bro\",(255,43), cv2.FONT_HERSHEY_DUPLEX,1,(0,0,255),2)"
   ]
  },
  {
   "cell_type": "code",
   "execution_count": null,
   "id": "25d31cc5",
   "metadata": {},
   "outputs": [],
   "source": [
    "cv2.namedWindow(\"w1\",cv2.WINDOW_NORMAL)\n",
    "cv2.imshow(\"w1\",img1)\n",
    "cv2.waitKey()\n",
    "cv2.destroyAllWindows()"
   ]
  },
  {
   "cell_type": "code",
   "execution_count": null,
   "id": "4bb06a53",
   "metadata": {},
   "outputs": [],
   "source": []
  },
  {
   "cell_type": "code",
   "execution_count": 44,
   "id": "e558d01d",
   "metadata": {},
   "outputs": [],
   "source": [
    "black_img2 = np.zeros((500,500,3),np.uint8)\n",
    "img13 = cv2.putText(black_img2,\"After completing the course \",(54,66), cv2.FONT_HERSHEY_SIMPLEX,1,(0,0,255),2)\n",
    "img13 = cv2.putText(black_img2,\"Overfitting : IF duration of course is increasing ,\" ,(54,116), cv2.FONT_HERSHEY_SIMPLEX,0.5,(150,255,255),2)\n",
    "img13 = cv2.putText(black_img2,\"             no of student is reduce (more learning )\" ,(54,146), cv2.FONT_HERSHEY_SIMPLEX,0.5,(150,255,255),2)\n",
    "\n",
    "img13 = cv2.putText(black_img2,\"Underfitting : IF duration of course less ,\" ,(54,216), cv2.FONT_HERSHEY_SIMPLEX,0.5,(150,255,255),2)\n",
    "img13 = cv2.putText(black_img2,\"              no of student will more (no learning )\" ,(54,246), cv2.FONT_HERSHEY_SIMPLEX,0.5,(150,255,255),2)\n"
   ]
  },
  {
   "cell_type": "code",
   "execution_count": 45,
   "id": "c6f92512",
   "metadata": {},
   "outputs": [],
   "source": [
    "cv2.namedWindow(\"w1\",cv2.WINDOW_NORMAL)\n",
    "cv2.imshow(\"w1\",img13)\n",
    "cv2.waitKey()\n",
    "cv2.destroyAllWindows()"
   ]
  },
  {
   "cell_type": "code",
   "execution_count": 46,
   "id": "7b8d6e36",
   "metadata": {},
   "outputs": [
    {
     "data": {
      "text/plain": [
       "True"
      ]
     },
     "execution_count": 46,
     "metadata": {},
     "output_type": "execute_result"
    }
   ],
   "source": [
    "cv2.imwrite(r\"C:\\Users\\ADMIN\\Pictures\\Screenshots\\j13.jpg\",img13)"
   ]
  },
  {
   "cell_type": "code",
   "execution_count": null,
   "id": "adacdd4c",
   "metadata": {},
   "outputs": [],
   "source": []
  },
  {
   "cell_type": "code",
   "execution_count": null,
   "id": "03066444",
   "metadata": {},
   "outputs": [],
   "source": []
  },
  {
   "cell_type": "code",
   "execution_count": null,
   "id": "548f217c",
   "metadata": {},
   "outputs": [],
   "source": []
  },
  {
   "cell_type": "code",
   "execution_count": null,
   "id": "d154ceb7",
   "metadata": {},
   "outputs": [],
   "source": []
  },
  {
   "cell_type": "code",
   "execution_count": null,
   "id": "c500667a",
   "metadata": {},
   "outputs": [],
   "source": []
  },
  {
   "cell_type": "code",
   "execution_count": null,
   "id": "3a413905",
   "metadata": {},
   "outputs": [],
   "source": []
  },
  {
   "cell_type": "code",
   "execution_count": null,
   "id": "b622fb88",
   "metadata": {},
   "outputs": [],
   "source": []
  },
  {
   "cell_type": "code",
   "execution_count": null,
   "id": "00d51c47",
   "metadata": {},
   "outputs": [],
   "source": []
  },
  {
   "cell_type": "code",
   "execution_count": null,
   "id": "07f9814c",
   "metadata": {},
   "outputs": [],
   "source": []
  },
  {
   "cell_type": "code",
   "execution_count": null,
   "id": "294863a6",
   "metadata": {},
   "outputs": [],
   "source": []
  },
  {
   "cell_type": "code",
   "execution_count": null,
   "id": "24f171d0",
   "metadata": {},
   "outputs": [],
   "source": []
  },
  {
   "cell_type": "code",
   "execution_count": null,
   "id": "32fe524c",
   "metadata": {},
   "outputs": [],
   "source": []
  },
  {
   "cell_type": "code",
   "execution_count": null,
   "id": "8f76709f",
   "metadata": {},
   "outputs": [],
   "source": []
  },
  {
   "cell_type": "code",
   "execution_count": 67,
   "id": "5deffce7",
   "metadata": {
    "scrolled": true
   },
   "outputs": [
    {
     "data": {
      "text/plain": [
       "True"
      ]
     },
     "execution_count": 67,
     "metadata": {},
     "output_type": "execute_result"
    }
   ],
   "source": [
    "cv2.imwrite(r\"C:\\Users\\ADMIN\\Pictures\\Screenshots\\j1.jpg\",img1)"
   ]
  },
  {
   "cell_type": "code",
   "execution_count": 77,
   "id": "676692bd",
   "metadata": {},
   "outputs": [
    {
     "data": {
      "text/plain": [
       "True"
      ]
     },
     "execution_count": 77,
     "metadata": {},
     "output_type": "execute_result"
    }
   ],
   "source": [
    "cv2.imwrite(r\"C:\\Users\\ADMIN\\Pictures\\Screenshots\\j2.jpg\",img2)"
   ]
  },
  {
   "cell_type": "code",
   "execution_count": 78,
   "id": "cf4b07f5",
   "metadata": {},
   "outputs": [
    {
     "data": {
      "text/plain": [
       "True"
      ]
     },
     "execution_count": 78,
     "metadata": {},
     "output_type": "execute_result"
    }
   ],
   "source": [
    "cv2.imwrite(r\"C:\\Users\\ADMIN\\Pictures\\Screenshots\\j3.jpg\",img3)"
   ]
  },
  {
   "cell_type": "code",
   "execution_count": 87,
   "id": "14e69edd",
   "metadata": {},
   "outputs": [
    {
     "data": {
      "text/plain": [
       "True"
      ]
     },
     "execution_count": 87,
     "metadata": {},
     "output_type": "execute_result"
    }
   ],
   "source": [
    "cv2.imwrite(r\"C:\\Users\\ADMIN\\Pictures\\Screenshots\\j4.jpg\",img4)"
   ]
  },
  {
   "cell_type": "code",
   "execution_count": 107,
   "id": "46f1e2cf",
   "metadata": {},
   "outputs": [
    {
     "data": {
      "text/plain": [
       "True"
      ]
     },
     "execution_count": 107,
     "metadata": {},
     "output_type": "execute_result"
    }
   ],
   "source": [
    "cv2.imwrite(r\"C:\\Users\\ADMIN\\Pictures\\Screenshots\\j5.jpg\",img5)"
   ]
  },
  {
   "cell_type": "code",
   "execution_count": 116,
   "id": "9de5e5f7",
   "metadata": {},
   "outputs": [
    {
     "data": {
      "text/plain": [
       "True"
      ]
     },
     "execution_count": 116,
     "metadata": {},
     "output_type": "execute_result"
    }
   ],
   "source": [
    "cv2.imwrite(r\"C:\\Users\\ADMIN\\Pictures\\Screenshots\\j6.jpg\",img6)"
   ]
  },
  {
   "cell_type": "code",
   "execution_count": 126,
   "id": "51f61dc7",
   "metadata": {},
   "outputs": [
    {
     "data": {
      "text/plain": [
       "True"
      ]
     },
     "execution_count": 126,
     "metadata": {},
     "output_type": "execute_result"
    }
   ],
   "source": [
    "cv2.imwrite(r\"C:\\Users\\ADMIN\\Pictures\\Screenshots\\j7.jpg\",img7)"
   ]
  },
  {
   "cell_type": "code",
   "execution_count": 282,
   "id": "5eeb1f7d",
   "metadata": {},
   "outputs": [
    {
     "data": {
      "text/plain": [
       "True"
      ]
     },
     "execution_count": 282,
     "metadata": {},
     "output_type": "execute_result"
    }
   ],
   "source": [
    "cv2.imwrite(r\"C:\\Users\\ADMIN\\Pictures\\Screenshots\\j8.jpg\",img8)"
   ]
  },
  {
   "cell_type": "code",
   "execution_count": 283,
   "id": "26283d43",
   "metadata": {},
   "outputs": [
    {
     "data": {
      "text/plain": [
       "True"
      ]
     },
     "execution_count": 283,
     "metadata": {},
     "output_type": "execute_result"
    }
   ],
   "source": [
    "cv2.imwrite(r\"C:\\Users\\ADMIN\\Pictures\\Screenshots\\j9.jpg\",img9)"
   ]
  },
  {
   "cell_type": "code",
   "execution_count": 290,
   "id": "4e163a8a",
   "metadata": {},
   "outputs": [
    {
     "data": {
      "text/plain": [
       "True"
      ]
     },
     "execution_count": 290,
     "metadata": {},
     "output_type": "execute_result"
    }
   ],
   "source": [
    "cv2.imwrite(r\"C:\\Users\\ADMIN\\Pictures\\Screenshots\\j10.jpg\",img10)"
   ]
  },
  {
   "cell_type": "code",
   "execution_count": 301,
   "id": "6a94f23f",
   "metadata": {},
   "outputs": [
    {
     "data": {
      "text/plain": [
       "True"
      ]
     },
     "execution_count": 301,
     "metadata": {},
     "output_type": "execute_result"
    }
   ],
   "source": [
    "cv2.imwrite(r\"C:\\Users\\ADMIN\\Pictures\\Screenshots\\j11.jpg\",img10)"
   ]
  },
  {
   "cell_type": "code",
   "execution_count": 307,
   "id": "387c7663",
   "metadata": {},
   "outputs": [
    {
     "data": {
      "text/plain": [
       "True"
      ]
     },
     "execution_count": 307,
     "metadata": {},
     "output_type": "execute_result"
    }
   ],
   "source": [
    "cv2.imwrite(r\"C:\\Users\\ADMIN\\Pictures\\Screenshots\\j12.jpg\",img10)"
   ]
  },
  {
   "cell_type": "code",
   "execution_count": 8,
   "id": "73050f8f",
   "metadata": {},
   "outputs": [
    {
     "data": {
      "text/plain": [
       "True"
      ]
     },
     "execution_count": 8,
     "metadata": {},
     "output_type": "execute_result"
    }
   ],
   "source": [
    "cv2.imwrite(r\"C:\\Users\\ADMIN\\Pictures\\Screenshots\\j13.jpg\",img13)"
   ]
  },
  {
   "cell_type": "code",
   "execution_count": 9,
   "id": "4d7d2ed8",
   "metadata": {},
   "outputs": [
    {
     "data": {
      "text/plain": [
       "True"
      ]
     },
     "execution_count": 9,
     "metadata": {},
     "output_type": "execute_result"
    }
   ],
   "source": [
    "cv2.imwrite(r\"C:\\Users\\ADMIN\\Pictures\\Screenshots\\j14.jpg\",img14)"
   ]
  },
  {
   "cell_type": "code",
   "execution_count": 17,
   "id": "1ae8d57d",
   "metadata": {},
   "outputs": [
    {
     "data": {
      "text/plain": [
       "True"
      ]
     },
     "execution_count": 17,
     "metadata": {},
     "output_type": "execute_result"
    }
   ],
   "source": [
    "cv2.imwrite(r\"C:\\Users\\ADMIN\\Pictures\\Screenshots\\j15.jpg\",img2)"
   ]
  },
  {
   "cell_type": "code",
   "execution_count": 18,
   "id": "28c59f6d",
   "metadata": {},
   "outputs": [
    {
     "data": {
      "text/plain": [
       "True"
      ]
     },
     "execution_count": 18,
     "metadata": {},
     "output_type": "execute_result"
    }
   ],
   "source": [
    "cv2.imwrite(r\"C:\\Users\\ADMIN\\Pictures\\Screenshots\\j16.jpg\",img3)"
   ]
  },
  {
   "cell_type": "code",
   "execution_count": null,
   "id": "4f57c826",
   "metadata": {},
   "outputs": [],
   "source": []
  },
  {
   "cell_type": "code",
   "execution_count": null,
   "id": "c8186ce2",
   "metadata": {},
   "outputs": [],
   "source": []
  },
  {
   "cell_type": "code",
   "execution_count": null,
   "id": "b4531c7f",
   "metadata": {},
   "outputs": [],
   "source": []
  },
  {
   "cell_type": "code",
   "execution_count": 47,
   "id": "db1d3120",
   "metadata": {},
   "outputs": [
    {
     "name": "stdout",
     "output_type": "stream",
     "text": [
      "Video 'C:\\Users\\ADMIN\\Pictures\\output_video1.mp4' created successfully.\n"
     ]
    }
   ],
   "source": [
    "import cv2\n",
    "import os \n",
    "\n",
    "# Directory where your images are located.\n",
    "image_folder = r\"C:\\Users\\ADMIN\\Pictures\\DS\"\n",
    "\n",
    "# Set the desired total video duration in seconds (60 seconds).\n",
    "total_duration_s = 40\n",
    "\n",
    "# Define the output video file name and parameters.\n",
    "output_video =r\"C:\\Users\\ADMIN\\Pictures\\output_video1.mp4\"  # Use .mp4 as the extension.\n",
    "\n",
    "# Number of images\n",
    "num_images = 14\n",
    "\n",
    "# Calculate the frame rate\n",
    "frame_rate = num_images / total_duration_s\n",
    "\n",
    "frame_size = (500, 500)  # Set the frame size as needed.\n",
    "\n",
    "# Initialize the VideoWriter with the appropriate codec.\n",
    "fourcc = cv2.VideoWriter_fourcc(*'mp4v')\n",
    "out = cv2.VideoWriter(output_video, fourcc, frame_rate, frame_size)\n",
    "\n",
    "# Loop through image file names in sequential order.\n",
    "for i in range(1,14):  # Assuming you have images img_1.png, img_2.png, img_3.png.\n",
    "    image_path = os.path.join(image_folder, f'j{i}.jpg')\n",
    "    img = cv2.imread(image_path)\n",
    "    if img is not None:\n",
    "        img = cv2.resize(img, frame_size)\n",
    "        out.write(img)\n",
    "    else:\n",
    "        print(f\"Error: Unable to read image at path {image_path}\")\n",
    "\n",
    "# Release the video writer.\n",
    "out.release()\n",
    "\n",
    "print(f\"Video '{output_video}' created successfully.\")"
   ]
  },
  {
   "cell_type": "code",
   "execution_count": null,
   "id": "01dacb40",
   "metadata": {},
   "outputs": [],
   "source": []
  }
 ],
 "metadata": {
  "kernelspec": {
   "display_name": "Python 3 (ipykernel)",
   "language": "python",
   "name": "python3"
  },
  "language_info": {
   "codemirror_mode": {
    "name": "ipython",
    "version": 3
   },
   "file_extension": ".py",
   "mimetype": "text/x-python",
   "name": "python",
   "nbconvert_exporter": "python",
   "pygments_lexer": "ipython3",
   "version": "3.9.13"
  }
 },
 "nbformat": 4,
 "nbformat_minor": 5
}
